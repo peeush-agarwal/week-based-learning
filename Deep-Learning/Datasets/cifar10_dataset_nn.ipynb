{
  "nbformat": 4,
  "nbformat_minor": 0,
  "metadata": {
    "colab": {
      "name": "cifar10_dataset_nn.ipynb",
      "provenance": [],
      "collapsed_sections": [],
      "toc_visible": true,
      "authorship_tag": "ABX9TyNdvFfbH9kCsSnpsX18GBek",
      "include_colab_link": true
    },
    "kernelspec": {
      "name": "python3",
      "display_name": "Python 3"
    }
  },
  "cells": [
    {
      "cell_type": "markdown",
      "metadata": {
        "id": "view-in-github",
        "colab_type": "text"
      },
      "source": [
        "<a href=\"https://colab.research.google.com/github/peeush-agarwal/week-based-learning/blob/master/Deep-Learning/Datasets/cifar10_dataset_nn.ipynb\" target=\"_parent\"><img src=\"https://colab.research.google.com/assets/colab-badge.svg\" alt=\"Open In Colab\"/></a>"
      ]
    },
    {
      "cell_type": "markdown",
      "metadata": {
        "id": "Tqnwq7ctbwND",
        "colab_type": "text"
      },
      "source": [
        "# CIFAR-10 dataset\n",
        "\n",
        "Train neural network to classify images in CIFAR-10 dataset. \n",
        "\n",
        "The dataset consists: \n",
        "+ 60,000 32x32 colour images in 10 classes, with 6000 images per class. \n",
        "  + 50,000 training images, and \n",
        "  + 10,000 test images."
      ]
    },
    {
      "cell_type": "markdown",
      "metadata": {
        "id": "b5UbkgfgbrK0",
        "colab_type": "text"
      },
      "source": [
        "## Import libraries"
      ]
    },
    {
      "cell_type": "code",
      "metadata": {
        "id": "w0r5wvhlYfF2",
        "colab_type": "code",
        "colab": {}
      },
      "source": [
        "import torch\n",
        "import torchvision\n",
        "from torchvision import transforms, datasets\n",
        "import torch.nn as nn\n",
        "import torch.optim as optim\n",
        "\n",
        "import numpy as np\n",
        "import matplotlib.pyplot as plt\n",
        "\n",
        "plt.style.use('dark_background')"
      ],
      "execution_count": 0,
      "outputs": []
    },
    {
      "cell_type": "code",
      "metadata": {
        "id": "5FIxZDORxGkj",
        "colab_type": "code",
        "colab": {}
      },
      "source": [
        "import mlflow\n",
        "import mlflow.pytorch"
      ],
      "execution_count": 0,
      "outputs": []
    },
    {
      "cell_type": "code",
      "metadata": {
        "id": "ZhKl5gMYySMQ",
        "colab_type": "code",
        "colab": {}
      },
      "source": [
        "class Params(object):\n",
        "  def __init__(self, batch_size, epochs, log_interval):\n",
        "    self.batch_size = batch_size\n",
        "    self.epochs = epochs\n",
        "    self.log_interval = log_interval\n",
        "\n",
        "args = Params(batch_size=512, epochs=10, log_interval=20)"
      ],
      "execution_count": 0,
      "outputs": []
    },
    {
      "cell_type": "markdown",
      "metadata": {
        "id": "hJuIjCIlbqqP",
        "colab_type": "text"
      },
      "source": [
        "## Load dataset"
      ]
    },
    {
      "cell_type": "code",
      "metadata": {
        "id": "AHlEcUO2Y2dC",
        "colab_type": "code",
        "outputId": "94de7ffa-eced-4399-c122-2fe601ccae06",
        "colab": {
          "base_uri": "https://localhost:8080/",
          "height": 50
        }
      },
      "source": [
        "trainset = datasets.CIFAR10(root='./Data', train=True, transform = transforms.ToTensor(), download=True)\n",
        "testset = datasets.CIFAR10(root='./Data', train=False, transform=transforms.ToTensor(), download=True)"
      ],
      "execution_count": 4,
      "outputs": [
        {
          "output_type": "stream",
          "text": [
            "Files already downloaded and verified\n",
            "Files already downloaded and verified\n"
          ],
          "name": "stdout"
        }
      ]
    },
    {
      "cell_type": "code",
      "metadata": {
        "id": "Gv5k5lulccxP",
        "colab_type": "code",
        "colab": {}
      },
      "source": [
        "batch_size = 4"
      ],
      "execution_count": 0,
      "outputs": []
    },
    {
      "cell_type": "code",
      "metadata": {
        "id": "XlbIMoFFcf0i",
        "colab_type": "code",
        "colab": {}
      },
      "source": [
        "trainloader = torch.utils.data.DataLoader(trainset, batch_size, shuffle=True)\n",
        "testloader = torch.utils.data.DataLoader(testset, batch_size, shuffle=False)"
      ],
      "execution_count": 0,
      "outputs": []
    },
    {
      "cell_type": "code",
      "metadata": {
        "id": "NGaEiLE3dz1J",
        "colab_type": "code",
        "outputId": "1b961d30-a6a1-4f0d-8f84-7c1b279afcfa",
        "colab": {
          "base_uri": "https://localhost:8080/",
          "height": 34
        }
      },
      "source": [
        "print(trainset.classes)"
      ],
      "execution_count": 7,
      "outputs": [
        {
          "output_type": "stream",
          "text": [
            "['airplane', 'automobile', 'bird', 'cat', 'deer', 'dog', 'frog', 'horse', 'ship', 'truck']\n"
          ],
          "name": "stdout"
        }
      ]
    },
    {
      "cell_type": "markdown",
      "metadata": {
        "id": "xfF3DzZPc0fY",
        "colab_type": "text"
      },
      "source": [
        "## Visualize sample images"
      ]
    },
    {
      "cell_type": "code",
      "metadata": {
        "id": "D-5SC-lwcq1O",
        "colab_type": "code",
        "colab": {}
      },
      "source": [
        "def imshow(images, labels):\n",
        "  plt.imshow(images.numpy().transpose((1, 2, 0)))\n",
        "  plt.title([trainset.classes[label.item()] for label in labels])\n",
        "  plt.axis('off')\n",
        "  plt.show()"
      ],
      "execution_count": 0,
      "outputs": []
    },
    {
      "cell_type": "code",
      "metadata": {
        "id": "W_ZVaWbxdZwx",
        "colab_type": "code",
        "outputId": "1988464f-5d39-41e0-ec9c-2e0562038782",
        "colab": {
          "base_uri": "https://localhost:8080/",
          "height": 168
        }
      },
      "source": [
        "images, labels = next(iter(trainloader))\n",
        "\n",
        "print(images.shape)\n",
        "images = torchvision.utils.make_grid(images)\n",
        "\n",
        "imshow(images, labels)"
      ],
      "execution_count": 9,
      "outputs": [
        {
          "output_type": "stream",
          "text": [
            "torch.Size([4, 3, 32, 32])\n"
          ],
          "name": "stdout"
        },
        {
          "output_type": "display_data",
          "data": {
            "text/plain": [
              "<Figure size 432x288 with 1 Axes>"
            ],
            "image/png": "[encoded data removed]"
          },
          "metadata": {
            "tags": []
          }
        }
      ]
    },
    {
      "cell_type": "markdown",
      "metadata": {
        "id": "7b-KN8JVfCUx",
        "colab_type": "text"
      },
      "source": [
        "## Build Neural network to classify images  "
      ]
    },
    {
      "cell_type": "markdown",
      "metadata": {
        "id": "C2s6jM3yfLLb",
        "colab_type": "text"
      },
      "source": [
        "### Prepare methods to train and evaluate different models"
      ]
    },
    {
      "cell_type": "code",
      "metadata": {
        "id": "USYuVYTYeVqg",
        "colab_type": "code",
        "colab": {}
      },
      "source": [
        "def train(model, criterion, optimizer, trainloader, device, epoch):\n",
        "  model.train()\n",
        "  running_loss = 0\n",
        "  for batch_id, data in enumerate(trainloader):\n",
        "    images, labels = data\n",
        "    images = images.to(device)\n",
        "    labels = labels.to(device)\n",
        "\n",
        "    optimizer.zero_grad()                 # Reset parameters\n",
        "\n",
        "    outputs = model(images)               # Forward pass\n",
        "    loss = criterion(outputs, labels)     # Compute loss\n",
        "    loss.backward()                       # Backpropogation\n",
        "    optimizer.step()                      # Update parameters\n",
        "\n",
        "    running_loss += loss.item()\n",
        "\n",
        "    if batch_id % args.log_interval == 0:\n",
        "      mlflow.log_metric('train_loss', loss.data.item()/len(images)*1000)"
      ],
      "execution_count": 0,
      "outputs": []
    },
    {
      "cell_type": "code",
      "metadata": {
        "id": "9QozE5V4h6XD",
        "colab_type": "code",
        "colab": {}
      },
      "source": [
        "def eval_(model, criterion, testloader, device, epoch):\n",
        "  model.eval()\n",
        "  total = 0\n",
        "  correct = 0\n",
        "  confusion_matrix = np.zeros([10, 10])\n",
        "  test_loss = 0\n",
        "\n",
        "  with torch.no_grad():\n",
        "    for data in testloader:\n",
        "      images, labels = data\n",
        "      images = images.to(device)\n",
        "      labels = labels.to(device)\n",
        "\n",
        "      outputs = model(images)\n",
        "      _, predicted = torch.max(outputs.data, 1)\n",
        "\n",
        "      test_loss += criterion(outputs, labels).data.item()\n",
        "\n",
        "      total += len(images)\n",
        "      correct += (predicted == labels).sum().data.item()\n",
        "\n",
        "      for x, y in zip(predicted.numpy(), labels.numpy()):\n",
        "        confusion_matrix[x][y] += 1\n",
        "\n",
        "    test_loss /= len(testloader)\n",
        "    accuracy = 100.0*correct/total\n",
        "\n",
        "    mlflow.log_metric('test_loss', test_loss)\n",
        "    mlflow.log_metric('accuracy', accuracy)\n",
        "    print(f'Accuracy:{accuracy}')\n",
        "\n",
        "    if epoch == args.epochs:\n",
        "      classes = np.arange(10)\n",
        "      fig, ax = plt.subplots()\n",
        "      im = ax.imshow(confusion_matrix, interpolation='nearest', cmap=plt.cm.Blues)\n",
        "      ax.figure.colorbar(im, ax=ax)\n",
        "      ax.set(xticks=np.arange(confusion_matrix.shape[1]),\n",
        "              yticks=np.arange(confusion_matrix.shape[0]),\n",
        "              xticklabels=classes, yticklabels=classes,\n",
        "              ylabel='True label',\n",
        "              xlabel='Predicted label',\n",
        "              title='Epoch %d' % epoch)\n",
        "      thresh = confusion_matrix.max() / 2.\n",
        "      for i in range(confusion_matrix.shape[0]):\n",
        "          for j in range(confusion_matrix.shape[1]):\n",
        "              ax.text(j, i, int(confusion_matrix[i, j]),\n",
        "                      ha=\"center\", va=\"center\",\n",
        "                      color=\"white\" if confusion_matrix[i, j] > thresh else \"black\")\n",
        "        \n",
        "      fig.tight_layout()\n",
        "        \n",
        "      image_path = 'images/%s.png' % (expt_id)\n",
        "      plt.savefig(image_path)\n",
        "      mlflow.log_artifact(image_path)"
      ],
      "execution_count": 0,
      "outputs": []
    },
    {
      "cell_type": "markdown",
      "metadata": {
        "id": "tVFlsrsZlEFa",
        "colab_type": "text"
      },
      "source": [
        "### Fetch computing device"
      ]
    },
    {
      "cell_type": "code",
      "metadata": {
        "id": "xD3P1hyDlHuC",
        "colab_type": "code",
        "colab": {}
      },
      "source": [
        "device = torch.device('cpu') #torch.device('cuda:0' if torch.cuda.is_available() else 'cpu')"
      ],
      "execution_count": 0,
      "outputs": []
    },
    {
      "cell_type": "code",
      "metadata": {
        "id": "-LmYFhbS7ILL",
        "colab_type": "code",
        "colab": {
          "base_uri": "https://localhost:8080/",
          "height": 34
        },
        "outputId": "4398c0d4-bcff-46b2-ee7d-278b3b3a9775"
      },
      "source": [
        "print(device)"
      ],
      "execution_count": 23,
      "outputs": [
        {
          "output_type": "stream",
          "text": [
            "cpu\n"
          ],
          "name": "stdout"
        }
      ]
    },
    {
      "cell_type": "markdown",
      "metadata": {
        "id": "AEal2YXfpByx",
        "colab_type": "text"
      },
      "source": [
        "### Load dataset again to have larger batch_size"
      ]
    },
    {
      "cell_type": "code",
      "metadata": {
        "id": "tf7mXRPBpKmH",
        "colab_type": "code",
        "colab": {}
      },
      "source": [
        "trainloader = torch.utils.data.DataLoader(trainset, args.batch_size, shuffle=True, num_workers=2)\n",
        "testloader = torch.utils.data.DataLoader(testset, args.batch_size, shuffle=False, num_workers=2)"
      ],
      "execution_count": 0,
      "outputs": []
    },
    {
      "cell_type": "markdown",
      "metadata": {
        "id": "IMzedrsfkBWf",
        "colab_type": "text"
      },
      "source": [
        "### Neural networks"
      ]
    },
    {
      "cell_type": "markdown",
      "metadata": {
        "id": "R0IhzfNQkIQq",
        "colab_type": "text"
      },
      "source": [
        "#### Basic neural network"
      ]
    },
    {
      "cell_type": "code",
      "metadata": {
        "id": "ihX_HCJZj-Lm",
        "colab_type": "code",
        "colab": {}
      },
      "source": [
        "class NN_Basic(nn.Module):\n",
        "  def __init__(self, n_hidden_nodes):\n",
        "    super(NN_Basic, self).__init__()\n",
        "\n",
        "    self.classifier = nn.Sequential(\n",
        "        nn.Linear(3*32*32, n_hidden_nodes),\n",
        "        nn.ReLU(),\n",
        "        nn.Linear(n_hidden_nodes, 10)\n",
        "    )\n",
        "  \n",
        "  def forward(self, x):\n",
        "    x = x.view(x.size()[0], -1)\n",
        "    out = self.classifier(x)\n",
        "    return out"
      ],
      "execution_count": 0,
      "outputs": []
    },
    {
      "cell_type": "markdown",
      "metadata": {
        "id": "39T5SpxG4vvx",
        "colab_type": "text"
      },
      "source": [
        "#### Hyperparameter tuning loop"
      ]
    },
    {
      "cell_type": "code",
      "metadata": {
        "id": "2RebEGzj4ywq",
        "colab_type": "code",
        "colab": {}
      },
      "source": [
        "mlflow.set_experiment('Hidden_Layer=1')\n",
        "\n",
        "for lr in [0.01, 0.02, 0.05, 0.1]:\n",
        "    for momentum in [0.9, 0.95, 0.99]:\n",
        "        for hidden_nodes in [16, 32, 48]:\n",
        "        \n",
        "            expt_id = '%d_%d_%d' % (int(lr*100), int(momentum*100), hidden_nodes)\n",
        "\n",
        "            print('\\nLR = %.2f, Momentum = %.2f, Hidden nodes = %d\\n' % (lr, momentum, hidden_nodes))\n",
        "\n",
        "            model = NN_Basic(hidden_nodes).to(device)\n",
        "\n",
        "            loss_fn = nn.CrossEntropyLoss()\n",
        "            opt = optim.SGD(model.parameters(), lr=lr, momentum = momentum)\n",
        "\n",
        "            with mlflow.start_run() as run:  \n",
        "                for key, value in vars(args).items():\n",
        "                    mlflow.log_param(key, value)\n",
        "                mlflow.log_param('lr', lr)\n",
        "                mlflow.log_param('momentum', momentum)\n",
        "                mlflow.log_param('hidden_nodes', hidden_nodes)\n",
        "\n",
        "                for epoch in range(1, args.epochs + 1):\n",
        "                    train(model, loss_fn, opt, trainloader, device, epoch)\n",
        "                    eval_(model, loss_fn, testloader, device, epoch)\n",
        "\n",
        "                mlflow.pytorch.log_model(model, \"models\")"
      ],
      "execution_count": 0,
      "outputs": []
    },
    {
      "cell_type": "markdown",
      "metadata": {
        "id": "VBOv2tRmSz37",
        "colab_type": "text"
      },
      "source": [
        "Above loop gave best accuracy(=46.21) for following params:\n",
        "+ Batch size: 512\n",
        "+ Hidden nodes: 48\n",
        "+ Lr: 0.02\n",
        "+ Momentum: 0.9\n",
        "\n",
        "Now, I'll try to run the above configuration for more epochs to see maximum accuracy our simple model can reach"
      ]
    },
    {
      "cell_type": "code",
      "metadata": {
        "id": "RHlP1S5zSzbR",
        "colab_type": "code",
        "colab": {}
      },
      "source": [
        "mlflow.set_experiment('Hidden_Layer=1,FixedHidden_LR_Momentum')\n",
        "\n",
        "for lr in [0.02]:\n",
        "    for momentum in [0.9]:\n",
        "        for hidden_nodes in [48]:\n",
        "            for n_epochs in [10, 20, 40, 50]:\n",
        "              expt_id = '%d_%d_%d_%d' % (int(lr*100), int(momentum*100), hidden_nodes, n_epochs)\n",
        "\n",
        "              print('\\nLR = %.2f, Momentum = %.2f, Hidden nodes = %d, Epochs = %d\\n' % (lr, momentum, hidden_nodes, n_epochs))\n",
        "\n",
        "              model = NN_Basic(hidden_nodes).to(device)\n",
        "\n",
        "              loss_fn = nn.CrossEntropyLoss()\n",
        "              opt = optim.SGD(model.parameters(), lr=lr, momentum = momentum)\n",
        "\n",
        "              args.epochs = n_epochs\n",
        "              with mlflow.start_run() as run:  \n",
        "                  for key, value in vars(args).items():\n",
        "                      mlflow.log_param(key, value)\n",
        "                  mlflow.log_param('lr', lr)\n",
        "                  mlflow.log_param('momentum', momentum)\n",
        "                  mlflow.log_param('hidden_nodes', hidden_nodes)\n",
        "\n",
        "                  for epoch in range(1, args.epochs + 1):\n",
        "                      train(model, loss_fn, opt, trainloader, device, epoch)\n",
        "                      eval_(model, loss_fn, testloader, device, epoch)\n",
        "\n",
        "                  mlflow.pytorch.log_model(model, \"models\")"
      ],
      "execution_count": 0,
      "outputs": []
    },
    {
      "cell_type": "markdown",
      "metadata": {
        "id": "8jhTdSCQll11",
        "colab_type": "text"
      },
      "source": [
        "Above loop gave best accuracy(=49.14) for following params:\n",
        "+ Batch size: 512\n",
        "+ Hidden nodes: 48\n",
        "+ Lr: 0.02\n",
        "+ Momentum: 0.9\n",
        "+ Epochs: 40\n",
        "\n",
        "Now, I'll try to add Batch Normalization layer in Basic model to see if it helps in getting higher accuracy"
      ]
    },
    {
      "cell_type": "markdown",
      "metadata": {
        "id": "eqfeij4bVF83",
        "colab_type": "text"
      },
      "source": [
        "#### Basic Neural network with batch normalization"
      ]
    },
    {
      "cell_type": "code",
      "metadata": {
        "id": "0QhHGogXqE7Q",
        "colab_type": "code",
        "colab": {}
      },
      "source": [
        "class NN_Basic_BatchNorm(nn.Module):\n",
        "  def __init__(self, n_hidden_neurons):\n",
        "    super(NN_Basic_BatchNorm, self).__init__()\n",
        "\n",
        "    self.classifier = nn.Sequential(\n",
        "        nn.Linear(3*32*32, n_hidden_neurons),\n",
        "        nn.BatchNorm1d(n_hidden_neurons),\n",
        "        nn.ReLU(),\n",
        "        nn.Linear(n_hidden_neurons, 10)\n",
        "    )\n",
        "\n",
        "  def forward(self, x):\n",
        "    x = x.view(x.size()[0], -1)\n",
        "    out = self.classifier(x)\n",
        "\n",
        "    return out"
      ],
      "execution_count": 0,
      "outputs": []
    },
    {
      "cell_type": "markdown",
      "metadata": {
        "id": "x83pLVNaWYIZ",
        "colab_type": "text"
      },
      "source": [
        "##### Hyperparameter tuning"
      ]
    },
    {
      "cell_type": "code",
      "metadata": {
        "id": "pVoH16dsWa0b",
        "colab_type": "code",
        "colab": {}
      },
      "source": [
        "mlflow.set_experiment('Hidden_Layer=1,BatchNorm_Dropout')\n",
        "\n",
        "for lr in [0.01, 0.02]:\n",
        "  for momentum in [0.9]:\n",
        "    for hidden_nodes in [48, 96]:\n",
        "      previous_epochs = 0\n",
        "      for n_epochs in [10, 20, 50]:\n",
        "\n",
        "        exp_id = f'{int(lr*100)}_{int(momentum*100)}_{hidden_nodes}_{n_epochs}'\n",
        "\n",
        "        print(f'Lr={lr}, Momentum={momentum}, Hidden_Neurons={hidden_nodes}, Epochs={n_epochs}')\n",
        "\n",
        "        model = NN_Basic_BatchNorm(hidden_nodes).to(device)\n",
        "        criterion = nn.CrossEntropyLoss()\n",
        "        optimizer = optim.SGD(model.parameters(), lr=lr, momentum=momentum)\n",
        "        \n",
        "        args.epochs = n_epochs\n",
        "        with mlflow.start_run() as run:\n",
        "          for key, value in vars(args).items():\n",
        "            mlflow.log_param(key, value)\n",
        "          mlflow.log_param('lr', lr)\n",
        "          mlflow.log_param('momentum', momentum)\n",
        "          mlflow.log_param('hidden_nodes', hidden_nodes)\n",
        "\n",
        "          for epoch in range(n_epochs - previous_epochs):\n",
        "            train(model, criterion, optimizer, trainloader, device, epoch)\n",
        "            eval_(model, criterion, testloader, device, epoch)\n",
        "          \n",
        "          mlflow.pytorch.log_model(model, 'models')\n",
        "        \n",
        "        previous_epochs = n_epochs\n",
        "        "
      ],
      "execution_count": 0,
      "outputs": []
    },
    {
      "cell_type": "markdown",
      "metadata": {
        "id": "EswbQATzl7bK",
        "colab_type": "text"
      },
      "source": [
        "Above loop gave best accuracy(=47.23) for following params:\n",
        "+ Batch size: 512\n",
        "+ Hidden nodes: 96\n",
        "+ Lr: 0.02\n",
        "+ Momentum: 0.9\n",
        "+ Epochs: 10\n",
        "\n",
        "Now, I'll try to add another hidden layer in Basic model and check the accuracy"
      ]
    },
    {
      "cell_type": "code",
      "metadata": {
        "id": "91SIuQOMcQae",
        "colab_type": "code",
        "colab": {}
      },
      "source": [
        ""
      ],
      "execution_count": 0,
      "outputs": []
    }
  ]
}