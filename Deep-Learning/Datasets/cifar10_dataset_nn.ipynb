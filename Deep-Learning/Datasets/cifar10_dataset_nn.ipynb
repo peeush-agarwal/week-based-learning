{
  "nbformat": 4,
  "nbformat_minor": 0,
  "metadata": {
    "colab": {
      "name": "cifar10_dataset_nn.ipynb",
      "provenance": [],
      "collapsed_sections": [],
      "toc_visible": true,
      "authorship_tag": "ABX9TyMsqDHZ81nBmlPIQy/gwoYd",
      "include_colab_link": true
    },
    "kernelspec": {
      "name": "python3",
      "display_name": "Python 3"
    }
  },
  "cells": [
    {
      "cell_type": "markdown",
      "metadata": {
        "id": "view-in-github",
        "colab_type": "text"
      },
      "source": [
        "<a href=\"https://colab.research.google.com/github/peeush-agarwal/week-based-learning/blob/master/Deep-Learning/Datasets/cifar10_dataset_nn.ipynb\" target=\"_parent\"><img src=\"https://colab.research.google.com/assets/colab-badge.svg\" alt=\"Open In Colab\"/></a>"
      ]
    },
    {
      "cell_type": "markdown",
      "metadata": {
        "id": "Tqnwq7ctbwND",
        "colab_type": "text"
      },
      "source": [
        "# CIFAR-10 dataset\n",
        "\n",
        "Train neural network to classify images in CIFAR-10 dataset. \n",
        "\n",
        "The dataset consists: \n",
        "+ 60,000 32x32 colour images in 10 classes, with 6000 images per class. \n",
        "  + 50,000 training images, and \n",
        "  + 10,000 test images."
      ]
    },
    {
      "cell_type": "markdown",
      "metadata": {
        "id": "b5UbkgfgbrK0",
        "colab_type": "text"
      },
      "source": [
        "## Import libraries"
      ]
    },
    {
      "cell_type": "code",
      "metadata": {
        "id": "w0r5wvhlYfF2",
        "colab_type": "code",
        "colab": {}
      },
      "source": [
        "import torch\n",
        "import torchvision\n",
        "from torchvision import transforms, datasets\n",
        "import torch.nn as nn\n",
        "import torch.optim as optim\n",
        "\n",
        "import numpy as np\n",
        "import matplotlib.pyplot as plt\n",
        "\n",
        "plt.style.use('dark_background')"
      ],
      "execution_count": 0,
      "outputs": []
    },
    {
      "cell_type": "markdown",
      "metadata": {
        "id": "hJuIjCIlbqqP",
        "colab_type": "text"
      },
      "source": [
        "## Load dataset"
      ]
    },
    {
      "cell_type": "code",
      "metadata": {
        "id": "AHlEcUO2Y2dC",
        "colab_type": "code",
        "colab": {
          "base_uri": "https://localhost:8080/",
          "height": 50
        },
        "outputId": "2b219592-fc3a-4295-c3f0-4a2393da9a66"
      },
      "source": [
        "trainset = datasets.CIFAR10(root='./Data', train=True, transform = transforms.ToTensor(), download=True)\n",
        "testset = datasets.CIFAR10(root='./Data', train=False, transform=transforms.ToTensor(), download=True)"
      ],
      "execution_count": 2,
      "outputs": [
        {
          "output_type": "stream",
          "text": [
            "Files already downloaded and verified\n",
            "Files already downloaded and verified\n"
          ],
          "name": "stdout"
        }
      ]
    },
    {
      "cell_type": "code",
      "metadata": {
        "id": "Gv5k5lulccxP",
        "colab_type": "code",
        "colab": {}
      },
      "source": [
        "batch_size = 4"
      ],
      "execution_count": 0,
      "outputs": []
    },
    {
      "cell_type": "code",
      "metadata": {
        "id": "XlbIMoFFcf0i",
        "colab_type": "code",
        "colab": {}
      },
      "source": [
        "trainloader = torch.utils.data.DataLoader(trainset, batch_size, shuffle=True)\n",
        "testloader = torch.utils.data.DataLoader(testset, batch_size, shuffle=False)"
      ],
      "execution_count": 0,
      "outputs": []
    },
    {
      "cell_type": "code",
      "metadata": {
        "id": "NGaEiLE3dz1J",
        "colab_type": "code",
        "colab": {
          "base_uri": "https://localhost:8080/",
          "height": 34
        },
        "outputId": "fa1e1378-33aa-41ef-d6ea-f61b70e33f7a"
      },
      "source": [
        "print(trainset.classes)"
      ],
      "execution_count": 5,
      "outputs": [
        {
          "output_type": "stream",
          "text": [
            "['airplane', 'automobile', 'bird', 'cat', 'deer', 'dog', 'frog', 'horse', 'ship', 'truck']\n"
          ],
          "name": "stdout"
        }
      ]
    },
    {
      "cell_type": "markdown",
      "metadata": {
        "id": "xfF3DzZPc0fY",
        "colab_type": "text"
      },
      "source": [
        "## Visualize sample images"
      ]
    },
    {
      "cell_type": "code",
      "metadata": {
        "id": "D-5SC-lwcq1O",
        "colab_type": "code",
        "colab": {}
      },
      "source": [
        "def imshow(images, labels):\n",
        "  plt.imshow(images.numpy().transpose((1, 2, 0)))\n",
        "  plt.title([trainset.classes[label.item()] for label in labels])\n",
        "  plt.axis('off')\n",
        "  plt.show()"
      ],
      "execution_count": 0,
      "outputs": []
    },
    {
      "cell_type": "code",
      "metadata": {
        "id": "W_ZVaWbxdZwx",
        "colab_type": "code",
        "colab": {
          "base_uri": "https://localhost:8080/",
          "height": 151
        },
        "outputId": "dd56b2b9-efe0-438a-8111-4950de835dd2"
      },
      "source": [
        "images, labels = next(iter(trainloader))\n",
        "\n",
        "print(images.shape)\n",
        "images = torchvision.utils.make_grid(images)\n",
        "\n",
        "imshow(images, labels)"
      ],
      "execution_count": 7,
      "outputs": [
        {
          "output_type": "stream",
          "text": [
            "torch.Size([4, 3, 32, 32])\n"
          ],
          "name": "stdout"
        },
        {
          "output_type": "display_data",
          "data": {
            "image/png": "[encoded data removed]",
            "text/plain": [
              "<Figure size 432x288 with 1 Axes>"
            ]
          },
          "metadata": {
            "tags": [],
            "needs_background": "dark"
          }
        }
      ]
    },
    {
      "cell_type": "markdown",
      "metadata": {
        "id": "7b-KN8JVfCUx",
        "colab_type": "text"
      },
      "source": [
        "## Build Neural network to classify images  "
      ]
    },
    {
      "cell_type": "markdown",
      "metadata": {
        "id": "C2s6jM3yfLLb",
        "colab_type": "text"
      },
      "source": [
        "### Prepare methods to train and evaluate different models"
      ]
    },
    {
      "cell_type": "code",
      "metadata": {
        "id": "USYuVYTYeVqg",
        "colab_type": "code",
        "colab": {}
      },
      "source": [
        "def train(model, criterion, optimizer, trainloader, device, n_epochs, display_loss = True):\n",
        "  epoch_loss = []\n",
        "  for epoch in range(n_epochs):\n",
        "    running_loss = 0\n",
        "    for batch_id, data in enumerate(trainloader):\n",
        "      images, labels = data\n",
        "      images = images.to(device)\n",
        "      labels = labels.to(device)\n",
        "\n",
        "      optimizer.zero_grad()                 # Reset parameters\n",
        "\n",
        "      outputs = model(images)               # Forward pass\n",
        "      loss = criterion(outputs, labels)     # Compute loss\n",
        "      loss.backward()                       # Backpropogation\n",
        "      optimizer.step()                      # Update parameters\n",
        "\n",
        "      running_loss += loss.item()\n",
        "    epoch_loss.append(running_loss/len(trainloader))\n",
        "  \n",
        "  if display_loss:\n",
        "    plt.plot(epoch_loss)\n",
        "    plt.title(f'Epoch loss: Min={min(epoch_loss):.4f}, Max={max(epoch_loss):.4f}')\n",
        "    plt.xlabel('Epochs')\n",
        "    plt.ylabel('Loss')\n",
        "    plt.show()"
      ],
      "execution_count": 0,
      "outputs": []
    },
    {
      "cell_type": "code",
      "metadata": {
        "id": "9QozE5V4h6XD",
        "colab_type": "code",
        "colab": {}
      },
      "source": [
        "def eval_(model, criterion, testloader, device):\n",
        "  model.eval()\n",
        "  with torch.no_grad():\n",
        "    total = 0\n",
        "    correct = 0\n",
        "    for data in testloader:\n",
        "      images, labels = data\n",
        "      images = images.to(device)\n",
        "      labels = labels.to(device)\n",
        "\n",
        "      outputs = model(images)\n",
        "      _, predicted = torch.max(outputs.data, 1)\n",
        "\n",
        "      total += len(images)\n",
        "      correct += (predicted == labels).sum()\n",
        "    \n",
        "    print(f'Accuracy:{100.0*correct/total}')"
      ],
      "execution_count": 0,
      "outputs": []
    },
    {
      "cell_type": "markdown",
      "metadata": {
        "id": "tVFlsrsZlEFa",
        "colab_type": "text"
      },
      "source": [
        "### Fetch computing device"
      ]
    },
    {
      "cell_type": "code",
      "metadata": {
        "id": "xD3P1hyDlHuC",
        "colab_type": "code",
        "colab": {}
      },
      "source": [
        "device = 'cuda:0' if torch.cuda.is_available() else 'cpu'"
      ],
      "execution_count": 0,
      "outputs": []
    },
    {
      "cell_type": "markdown",
      "metadata": {
        "id": "AEal2YXfpByx",
        "colab_type": "text"
      },
      "source": [
        "### Load dataset again to have larger batch_size"
      ]
    },
    {
      "cell_type": "code",
      "metadata": {
        "id": "2dPFNRjHpBXf",
        "colab_type": "code",
        "colab": {}
      },
      "source": [
        "batch_size = 512"
      ],
      "execution_count": 0,
      "outputs": []
    },
    {
      "cell_type": "code",
      "metadata": {
        "id": "tf7mXRPBpKmH",
        "colab_type": "code",
        "colab": {}
      },
      "source": [
        "trainloader = torch.utils.data.DataLoader(trainset, batch_size, shuffle=True, num_workers=2)\n",
        "testloader = torch.utils.data.DataLoader(testset, batch_size, shuffle=False, num_workers=2)"
      ],
      "execution_count": 0,
      "outputs": []
    },
    {
      "cell_type": "markdown",
      "metadata": {
        "id": "IMzedrsfkBWf",
        "colab_type": "text"
      },
      "source": [
        "### Neural networks"
      ]
    },
    {
      "cell_type": "markdown",
      "metadata": {
        "id": "R0IhzfNQkIQq",
        "colab_type": "text"
      },
      "source": [
        "#### Basic neural network"
      ]
    },
    {
      "cell_type": "code",
      "metadata": {
        "id": "ihX_HCJZj-Lm",
        "colab_type": "code",
        "colab": {}
      },
      "source": [
        "class NN_Basic(nn.Module):\n",
        "  def __init__(self):\n",
        "    super(NN_Basic, self).__init__()\n",
        "\n",
        "    self.classifier = nn.Sequential(\n",
        "        nn.Linear(3*32*32, 32),\n",
        "        nn.ReLU(),\n",
        "        nn.Linear(32, 10)\n",
        "    )\n",
        "  \n",
        "  def forward(self, x):\n",
        "    x = x.view(-1, 3*32*32)\n",
        "    out = self.classifier(x)\n",
        "    return out"
      ],
      "execution_count": 0,
      "outputs": []
    },
    {
      "cell_type": "code",
      "metadata": {
        "id": "2X9zBBJck_WI",
        "colab_type": "code",
        "colab": {}
      },
      "source": [
        "model_basic = NN_Basic().to(device)\n",
        "criterion = nn.CrossEntropyLoss()\n",
        "optimizer = optim.SGD(model_basic.parameters(), lr=0.01)"
      ],
      "execution_count": 0,
      "outputs": []
    },
    {
      "cell_type": "code",
      "metadata": {
        "id": "IFGcVUDBpcyn",
        "colab_type": "code",
        "colab": {
          "base_uri": "https://localhost:8080/",
          "height": 34
        },
        "outputId": "b28fc81d-adfe-4141-f5b5-bf7359065f9e"
      },
      "source": [
        "print(f'BasicModel-HiddenLayer:1,Neurons:32,LR=0.01,BatchSize:512, Epochs:10')"
      ],
      "execution_count": 18,
      "outputs": [
        {
          "output_type": "stream",
          "text": [
            "BasicModel-HiddenLayer:1,Neurons:32,LR=0.01,BatchSize:512, Epochs:10\n"
          ],
          "name": "stdout"
        }
      ]
    },
    {
      "cell_type": "code",
      "metadata": {
        "id": "y07ETWRwlgDI",
        "colab_type": "code",
        "colab": {
          "base_uri": "https://localhost:8080/",
          "height": 329
        },
        "outputId": "4de84261-6ba0-4327-81bc-c9bf32af327c"
      },
      "source": [
        "%%time\n",
        "train(model_basic, criterion, optimizer, trainloader, device, n_epochs=10)"
      ],
      "execution_count": 19,
      "outputs": [
        {
          "output_type": "display_data",
          "data": {
            "image/png": "[encoded data removed]",
            "text/plain": [
              "<Figure size 432x288 with 1 Axes>"
            ]
          },
          "metadata": {
            "tags": [],
            "needs_background": "dark"
          }
        },
        {
          "output_type": "stream",
          "text": [
            "CPU times: user 9.16 s, sys: 1.82 s, total: 11 s\n",
            "Wall time: 1min 1s\n"
          ],
          "name": "stdout"
        }
      ]
    },
    {
      "cell_type": "code",
      "metadata": {
        "id": "v6cJoO9DlydQ",
        "colab_type": "code",
        "colab": {
          "base_uri": "https://localhost:8080/",
          "height": 34
        },
        "outputId": "aa8d8398-ebdd-4641-99a7-2debb9a4eb99"
      },
      "source": [
        "eval_(model_basic, criterion, testloader, device)"
      ],
      "execution_count": 21,
      "outputs": [
        {
          "output_type": "stream",
          "text": [
            "Accuracy:35.91999816894531\n"
          ],
          "name": "stdout"
        }
      ]
    },
    {
      "cell_type": "code",
      "metadata": {
        "id": "0QhHGogXqE7Q",
        "colab_type": "code",
        "colab": {}
      },
      "source": [
        ""
      ],
      "execution_count": 0,
      "outputs": []
    }
  ]
}