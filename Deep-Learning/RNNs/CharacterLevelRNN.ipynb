{
  "nbformat": 4,
  "nbformat_minor": 0,
  "metadata": {
    "colab": {
      "name": "CharacterLevelRNN.ipynb",
      "provenance": [],
      "mount_file_id": "1ujNTjWKDb2JfxKbb6XrmrzmIzbfyOrna",
      "authorship_tag": "ABX9TyNYnXUFLYPVxDXNyHPh4gG6",
      "include_colab_link": true
    },
    "kernelspec": {
      "name": "python3",
      "display_name": "Python 3"
    }
  },
  "cells": [
    {
      "cell_type": "markdown",
      "metadata": {
        "id": "view-in-github",
        "colab_type": "text"
      },
      "source": [
        "<a href=\"https://colab.research.google.com/github/peeush-agarwal/week-based-learning/blob/master/Deep-Learning/RNNs/CharacterLevelRNN.ipynb\" target=\"_parent\"><img src=\"https://colab.research.google.com/assets/colab-badge.svg\" alt=\"Open In Colab\"/></a>"
      ]
    },
    {
      "cell_type": "markdown",
      "metadata": {
        "id": "njQ3MyH4bm8M",
        "colab_type": "text"
      },
      "source": [
        "# Character Level RNN tutorial"
      ]
    },
    {
      "cell_type": "markdown",
      "metadata": {
        "id": "CUBpa_Utbqk7",
        "colab_type": "text"
      },
      "source": [
        "## Goal\n",
        "\n",
        "The purpose of this tutorial is to train a RNN model which learns language from give names and then able to predict language for specific name."
      ]
    },
    {
      "cell_type": "markdown",
      "metadata": {
        "id": "VXdiqn-UcDYK",
        "colab_type": "text"
      },
      "source": [
        "## Download dataset\n",
        "\n",
        "+ Download dataset from [here](https://download.pytorch.org/tutorial/data.zip)\n",
        "+ Dataset consists of text files for each language\n",
        "+ Each text file contains names in each line"
      ]
    },
    {
      "cell_type": "code",
      "metadata": {
        "id": "BvppPnSIep_a",
        "colab_type": "code",
        "outputId": "9dd73745-31f3-4ad6-e8d6-377b358eb1a7",
        "colab": {
          "base_uri": "https://localhost:8080/",
          "height": 391
        }
      },
      "source": [
        "! unzip '/content/drive/My Drive/Colab Notebooks/data.zip'"
      ],
      "execution_count": 1,
      "outputs": [
        {
          "output_type": "stream",
          "text": [
            "Archive:  /content/drive/My Drive/Colab Notebooks/data.zip\n",
            "   creating: data/\n",
            "  inflating: data/eng-fra.txt        \n",
            "   creating: data/names/\n",
            "  inflating: data/names/Arabic.txt   \n",
            "  inflating: data/names/Chinese.txt  \n",
            "  inflating: data/names/Czech.txt    \n",
            "  inflating: data/names/Dutch.txt    \n",
            "  inflating: data/names/English.txt  \n",
            "  inflating: data/names/French.txt   \n",
            "  inflating: data/names/German.txt   \n",
            "  inflating: data/names/Greek.txt    \n",
            "  inflating: data/names/Irish.txt    \n",
            "  inflating: data/names/Italian.txt  \n",
            "  inflating: data/names/Japanese.txt  \n",
            "  inflating: data/names/Korean.txt   \n",
            "  inflating: data/names/Polish.txt   \n",
            "  inflating: data/names/Portuguese.txt  \n",
            "  inflating: data/names/Russian.txt  \n",
            "  inflating: data/names/Scottish.txt  \n",
            "  inflating: data/names/Spanish.txt  \n",
            "  inflating: data/names/Vietnamese.txt  \n"
          ],
          "name": "stdout"
        }
      ]
    },
    {
      "cell_type": "markdown",
      "metadata": {
        "id": "0zlZ8htbc3Q1",
        "colab_type": "text"
      },
      "source": [
        "## Import required libraries"
      ]
    },
    {
      "cell_type": "code",
      "metadata": {
        "id": "oBWYicKVfbuH",
        "colab_type": "code",
        "colab": {}
      },
      "source": [
        "import os\n",
        "import glob\n",
        "from io import open\n",
        "import unicodedata\n",
        "import string\n",
        "import random\n",
        "\n",
        "import torch\n",
        "import torch.nn as nn\n",
        "import torch.optim as optim"
      ],
      "execution_count": 0,
      "outputs": []
    },
    {
      "cell_type": "markdown",
      "metadata": {
        "id": "YWhszzKsbd1j",
        "colab_type": "text"
      },
      "source": [
        "## Data preprocessing"
      ]
    },
    {
      "cell_type": "code",
      "metadata": {
        "id": "M0SxJNAQfL50",
        "colab_type": "code",
        "colab": {}
      },
      "source": [
        "base_path = 'data/names'"
      ],
      "execution_count": 0,
      "outputs": []
    },
    {
      "cell_type": "code",
      "metadata": {
        "id": "PgXvnuR3kW-8",
        "colab_type": "code",
        "outputId": "91a43e8c-952e-4ed3-87bc-0dd4542c1c58",
        "colab": {
          "base_uri": "https://localhost:8080/",
          "height": 51
        }
      },
      "source": [
        "# all_letters is the vocabulary which our model trains on.\n",
        "all_letters = string.ascii_letters + \" .,;'\"\n",
        "n_letters = len(all_letters)\n",
        "\n",
        "print(all_letters)\n",
        "print(n_letters)"
      ],
      "execution_count": 4,
      "outputs": [
        {
          "output_type": "stream",
          "text": [
            "abcdefghijklmnopqrstuvwxyzABCDEFGHIJKLMNOPQRSTUVWXYZ .,;'\n",
            "57\n"
          ],
          "name": "stdout"
        }
      ]
    },
    {
      "cell_type": "code",
      "metadata": {
        "id": "wo4r-ly6kMaV",
        "colab_type": "code",
        "outputId": "9df8321d-1c8e-4bb0-fd03-340510cac715",
        "colab": {
          "base_uri": "https://localhost:8080/",
          "height": 34
        }
      },
      "source": [
        "# Turn a Unicode string to plain ASCII, thanks to http://stackoverflow.com/a/518232/2809427\n",
        "def unicodeToAscii(s):\n",
        "    return ''.join(\n",
        "        c for c in unicodedata.normalize('NFD', s)\n",
        "        if unicodedata.category(c) != 'Mn'\n",
        "        and c in all_letters\n",
        "    )\n",
        "\n",
        "print(unicodeToAscii('Ślusàrski'))"
      ],
      "execution_count": 5,
      "outputs": [
        {
          "output_type": "stream",
          "text": [
            "Slusarski\n"
          ],
          "name": "stdout"
        }
      ]
    },
    {
      "cell_type": "markdown",
      "metadata": {
        "id": "AAeALczlddmM",
        "colab_type": "text"
      },
      "source": [
        "### Prepare dictionary of \"Language\":\"List of all names\" by reading from all files"
      ]
    },
    {
      "cell_type": "code",
      "metadata": {
        "id": "fsV_ZhL_fgNa",
        "colab_type": "code",
        "colab": {}
      },
      "source": [
        "all_categories = []\n",
        "category_line = {}\n",
        "for data_file in glob.glob(base_path+'/*.txt'):\n",
        "  category = os.path.splitext(os.path.basename(data_file))[0]\n",
        "  all_categories.append(category)\n",
        "  lines = open(data_file).read().strip().split('\\n')\n",
        "  category_line[category] = [unicodeToAscii(line) for line in lines]\n",
        "n_categories = len(all_categories)"
      ],
      "execution_count": 0,
      "outputs": []
    },
    {
      "cell_type": "code",
      "metadata": {
        "id": "bOP05lm7ga5a",
        "colab_type": "code",
        "outputId": "8d9774c1-9869-486e-e440-d9280ae543da",
        "colab": {
          "base_uri": "https://localhost:8080/",
          "height": 340
        }
      },
      "source": [
        "print(n_categories)\n",
        "for k, v in category_line.items():\n",
        "  print(f\"{k}: {len(v)} - {', '.join(v[:5])}\")"
      ],
      "execution_count": 12,
      "outputs": [
        {
          "output_type": "stream",
          "text": [
            "18\n",
            "Czech: 519 - Abl, Adsit, Ajdrna, Alt, Antonowitsch\n",
            "French: 277 - Abel, Abraham, Adam, Albert, Allard\n",
            "Greek: 203 - Adamidis, Adamou, Agelakos, Akrivopoulos, Alexandropoulos\n",
            "Russian: 9408 - Ababko, Abaev, Abagyan, Abaidulin, Abaidullin\n",
            "Vietnamese: 73 - Nguyen, Tron, Le, Pham, Huynh\n",
            "Arabic: 2000 - Khoury, Nahas, Daher, Gerges, Nazari\n",
            "Irish: 232 - Adam, Ahearn, Aodh, Aodha, Aonghuis\n",
            "Scottish: 100 - Smith, Brown, Wilson, Campbell, Stewart\n",
            "Chinese: 268 - Ang, AuYong, Bai, Ban, Bao\n",
            "German: 724 - Abbing, Abel, Abeln, Abt, Achilles\n",
            "Korean: 94 - Ahn, Baik, Bang, Byon, Cha\n",
            "Japanese: 991 - Abe, Abukara, Adachi, Aida, Aihara\n",
            "Portuguese: 74 - Abreu, Albuquerque, Almeida, Alves, Araujo\n",
            "Spanish: 298 - Abana, Abano, Abarca, Abaroa, Abascal\n",
            "Dutch: 297 - Aalsburg, Aalst, Aarle, Achteren, Achthoven\n",
            "Polish: 139 - Adamczak, Adamczyk, Andrysiak, Auttenberg, Bartosz\n",
            "Italian: 709 - Abandonato, Abatangelo, Abatantuono, Abate, Abategiovanni\n",
            "English: 3668 - Abbas, Abbey, Abbott, Abdi, Abel\n"
          ],
          "name": "stdout"
        }
      ]
    },
    {
      "cell_type": "markdown",
      "metadata": {
        "id": "PIm7oCfQeDyS",
        "colab_type": "text"
      },
      "source": [
        "### Convert names to One-hot representation tensors"
      ]
    },
    {
      "cell_type": "code",
      "metadata": {
        "id": "FOe_tNlel26T",
        "colab_type": "code",
        "outputId": "f78e2d1d-00d3-44f2-c6ed-e98ff331b4c6",
        "colab": {
          "base_uri": "https://localhost:8080/",
          "height": 102
        }
      },
      "source": [
        "def charToTensor(c):\n",
        "  tensor = torch.zeros((1, n_letters))\n",
        "  tensor[0][all_letters.find(c)] = 1\n",
        "  return tensor\n",
        "\n",
        "print(charToTensor('b'))\n",
        "print(charToTensor('b').shape)"
      ],
      "execution_count": 7,
      "outputs": [
        {
          "output_type": "stream",
          "text": [
            "tensor([[0., 1., 0., 0., 0., 0., 0., 0., 0., 0., 0., 0., 0., 0., 0., 0., 0., 0.,\n",
            "         0., 0., 0., 0., 0., 0., 0., 0., 0., 0., 0., 0., 0., 0., 0., 0., 0., 0.,\n",
            "         0., 0., 0., 0., 0., 0., 0., 0., 0., 0., 0., 0., 0., 0., 0., 0., 0., 0.,\n",
            "         0., 0., 0.]])\n",
            "torch.Size([1, 57])\n"
          ],
          "name": "stdout"
        }
      ]
    },
    {
      "cell_type": "code",
      "metadata": {
        "id": "tg1oU8T1mXU2",
        "colab_type": "code",
        "outputId": "83da1182-45e3-44e2-89f6-bb5aecea3b88",
        "colab": {
          "base_uri": "https://localhost:8080/",
          "height": 272
        }
      },
      "source": [
        "def wordToTensor(word):\n",
        "  tensor = torch.empty((len(word), 1, n_letters))\n",
        "  for id, char in enumerate(word, 0):\n",
        "    tensor[id] = charToTensor(char)\n",
        "  return tensor\n",
        "\n",
        "print(wordToTensor('Alb').shape)\n",
        "print(wordToTensor('Alb'))"
      ],
      "execution_count": 8,
      "outputs": [
        {
          "output_type": "stream",
          "text": [
            "torch.Size([3, 1, 57])\n",
            "tensor([[[0., 0., 0., 0., 0., 0., 0., 0., 0., 0., 0., 0., 0., 0., 0., 0., 0.,\n",
            "          0., 0., 0., 0., 0., 0., 0., 0., 0., 1., 0., 0., 0., 0., 0., 0., 0.,\n",
            "          0., 0., 0., 0., 0., 0., 0., 0., 0., 0., 0., 0., 0., 0., 0., 0., 0.,\n",
            "          0., 0., 0., 0., 0., 0.]],\n",
            "\n",
            "        [[0., 0., 0., 0., 0., 0., 0., 0., 0., 0., 0., 1., 0., 0., 0., 0., 0.,\n",
            "          0., 0., 0., 0., 0., 0., 0., 0., 0., 0., 0., 0., 0., 0., 0., 0., 0.,\n",
            "          0., 0., 0., 0., 0., 0., 0., 0., 0., 0., 0., 0., 0., 0., 0., 0., 0.,\n",
            "          0., 0., 0., 0., 0., 0.]],\n",
            "\n",
            "        [[0., 1., 0., 0., 0., 0., 0., 0., 0., 0., 0., 0., 0., 0., 0., 0., 0.,\n",
            "          0., 0., 0., 0., 0., 0., 0., 0., 0., 0., 0., 0., 0., 0., 0., 0., 0.,\n",
            "          0., 0., 0., 0., 0., 0., 0., 0., 0., 0., 0., 0., 0., 0., 0., 0., 0.,\n",
            "          0., 0., 0., 0., 0., 0.]]])\n"
          ],
          "name": "stdout"
        }
      ]
    },
    {
      "cell_type": "markdown",
      "metadata": {
        "id": "cVr9_w_seWI9",
        "colab_type": "text"
      },
      "source": [
        "## Build a RNN model"
      ]
    },
    {
      "cell_type": "code",
      "metadata": {
        "id": "_L7hBaaWnC26",
        "colab_type": "code",
        "colab": {}
      },
      "source": [
        "class CharLevel_RNN(nn.Module):\n",
        "  def __init__(self, input_size, hidden_size, output_size):\n",
        "    super(CharLevel_RNN, self).__init__()\n",
        "\n",
        "    self.hidden_size = hidden_size\n",
        "    self.i2o = nn.Linear(input_size + hidden_size, output_size)\n",
        "    self.i2h = nn.Linear(input_size + hidden_size, hidden_size)\n",
        "\n",
        "    self.softmax = nn.LogSoftmax(dim = 1)\n",
        "  \n",
        "  def forward(self, input, hidden_state):\n",
        "    combined = torch.cat((input, hidden_state), dim=1)\n",
        "    hidden = self.i2h(combined)\n",
        "    output = self.softmax(self.i2o(combined))\n",
        "    return output, hidden\n",
        "  \n",
        "  def init_hidden(self):\n",
        "    return torch.zeros((1, self.hidden_size))"
      ],
      "execution_count": 0,
      "outputs": []
    },
    {
      "cell_type": "markdown",
      "metadata": {
        "id": "Vg-A9KHPfCSn",
        "colab_type": "text"
      },
      "source": [
        "### Initialize RNN model"
      ]
    },
    {
      "cell_type": "code",
      "metadata": {
        "id": "elhCkEs-o2xb",
        "colab_type": "code",
        "colab": {}
      },
      "source": [
        "n_hidden = 128\n",
        "model = CharLevel_RNN(n_letters, n_hidden, n_categories)\n",
        "criterion = nn.NLLLoss()\n",
        "lr = 0.001\n",
        "# optimizer = optim.SGD(model.parameters(), lr = 0.01, momentum=0.9)\n",
        "initial_hidden = model.init_hidden()"
      ],
      "execution_count": 0,
      "outputs": []
    },
    {
      "cell_type": "markdown",
      "metadata": {
        "id": "ipSvP1Y4fd3V",
        "colab_type": "text"
      },
      "source": [
        "### Prepare helper function to get category from output tensor"
      ]
    },
    {
      "cell_type": "code",
      "metadata": {
        "id": "JvDlgPkz8Y-J",
        "colab_type": "code",
        "colab": {}
      },
      "source": [
        "def categoryFromOutput(output):\n",
        "  top_n, top_i = output.topk(1)\n",
        "  category_i = top_i[0].item()\n",
        "  category = all_categories[category_i]\n",
        "  return category, category_i"
      ],
      "execution_count": 0,
      "outputs": []
    },
    {
      "cell_type": "markdown",
      "metadata": {
        "id": "5cO1T92XfjC8",
        "colab_type": "text"
      },
      "source": [
        "### Examples to run RNN model"
      ]
    },
    {
      "cell_type": "markdown",
      "metadata": {
        "id": "Tef32MfSfqcO",
        "colab_type": "text"
      },
      "source": [
        "#### Run RNN model for character 'A'"
      ]
    },
    {
      "cell_type": "code",
      "metadata": {
        "id": "NruVIrPuo6La",
        "colab_type": "code",
        "outputId": "e2860420-16e0-4a73-926c-5af744d4010c",
        "colab": {
          "base_uri": "https://localhost:8080/",
          "height": 102
        }
      },
      "source": [
        "input_tensor = charToTensor('A')\n",
        "output, hidden_state = model(input_tensor, initial_hidden)\n",
        "\n",
        "print(output)\n",
        "print(hidden_state.size())\n",
        "categoryFromOutput(output)"
      ],
      "execution_count": 18,
      "outputs": [
        {
          "output_type": "stream",
          "text": [
            "tensor([[-2.8837, -2.8982, -2.9221, -2.9845, -2.7632, -2.9916, -2.9388, -2.8066,\n",
            "         -2.8038, -2.9483, -2.9181, -2.8900, -2.8723, -2.8821, -2.8282, -2.8570,\n",
            "         -2.8738, -3.0021]], grad_fn=<LogSoftmaxBackward>)\n",
            "torch.Size([1, 128])\n"
          ],
          "name": "stdout"
        },
        {
          "output_type": "execute_result",
          "data": {
            "text/plain": [
              "('Vietnamese', 4)"
            ]
          },
          "metadata": {
            "tags": []
          },
          "execution_count": 18
        }
      ]
    },
    {
      "cell_type": "markdown",
      "metadata": {
        "id": "IK1JdCl2gLnY",
        "colab_type": "text"
      },
      "source": [
        "#### Run RNN model for name='Albert'"
      ]
    },
    {
      "cell_type": "code",
      "metadata": {
        "id": "LDfOZrVwpp1x",
        "colab_type": "code",
        "outputId": "39b91e88-965e-4ca0-cb4d-c412f55b7606",
        "colab": {
          "base_uri": "https://localhost:8080/",
          "height": 425
        }
      },
      "source": [
        "name = 'Albert'\n",
        "\n",
        "name_tensor = wordToTensor(name)\n",
        "hidden_state = model.init_hidden()\n",
        "for idx in range(name_tensor.size()[0]):\n",
        "  input_tensor = name_tensor[idx]\n",
        "  output, hidden_state = model(input_tensor, hidden_state)\n",
        "\n",
        "  print(output)\n",
        "  print(hidden_state.size())"
      ],
      "execution_count": 19,
      "outputs": [
        {
          "output_type": "stream",
          "text": [
            "tensor([[-2.8837, -2.8982, -2.9221, -2.9845, -2.7632, -2.9916, -2.9388, -2.8066,\n",
            "         -2.8038, -2.9483, -2.9181, -2.8900, -2.8723, -2.8821, -2.8282, -2.8570,\n",
            "         -2.8738, -3.0021]], grad_fn=<LogSoftmaxBackward>)\n",
            "torch.Size([1, 128])\n",
            "tensor([[-2.8962, -2.9585, -2.8766, -2.9094, -2.8525, -2.8992, -2.9320, -2.8673,\n",
            "         -2.7431, -2.9398, -2.8934, -2.9538, -2.8362, -2.9346, -2.9232, -2.8881,\n",
            "         -2.8313, -2.9156]], grad_fn=<LogSoftmaxBackward>)\n",
            "torch.Size([1, 128])\n",
            "tensor([[-2.9842, -2.9014, -2.7856, -2.8355, -2.8423, -2.9946, -2.7635, -2.8797,\n",
            "         -2.8475, -2.9726, -2.9014, -2.9717, -2.7796, -2.9090, -2.9457, -2.9414,\n",
            "         -2.8597, -2.9573]], grad_fn=<LogSoftmaxBackward>)\n",
            "torch.Size([1, 128])\n",
            "tensor([[-2.9473, -2.9635, -2.7946, -2.9562, -2.7484, -2.8982, -2.9030, -2.8570,\n",
            "         -2.7089, -3.0168, -2.9805, -3.0007, -2.7763, -2.9220, -2.9056, -2.8873,\n",
            "         -2.9029, -2.9230]], grad_fn=<LogSoftmaxBackward>)\n",
            "torch.Size([1, 128])\n",
            "tensor([[-2.8412, -2.9521, -2.8260, -2.9241, -2.7740, -2.8741, -2.8550, -2.9428,\n",
            "         -2.8614, -2.9283, -2.9689, -2.9928, -2.8830, -2.9271, -2.8081, -2.9191,\n",
            "         -2.8245, -2.9573]], grad_fn=<LogSoftmaxBackward>)\n",
            "torch.Size([1, 128])\n",
            "tensor([[-2.8883, -2.9113, -2.8399, -3.0097, -2.8042, -2.9437, -2.8298, -2.8511,\n",
            "         -2.7114, -3.0391, -2.8898, -2.9525, -2.8996, -2.8932, -2.9122, -2.8562,\n",
            "         -2.8417, -3.0074]], grad_fn=<LogSoftmaxBackward>)\n",
            "torch.Size([1, 128])\n"
          ],
          "name": "stdout"
        }
      ]
    },
    {
      "cell_type": "markdown",
      "metadata": {
        "id": "Rm9hpWYWgURA",
        "colab_type": "text"
      },
      "source": [
        "### Helper function to get random training example to train the RNN model"
      ]
    },
    {
      "cell_type": "code",
      "metadata": {
        "id": "OjrrQo7ltAVr",
        "colab_type": "code",
        "outputId": "aa9b45ea-8728-461a-bda4-6db0972385b3",
        "colab": {
          "base_uri": "https://localhost:8080/",
          "height": 272
        }
      },
      "source": [
        "def randomChoice(l):\n",
        "  return l[random.randint(0, len(l) -1)]\n",
        "\n",
        "def randomTrainingExample():\n",
        "  category = randomChoice(all_categories)\n",
        "  name = randomChoice(category_line[category])\n",
        "  category_tensor = torch.tensor([all_categories.index(category)], dtype=torch.long)\n",
        "  name_tensor = wordToTensor(name)\n",
        "  return category, name, category_tensor, name_tensor\n",
        "\n",
        "for i in range(5):\n",
        "  category, name, category_tensor, name_tensor = randomTrainingExample()\n",
        "  print(f'{category}:{name}')\n",
        "  print(category_tensor)\n",
        "  print(name_tensor.size())"
      ],
      "execution_count": 20,
      "outputs": [
        {
          "output_type": "stream",
          "text": [
            "Korean:Hyun \n",
            "tensor([10])\n",
            "torch.Size([5, 1, 57])\n",
            "German:Groos\n",
            "tensor([9])\n",
            "torch.Size([5, 1, 57])\n",
            "Irish:Milligan\n",
            "tensor([6])\n",
            "torch.Size([8, 1, 57])\n",
            "Czech:Jirku\n",
            "tensor([0])\n",
            "torch.Size([5, 1, 57])\n",
            "Korean:Cha\n",
            "tensor([10])\n",
            "torch.Size([3, 1, 57])\n"
          ],
          "name": "stdout"
        }
      ]
    },
    {
      "cell_type": "markdown",
      "metadata": {
        "id": "5jL6SGF4gii5",
        "colab_type": "text"
      },
      "source": [
        "### Helper function to train model for one name tensor"
      ]
    },
    {
      "cell_type": "code",
      "metadata": {
        "id": "7UPaqaCbxRqE",
        "colab_type": "code",
        "colab": {}
      },
      "source": [
        "def train(name_tensor, category_tensor):\n",
        "  hidden_state = model.init_hidden()\n",
        "\n",
        "  model.zero_grad()\n",
        "\n",
        "  for i in range(name_tensor.size()[0]):\n",
        "    output, hidden_state = model(name_tensor[i], hidden_state)\n",
        "  \n",
        "  loss = criterion(output, category_tensor)\n",
        "  loss.backward()\n",
        "\n",
        "  for p in model.parameters():\n",
        "    p.data.add_(-lr, p.grad.data)\n",
        "  \n",
        "  return output, loss.item()"
      ],
      "execution_count": 0,
      "outputs": []
    },
    {
      "cell_type": "markdown",
      "metadata": {
        "id": "4HOqN8bsgxjc",
        "colab_type": "text"
      },
      "source": [
        "#### Example to run train for random training example"
      ]
    },
    {
      "cell_type": "code",
      "metadata": {
        "id": "cg9ZCoWM-zCR",
        "colab_type": "code",
        "outputId": "edd4d802-133d-4077-d0e7-c4e29b6fbcc3",
        "colab": {
          "base_uri": "https://localhost:8080/",
          "height": 85
        }
      },
      "source": [
        "category, name, category_tensor, name_tensor = randomTrainingExample()\n",
        "print(name, category)\n",
        "output, loss = train(name_tensor, category_tensor)\n",
        "print(output, loss)"
      ],
      "execution_count": 22,
      "outputs": [
        {
          "output_type": "stream",
          "text": [
            "Qiu Chinese\n",
            "tensor([[-2.8828, -2.9242, -2.8554, -2.8917, -2.8358, -2.9369, -2.8671, -2.8437,\n",
            "         -2.7301, -2.9951, -2.9387, -2.9775, -2.8680, -2.9038, -2.8785, -2.9261,\n",
            "         -2.8930, -2.9083]], grad_fn=<LogSoftmaxBackward>) 2.7300899028778076\n"
          ],
          "name": "stdout"
        }
      ]
    },
    {
      "cell_type": "markdown",
      "metadata": {
        "id": "IEZqMGOehAJZ",
        "colab_type": "text"
      },
      "source": [
        "### Train the model"
      ]
    },
    {
      "cell_type": "code",
      "metadata": {
        "id": "KqOAfDlp7fpj",
        "colab_type": "code",
        "outputId": "33f8a1a9-7a53-484f-d838-25b4702f8b62",
        "colab": {
          "base_uri": "https://localhost:8080/",
          "height": 1000
        }
      },
      "source": [
        "import time\n",
        "import math\n",
        "\n",
        "n_iterations = 500000\n",
        "print_every = 5000\n",
        "plot_every = 1000\n",
        "\n",
        "# Keep track of losses for plotting\n",
        "current_loss = 0\n",
        "all_losses = []\n",
        "\n",
        "def timeSince(since):\n",
        "    now = time.time()\n",
        "    s = now - since\n",
        "    m = math.floor(s / 60)\n",
        "    s -= m * 60\n",
        "    return '%dm %ds' % (m, s)\n",
        "\n",
        "start = time.time()\n",
        "\n",
        "model.train()\n",
        "\n",
        "for i in range(n_iterations):\n",
        "  category, name, category_tensor, name_tensor = randomTrainingExample()\n",
        "  output, loss = train(name_tensor, category_tensor)\n",
        "  current_loss += loss\n",
        "\n",
        "  # Print iter number, loss, name and guess\n",
        "  if i % print_every == 0:\n",
        "      guess, guess_i = categoryFromOutput(output)\n",
        "      correct = '✓' if guess == category else '✗ (%s)' % category\n",
        "      print('%d %d%% (%s) %.4f %s / %s %s' % (i, i / n_iterations * 100, timeSince(start), loss, name, guess, correct))\n",
        "\n",
        "  # Add current loss avg to list of losses\n",
        "  if i % plot_every == 0:\n",
        "      all_losses.append(current_loss / plot_every)\n",
        "      current_loss = 0"
      ],
      "execution_count": 26,
      "outputs": [
        {
          "output_type": "stream",
          "text": [
            "0 0% (0m 0s) 2.9356 Vo / Italian ✗ (Vietnamese)\n",
            "5000 1% (0m 7s) 2.9501 Tonks / Greek ✗ (English)\n",
            "10000 2% (0m 14s) 2.9706 Hor / Scottish ✗ (Chinese)\n",
            "15000 3% (0m 21s) 2.7929 Noh / Greek ✗ (Korean)\n",
            "20000 4% (0m 28s) 1.8218 Sfakianos / Greek ✓\n",
            "25000 5% (0m 36s) 2.8909 Gray / Chinese ✗ (Scottish)\n",
            "30000 6% (0m 43s) 3.0491 Kauphsman / Russian ✗ (Czech)\n",
            "35000 7% (0m 50s) 2.6882 Sarkozi / Italian ✗ (French)\n",
            "40000 8% (0m 57s) 3.0141 Longhurst / Russian ✗ (English)\n",
            "45000 9% (1m 4s) 2.5275 Gensai / Arabic ✗ (Japanese)\n",
            "50000 10% (1m 12s) 2.1938 Hierro / Portuguese ✗ (Spanish)\n",
            "55000 11% (1m 19s) 1.2855 Kartoshkin / Russian ✓\n",
            "60000 12% (1m 26s) 2.2355 Bisset / German ✗ (French)\n",
            "65000 13% (1m 33s) 0.8188 Yan / Chinese ✓\n",
            "70000 14% (1m 40s) 4.0229 Calligaris / Greek ✗ (Italian)\n",
            "75000 15% (1m 48s) 2.0235 Frei / German ✓\n",
            "80000 16% (1m 55s) 1.1853 Wirner / German ✓\n",
            "85000 17% (2m 2s) 0.3090 Drivakis / Greek ✓\n",
            "90000 18% (2m 9s) 0.7384 Safar / Arabic ✓\n",
            "95000 19% (2m 17s) 1.2139 Kassis / Greek ✗ (Arabic)\n",
            "100000 20% (2m 24s) 2.6963 Symes / Dutch ✗ (English)\n",
            "105000 21% (2m 31s) 4.4844 Deeb / German ✗ (Arabic)\n",
            "110000 22% (2m 39s) 1.8189 Jirik / Czech ✓\n",
            "115000 23% (2m 46s) 1.4617 Dang / Chinese ✗ (Vietnamese)\n",
            "120000 24% (2m 53s) 1.5167 Zientek / Czech ✗ (Polish)\n",
            "125000 25% (3m 0s) 2.8395 Buggenum / Russian ✗ (Dutch)\n",
            "130000 26% (3m 7s) 0.7427 Pereira / Portuguese ✓\n",
            "135000 27% (3m 15s) 1.9797 Schneijder / German ✗ (Dutch)\n",
            "140000 28% (3m 22s) 2.0269 Souza / Japanese ✗ (Portuguese)\n",
            "145000 28% (3m 29s) 2.1945 Steward / Scottish ✗ (English)\n",
            "150000 30% (3m 36s) 0.8848 Rodriquez / Spanish ✓\n",
            "155000 31% (3m 43s) 1.4673 Urena / Spanish ✓\n",
            "160000 32% (3m 51s) 0.3408 Nassar / Arabic ✓\n",
            "165000 33% (3m 58s) 1.9382 Glencross / German ✗ (English)\n",
            "170000 34% (4m 5s) 0.7129 Mcintosh / Scottish ✓\n",
            "175000 35% (4m 12s) 0.2440 Winogrodzki / Polish ✓\n",
            "180000 36% (4m 20s) 0.4013 Maclean / Scottish ✓\n",
            "185000 37% (4m 27s) 2.7780 Kohl / Japanese ✗ (German)\n",
            "190000 38% (4m 34s) 0.9053 Donnchadh / Irish ✓\n",
            "195000 39% (4m 41s) 2.5554 Patril / Portuguese ✗ (Czech)\n",
            "200000 40% (4m 49s) 1.7019 Lobo / Portuguese ✓\n",
            "205000 41% (4m 56s) 0.5031 Lehrer / German ✓\n",
            "210000 42% (5m 3s) 0.1396 O'Donnell / Irish ✓\n",
            "215000 43% (5m 11s) 0.2198 Metrofanis / Greek ✓\n",
            "220000 44% (5m 18s) 0.5793 Jiao / Chinese ✓\n",
            "225000 45% (5m 25s) 2.7807 Martin / French ✗ (Scottish)\n",
            "230000 46% (5m 32s) 1.7140 Geiger / German ✓\n",
            "235000 47% (5m 39s) 0.6274 Ko / Korean ✓\n",
            "240000 48% (5m 47s) 1.4582 Serafim / Portuguese ✓\n",
            "245000 49% (5m 54s) 3.1017 Santillian / Polish ✗ (Spanish)\n",
            "250000 50% (6m 1s) 0.0410 Sklavenitis / Greek ✓\n",
            "255000 51% (6m 8s) 2.5519 Boerio / Portuguese ✗ (Italian)\n",
            "260000 52% (6m 15s) 1.8621 Duncan / Irish ✗ (Scottish)\n",
            "265000 53% (6m 22s) 0.4829 Ganim / Arabic ✓\n",
            "270000 54% (6m 30s) 0.8808 Piatek / Polish ✓\n",
            "275000 55% (6m 37s) 0.3183 Madeira / Portuguese ✓\n",
            "280000 56% (6m 44s) 0.0517 O'Ryan / Irish ✓\n",
            "285000 56% (6m 51s) 1.4933 Jeffries / German ✗ (English)\n",
            "290000 57% (6m 59s) 0.3501 Ryom / Korean ✓\n",
            "295000 59% (7m 6s) 0.1771 Beaumont / French ✓\n",
            "300000 60% (7m 13s) 1.2954 Cowley / Polish ✗ (English)\n",
            "305000 61% (7m 20s) 3.2589 Marchand / Scottish ✗ (French)\n",
            "310000 62% (7m 28s) 2.5216 Nichol / Scottish ✗ (English)\n",
            "315000 63% (7m 35s) 0.0666 Stawski / Polish ✓\n",
            "320000 64% (7m 42s) 0.9155 Maessen / Dutch ✓\n",
            "325000 65% (7m 49s) 0.2105 Totolos / Greek ✓\n",
            "330000 66% (7m 57s) 1.8057 Ungaro / Spanish ✗ (Italian)\n",
            "335000 67% (8m 4s) 0.1588 Perreault / French ✓\n",
            "340000 68% (8m 11s) 3.4310 Althuis / Portuguese ✗ (Dutch)\n",
            "345000 69% (8m 19s) 0.5946 Castro / Portuguese ✓\n",
            "350000 70% (8m 26s) 0.7548 Tsai  / Korean ✓\n",
            "355000 71% (8m 33s) 0.1100 Valyavski / Russian ✓\n",
            "360000 72% (8m 40s) 6.0293 Samuel / Arabic ✗ (Irish)\n",
            "365000 73% (8m 48s) 0.6093 Serafim / Portuguese ✓\n",
            "370000 74% (8m 55s) 1.0206 Mendes / Portuguese ✓\n",
            "375000 75% (9m 2s) 2.4788 Gosse / Arabic ✗ (French)\n",
            "380000 76% (9m 9s) 1.1883 Severins / French ✗ (Dutch)\n",
            "385000 77% (9m 16s) 1.0645 Sala / Spanish ✓\n",
            "390000 78% (9m 24s) 0.0771 Haidakin / Russian ✓\n",
            "395000 79% (9m 31s) 4.4690 Auttenberg / English ✗ (Polish)\n",
            "400000 80% (9m 38s) 0.9797 Winter / German ✓\n",
            "405000 81% (9m 46s) 2.4296 Kohl / Japanese ✗ (German)\n",
            "410000 82% (9m 53s) 0.3248 Dalach / Irish ✓\n",
            "415000 83% (10m 1s) 2.4586 Amatore / Japanese ✗ (Italian)\n",
            "420000 84% (10m 8s) 4.1769 Budny / Scottish ✗ (Polish)\n",
            "425000 85% (10m 15s) 0.7918 Chu / Vietnamese ✓\n",
            "430000 86% (10m 23s) 0.0166 O'Reilly / Irish ✓\n",
            "435000 87% (10m 30s) 0.6031 Ryu / Korean ✓\n",
            "440000 88% (10m 37s) 1.1240 Urbina / Spanish ✓\n",
            "445000 89% (10m 45s) 1.6885 Arreola / Portuguese ✗ (Spanish)\n",
            "450000 90% (10m 52s) 0.6709 Addison / English ✓\n",
            "455000 91% (10m 59s) 0.5273 Benvenuti / Italian ✓\n",
            "460000 92% (11m 6s) 1.4137 Vacca / Czech ✗ (Italian)\n",
            "465000 93% (11m 14s) 1.3243 Robles / Spanish ✓\n",
            "470000 94% (11m 21s) 1.6110 Chu / Vietnamese ✗ (Chinese)\n",
            "475000 95% (11m 28s) 0.0040 Yakushkov / Russian ✓\n",
            "480000 96% (11m 35s) 1.1298 Chung / Vietnamese ✗ (Korean)\n",
            "485000 97% (11m 43s) 1.9014 Balanowsky / Polish ✗ (Russian)\n",
            "490000 98% (11m 50s) 0.7788 Fujioka / Japanese ✓\n",
            "495000 99% (11m 58s) 1.1876 Rang / Korean ✗ (Chinese)\n"
          ],
          "name": "stdout"
        }
      ]
    },
    {
      "cell_type": "code",
      "metadata": {
        "id": "5ql5E-Ea-UuA",
        "colab_type": "code",
        "outputId": "8780bf11-484e-4fef-ece7-c42e1ff2baa7",
        "colab": {
          "base_uri": "https://localhost:8080/",
          "height": 267
        }
      },
      "source": [
        "import matplotlib.pyplot as plt\n",
        "\n",
        "plt.plot(all_losses)\n",
        "plt.show()"
      ],
      "execution_count": 27,
      "outputs": [
        {
          "output_type": "display_data",
          "data": {
            "image/png": "[encoded data removed]",
            "text/plain": [
              "<Figure size 432x288 with 1 Axes>"
            ]
          },
          "metadata": {
            "tags": [],
            "needs_background": "light"
          }
        }
      ]
    },
    {
      "cell_type": "code",
      "metadata": {
        "id": "N2TTOrHeAf6z",
        "colab_type": "code",
        "colab": {}
      },
      "source": [
        ""
      ],
      "execution_count": 0,
      "outputs": []
    }
  ]
}