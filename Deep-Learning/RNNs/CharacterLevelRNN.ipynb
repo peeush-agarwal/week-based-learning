{
  "nbformat": 4,
  "nbformat_minor": 0,
  "metadata": {
    "colab": {
      "name": "CharacterLevelRNN.ipynb",
      "provenance": [],
      "mount_file_id": "1ujNTjWKDb2JfxKbb6XrmrzmIzbfyOrna",
      "authorship_tag": "ABX9TyP4aaIM4GlPr7Ohnpt2upMZ",
      "include_colab_link": true
    },
    "kernelspec": {
      "name": "python3",
      "display_name": "Python 3"
    }
  },
  "cells": [
    {
      "cell_type": "markdown",
      "metadata": {
        "id": "view-in-github",
        "colab_type": "text"
      },
      "source": [
        "<a href=\"https://colab.research.google.com/github/peeush-agarwal/week-based-learning/blob/master/Deep-Learning/RNNs/CharacterLevelRNN.ipynb\" target=\"_parent\"><img src=\"https://colab.research.google.com/assets/colab-badge.svg\" alt=\"Open In Colab\"/></a>"
      ]
    },
    {
      "cell_type": "code",
      "metadata": {
        "id": "BvppPnSIep_a",
        "colab_type": "code",
        "colab": {
          "base_uri": "https://localhost:8080/",
          "height": 391
        },
        "outputId": "8031294e-4684-4dea-e05d-fdfaedec0542"
      },
      "source": [
        "! unzip '/content/drive/My Drive/Colab Notebooks/data.zip'"
      ],
      "execution_count": 2,
      "outputs": [
        {
          "output_type": "stream",
          "text": [
            "Archive:  /content/drive/My Drive/Colab Notebooks/data.zip\n",
            "   creating: data/\n",
            "  inflating: data/eng-fra.txt        \n",
            "   creating: data/names/\n",
            "  inflating: data/names/Arabic.txt   \n",
            "  inflating: data/names/Chinese.txt  \n",
            "  inflating: data/names/Czech.txt    \n",
            "  inflating: data/names/Dutch.txt    \n",
            "  inflating: data/names/English.txt  \n",
            "  inflating: data/names/French.txt   \n",
            "  inflating: data/names/German.txt   \n",
            "  inflating: data/names/Greek.txt    \n",
            "  inflating: data/names/Irish.txt    \n",
            "  inflating: data/names/Italian.txt  \n",
            "  inflating: data/names/Japanese.txt  \n",
            "  inflating: data/names/Korean.txt   \n",
            "  inflating: data/names/Polish.txt   \n",
            "  inflating: data/names/Portuguese.txt  \n",
            "  inflating: data/names/Russian.txt  \n",
            "  inflating: data/names/Scottish.txt  \n",
            "  inflating: data/names/Spanish.txt  \n",
            "  inflating: data/names/Vietnamese.txt  \n"
          ],
          "name": "stdout"
        }
      ]
    },
    {
      "cell_type": "code",
      "metadata": {
        "id": "M0SxJNAQfL50",
        "colab_type": "code",
        "colab": {}
      },
      "source": [
        "base_path = 'data/names'"
      ],
      "execution_count": 0,
      "outputs": []
    },
    {
      "cell_type": "code",
      "metadata": {
        "id": "oBWYicKVfbuH",
        "colab_type": "code",
        "colab": {}
      },
      "source": [
        "import os\n",
        "import glob\n",
        "from io import open\n",
        "import unicodedata\n",
        "import string\n",
        "import random"
      ],
      "execution_count": 0,
      "outputs": []
    },
    {
      "cell_type": "code",
      "metadata": {
        "id": "PgXvnuR3kW-8",
        "colab_type": "code",
        "colab": {
          "base_uri": "https://localhost:8080/",
          "height": 51
        },
        "outputId": "3fe85e0d-302f-4f31-bf2c-ff90e2302dfa"
      },
      "source": [
        "all_letters = string.ascii_letters + \" .,;'\"\n",
        "n_letters = len(all_letters)\n",
        "\n",
        "print(all_letters)\n",
        "print(n_letters)"
      ],
      "execution_count": 22,
      "outputs": [
        {
          "output_type": "stream",
          "text": [
            "abcdefghijklmnopqrstuvwxyzABCDEFGHIJKLMNOPQRSTUVWXYZ .,;'\n",
            "57\n"
          ],
          "name": "stdout"
        }
      ]
    },
    {
      "cell_type": "code",
      "metadata": {
        "id": "wo4r-ly6kMaV",
        "colab_type": "code",
        "colab": {
          "base_uri": "https://localhost:8080/",
          "height": 34
        },
        "outputId": "3c019907-c82c-49e9-faf9-da81cf02573f"
      },
      "source": [
        "# Turn a Unicode string to plain ASCII, thanks to http://stackoverflow.com/a/518232/2809427\n",
        "def unicodeToAscii(s):\n",
        "    return ''.join(\n",
        "        c for c in unicodedata.normalize('NFD', s)\n",
        "        if unicodedata.category(c) != 'Mn'\n",
        "        and c in all_letters\n",
        "    )\n",
        "\n",
        "print(unicodeToAscii('Ślusàrski'))"
      ],
      "execution_count": 23,
      "outputs": [
        {
          "output_type": "stream",
          "text": [
            "Slusarski\n"
          ],
          "name": "stdout"
        }
      ]
    },
    {
      "cell_type": "code",
      "metadata": {
        "id": "fsV_ZhL_fgNa",
        "colab_type": "code",
        "colab": {}
      },
      "source": [
        "all_categories = []\n",
        "category_line = {}\n",
        "for data_file in glob.glob(base_path+'/*.txt'):\n",
        "  category = os.path.splitext(os.path.basename(data_file))[0]\n",
        "  all_categories.append(category)\n",
        "  lines = open(data_file).read().strip().split('\\n')\n",
        "  category_line[category] = [unicodeToAscii(line) for line in lines]\n",
        "n_categories = len(all_categories)"
      ],
      "execution_count": 0,
      "outputs": []
    },
    {
      "cell_type": "code",
      "metadata": {
        "id": "bOP05lm7ga5a",
        "colab_type": "code",
        "colab": {
          "base_uri": "https://localhost:8080/",
          "height": 340
        },
        "outputId": "d4ef5386-3842-4290-ee59-0929ff068aa0"
      },
      "source": [
        "print(n_categories)\n",
        "for k, v in category_line.items():\n",
        "  print(f\"{k}: {len(v)} - {', '.join(v[:5])}\")"
      ],
      "execution_count": 29,
      "outputs": [
        {
          "output_type": "stream",
          "text": [
            "18\n",
            "Czech: 519 - Abl, Adsit, Ajdrna, Alt, Antonowitsch\n",
            "French: 277 - Abel, Abraham, Adam, Albert, Allard\n",
            "Greek: 203 - Adamidis, Adamou, Agelakos, Akrivopoulos, Alexandropoulos\n",
            "Russian: 9408 - Ababko, Abaev, Abagyan, Abaidulin, Abaidullin\n",
            "Vietnamese: 73 - Nguyen, Tron, Le, Pham, Huynh\n",
            "Arabic: 2000 - Khoury, Nahas, Daher, Gerges, Nazari\n",
            "Irish: 232 - Adam, Ahearn, Aodh, Aodha, Aonghuis\n",
            "Scottish: 100 - Smith, Brown, Wilson, Campbell, Stewart\n",
            "Chinese: 268 - Ang, AuYong, Bai, Ban, Bao\n",
            "German: 724 - Abbing, Abel, Abeln, Abt, Achilles\n",
            "Korean: 94 - Ahn, Baik, Bang, Byon, Cha\n",
            "Japanese: 991 - Abe, Abukara, Adachi, Aida, Aihara\n",
            "Portuguese: 74 - Abreu, Albuquerque, Almeida, Alves, Araujo\n",
            "Spanish: 298 - Abana, Abano, Abarca, Abaroa, Abascal\n",
            "Dutch: 297 - Aalsburg, Aalst, Aarle, Achteren, Achthoven\n",
            "Polish: 139 - Adamczak, Adamczyk, Andrysiak, Auttenberg, Bartosz\n",
            "Italian: 709 - Abandonato, Abatangelo, Abatantuono, Abate, Abategiovanni\n",
            "English: 3668 - Abbas, Abbey, Abbott, Abdi, Abel\n"
          ],
          "name": "stdout"
        }
      ]
    },
    {
      "cell_type": "code",
      "metadata": {
        "id": "r52Zgww5iQHb",
        "colab_type": "code",
        "colab": {}
      },
      "source": [
        "import torch\n",
        "import torch.nn as nn\n",
        "import torch.optim as optim"
      ],
      "execution_count": 0,
      "outputs": []
    },
    {
      "cell_type": "code",
      "metadata": {
        "id": "FOe_tNlel26T",
        "colab_type": "code",
        "colab": {
          "base_uri": "https://localhost:8080/",
          "height": 102
        },
        "outputId": "c4770c1e-00f4-478e-fa27-8b4ded6a5d69"
      },
      "source": [
        "def charToTensor(c):\n",
        "  tensor = torch.zeros((1, n_letters))\n",
        "  tensor[0][all_letters.find(c)] = 1\n",
        "  return tensor\n",
        "\n",
        "print(charToTensor('b'))\n",
        "print(charToTensor('b').shape)"
      ],
      "execution_count": 41,
      "outputs": [
        {
          "output_type": "stream",
          "text": [
            "tensor([[0., 1., 0., 0., 0., 0., 0., 0., 0., 0., 0., 0., 0., 0., 0., 0., 0., 0.,\n",
            "         0., 0., 0., 0., 0., 0., 0., 0., 0., 0., 0., 0., 0., 0., 0., 0., 0., 0.,\n",
            "         0., 0., 0., 0., 0., 0., 0., 0., 0., 0., 0., 0., 0., 0., 0., 0., 0., 0.,\n",
            "         0., 0., 0.]])\n",
            "torch.Size([1, 57])\n"
          ],
          "name": "stdout"
        }
      ]
    },
    {
      "cell_type": "code",
      "metadata": {
        "id": "tg1oU8T1mXU2",
        "colab_type": "code",
        "colab": {
          "base_uri": "https://localhost:8080/",
          "height": 272
        },
        "outputId": "654f9c64-f85b-4a36-8833-e1bfa7b46c32"
      },
      "source": [
        "def wordToTensor(word):\n",
        "  tensor = torch.empty((len(word), 1, n_letters))\n",
        "  for id, char in enumerate(word, 0):\n",
        "    tensor[id] = charToTensor(char)\n",
        "  return tensor\n",
        "\n",
        "print(wordToTensor('Alb').shape)\n",
        "print(wordToTensor('Alb'))"
      ],
      "execution_count": 42,
      "outputs": [
        {
          "output_type": "stream",
          "text": [
            "torch.Size([3, 1, 57])\n",
            "tensor([[[0., 0., 0., 0., 0., 0., 0., 0., 0., 0., 0., 0., 0., 0., 0., 0., 0.,\n",
            "          0., 0., 0., 0., 0., 0., 0., 0., 0., 1., 0., 0., 0., 0., 0., 0., 0.,\n",
            "          0., 0., 0., 0., 0., 0., 0., 0., 0., 0., 0., 0., 0., 0., 0., 0., 0.,\n",
            "          0., 0., 0., 0., 0., 0.]],\n",
            "\n",
            "        [[0., 0., 0., 0., 0., 0., 0., 0., 0., 0., 0., 1., 0., 0., 0., 0., 0.,\n",
            "          0., 0., 0., 0., 0., 0., 0., 0., 0., 0., 0., 0., 0., 0., 0., 0., 0.,\n",
            "          0., 0., 0., 0., 0., 0., 0., 0., 0., 0., 0., 0., 0., 0., 0., 0., 0.,\n",
            "          0., 0., 0., 0., 0., 0.]],\n",
            "\n",
            "        [[0., 1., 0., 0., 0., 0., 0., 0., 0., 0., 0., 0., 0., 0., 0., 0., 0.,\n",
            "          0., 0., 0., 0., 0., 0., 0., 0., 0., 0., 0., 0., 0., 0., 0., 0., 0.,\n",
            "          0., 0., 0., 0., 0., 0., 0., 0., 0., 0., 0., 0., 0., 0., 0., 0., 0.,\n",
            "          0., 0., 0., 0., 0., 0.]]])\n"
          ],
          "name": "stdout"
        }
      ]
    },
    {
      "cell_type": "code",
      "metadata": {
        "id": "_L7hBaaWnC26",
        "colab_type": "code",
        "colab": {}
      },
      "source": [
        "class CharLevel_RNN(nn.Module):\n",
        "  def __init__(self, input_size, hidden_size, output_size):\n",
        "    super(CharLevel_RNN, self).__init__()\n",
        "\n",
        "    self.hidden_size = hidden_size\n",
        "    self.i2o = nn.Linear(input_size + hidden_size, output_size)\n",
        "    self.i2h = nn.Linear(input_size + hidden_size, hidden_size)\n",
        "\n",
        "    self.softmax = nn.LogSoftmax(dim = 1)\n",
        "  \n",
        "  def forward(self, input, hidden_state):\n",
        "    combined = torch.cat((input, hidden_state), dim=1)\n",
        "    hidden = self.i2h(combined)\n",
        "    output = self.softmax(self.i2o(combined))\n",
        "    return output, hidden\n",
        "  \n",
        "  def init_hidden(self):\n",
        "    return torch.zeros((1, self.hidden_size))"
      ],
      "execution_count": 0,
      "outputs": []
    },
    {
      "cell_type": "code",
      "metadata": {
        "id": "elhCkEs-o2xb",
        "colab_type": "code",
        "colab": {}
      },
      "source": [
        "n_hidden = 128\n",
        "model = CharLevel_RNN(n_letters, n_hidden, n_categories)\n",
        "criterion = nn.NLLLoss()\n",
        "lr = 0.001\n",
        "# optimizer = optim.SGD(model.parameters(), lr = 0.01, momentum=0.9)"
      ],
      "execution_count": 0,
      "outputs": []
    },
    {
      "cell_type": "code",
      "metadata": {
        "id": "JvDlgPkz8Y-J",
        "colab_type": "code",
        "colab": {}
      },
      "source": [
        "def categoryFromOutput(output):\n",
        "  top_n, top_i = output.topk(1)\n",
        "  category_i = top_i[0].item()\n",
        "  category = all_categories[category_i]\n",
        "  return category, category_i"
      ],
      "execution_count": 0,
      "outputs": []
    },
    {
      "cell_type": "code",
      "metadata": {
        "id": "NruVIrPuo6La",
        "colab_type": "code",
        "colab": {
          "base_uri": "https://localhost:8080/",
          "height": 102
        },
        "outputId": "2b504b46-c9ab-473f-9d9c-9280ad31007f"
      },
      "source": [
        "hidden = torch.zeros((1, n_hidden))\n",
        "\n",
        "input_tensor = charToTensor('A')\n",
        "\n",
        "output, hidden = model(input_tensor, hidden)\n",
        "\n",
        "print(output)\n",
        "print(hidden.size())\n",
        "categoryFromOutput(output)"
      ],
      "execution_count": 83,
      "outputs": [
        {
          "output_type": "stream",
          "text": [
            "tensor([[-2.9224, -2.8280, -2.9470, -2.9337, -2.9478, -2.9214, -2.8968, -2.9377,\n",
            "         -2.8316, -2.9683, -2.8168, -2.9254, -2.8880, -2.8125, -2.8533, -2.8759,\n",
            "         -2.9073, -2.8347]], grad_fn=<LogSoftmaxBackward>)\n",
            "torch.Size([1, 128])\n"
          ],
          "name": "stdout"
        },
        {
          "output_type": "execute_result",
          "data": {
            "text/plain": [
              "('Spanish', 13)"
            ]
          },
          "metadata": {
            "tags": []
          },
          "execution_count": 83
        }
      ]
    },
    {
      "cell_type": "code",
      "metadata": {
        "id": "LDfOZrVwpp1x",
        "colab_type": "code",
        "colab": {
          "base_uri": "https://localhost:8080/",
          "height": 425
        },
        "outputId": "7c74e0d3-8599-4752-949d-977c11126888"
      },
      "source": [
        "name = 'Albert'\n",
        "\n",
        "name_tensor = wordToTensor(name)\n",
        "hidden_state = model.init_hidden()\n",
        "for idx in range(name_tensor.size()[0]):\n",
        "  input_tensor = name_tensor[idx]\n",
        "  output, hidden_state = model(input_tensor, hidden_state)\n",
        "\n",
        "  print(output)\n",
        "  print(hidden_state.size())"
      ],
      "execution_count": 56,
      "outputs": [
        {
          "output_type": "stream",
          "text": [
            "tensor([[-3.0017, -2.8480, -2.8396, -2.8729, -2.9180, -2.9433, -2.8637, -2.8602,\n",
            "         -2.9501, -2.9291, -2.8948, -2.8555, -2.9570, -2.8695, -2.9230, -2.8182,\n",
            "         -2.8533, -2.8498]], grad_fn=<LogSoftmaxBackward>)\n",
            "torch.Size([1, 128])\n",
            "tensor([[-2.9416, -2.8714, -2.8257, -2.8568, -2.9643, -2.8102, -2.8354, -2.9639,\n",
            "         -2.9290, -2.9389, -2.8509, -2.8714, -2.9584, -2.9293, -2.8687, -2.9887,\n",
            "         -2.7527, -2.9046]], grad_fn=<LogSoftmaxBackward>)\n",
            "torch.Size([1, 128])\n",
            "tensor([[-2.8856, -2.9011, -2.8912, -2.8498, -2.9923, -2.9002, -2.8558, -2.8633,\n",
            "         -3.0197, -2.8477, -2.8465, -2.8552, -2.9493, -2.7755, -2.9761, -2.8777,\n",
            "         -2.8423, -2.9291]], grad_fn=<LogSoftmaxBackward>)\n",
            "torch.Size([1, 128])\n",
            "tensor([[-2.9973, -2.9287, -2.8235, -2.8224, -2.9272, -2.8622, -2.8560, -2.9047,\n",
            "         -2.9491, -2.8405, -2.8480, -2.8458, -2.9739, -2.9184, -2.9097, -2.9205,\n",
            "         -2.8445, -2.8774]], grad_fn=<LogSoftmaxBackward>)\n",
            "torch.Size([1, 128])\n",
            "tensor([[-2.9929, -2.8576, -2.8031, -2.9176, -2.9393, -2.9390, -2.9225, -2.9979,\n",
            "         -3.0021, -2.8003, -2.7845, -2.8288, -2.9568, -2.8836, -2.9227, -2.7781,\n",
            "         -2.8986, -2.8478]], grad_fn=<LogSoftmaxBackward>)\n",
            "torch.Size([1, 128])\n",
            "tensor([[-3.0516, -2.8863, -2.9112, -2.8228, -2.9104, -2.8804, -2.8307, -2.8747,\n",
            "         -2.9100, -2.8264, -2.8925, -2.9461, -2.9407, -2.8988, -2.8356, -2.8458,\n",
            "         -2.8698, -2.9184]], grad_fn=<LogSoftmaxBackward>)\n",
            "torch.Size([1, 128])\n"
          ],
          "name": "stdout"
        }
      ]
    },
    {
      "cell_type": "code",
      "metadata": {
        "id": "OjrrQo7ltAVr",
        "colab_type": "code",
        "colab": {
          "base_uri": "https://localhost:8080/",
          "height": 272
        },
        "outputId": "12f9ef20-13ae-48f2-e22f-5c83f53124af"
      },
      "source": [
        "def randomChoice(l):\n",
        "  return l[random.randint(0, len(l) -1)]\n",
        "\n",
        "def randomTrainingExample():\n",
        "  category = randomChoice(all_categories)\n",
        "  name = randomChoice(category_line[category])\n",
        "  category_tensor = torch.tensor([all_categories.index(category)], dtype=torch.long)\n",
        "  name_tensor = wordToTensor(name)\n",
        "  return category, name, category_tensor, name_tensor\n",
        "\n",
        "for i in range(5):\n",
        "  category, name, category_tensor, name_tensor = randomTrainingExample()\n",
        "  print(f'{category}:{name}')\n",
        "  print(category_tensor)\n",
        "  print(name_tensor.size())"
      ],
      "execution_count": 58,
      "outputs": [
        {
          "output_type": "stream",
          "text": [
            "Portuguese:Magalhaes\n",
            "tensor([12])\n",
            "torch.Size([9, 1, 57])\n",
            "Portuguese:Pinheiro\n",
            "tensor([12])\n",
            "torch.Size([8, 1, 57])\n",
            "Czech:Kruessel\n",
            "tensor([0])\n",
            "torch.Size([8, 1, 57])\n",
            "Korean:Ryom\n",
            "tensor([10])\n",
            "torch.Size([4, 1, 57])\n",
            "Polish:Filipek\n",
            "tensor([15])\n",
            "torch.Size([7, 1, 57])\n"
          ],
          "name": "stdout"
        }
      ]
    },
    {
      "cell_type": "code",
      "metadata": {
        "id": "7UPaqaCbxRqE",
        "colab_type": "code",
        "colab": {}
      },
      "source": [
        "def train(name_tensor, category_tensor):\n",
        "  hidden_state = model.init_hidden()\n",
        "\n",
        "  model.zero_grad()\n",
        "\n",
        "  for i in range(name_tensor.size()[0]):\n",
        "    output, hidden_state = model(name_tensor[i], hidden_state)\n",
        "  \n",
        "  loss = criterion(output, category_tensor)\n",
        "  loss.backward()\n",
        "\n",
        "  for p in model.parameters():\n",
        "    p.data.add_(-lr, p.grad.data)\n",
        "  \n",
        "  return output, loss.item()"
      ],
      "execution_count": 0,
      "outputs": []
    },
    {
      "cell_type": "code",
      "metadata": {
        "id": "cg9ZCoWM-zCR",
        "colab_type": "code",
        "colab": {
          "base_uri": "https://localhost:8080/",
          "height": 102
        },
        "outputId": "ba4f448c-f4bc-4f16-8b03-52aac693bdc5"
      },
      "source": [
        "category, name, category_tensor, name_tensor = randomTrainingExample()\n",
        "print(name, category)\n",
        "output, loss = train(name_tensor, category_tensor)\n",
        "print(output, loss)"
      ],
      "execution_count": 85,
      "outputs": [
        {
          "output_type": "stream",
          "text": [
            "Aihara Japanese\n",
            "tensor(2.9115, grad_fn=<NllLossBackward>)\n",
            "tensor([[-2.8471, -2.8007, -2.9218, -3.0065, -2.9625, -2.8736, -2.8592, -2.8299,\n",
            "         -2.8685, -3.0235, -2.8687, -2.9115, -2.9499, -2.9251, -2.8230, -2.8321,\n",
            "         -2.9258, -2.8323]], grad_fn=<LogSoftmaxBackward>) 2.9114632606506348\n"
          ],
          "name": "stdout"
        }
      ]
    },
    {
      "cell_type": "code",
      "metadata": {
        "id": "KqOAfDlp7fpj",
        "colab_type": "code",
        "colab": {
          "base_uri": "https://localhost:8080/",
          "height": 357
        },
        "outputId": "aefa6e69-8be9-43ae-8320-b476299d6d6a"
      },
      "source": [
        "import time\n",
        "import math\n",
        "\n",
        "n_iterations = 100000\n",
        "print_every = 5000\n",
        "plot_every = 1000\n",
        "\n",
        "\n",
        "\n",
        "# Keep track of losses for plotting\n",
        "current_loss = 0\n",
        "all_losses = []\n",
        "\n",
        "def timeSince(since):\n",
        "    now = time.time()\n",
        "    s = now - since\n",
        "    m = math.floor(s / 60)\n",
        "    s -= m * 60\n",
        "    return '%dm %ds' % (m, s)\n",
        "\n",
        "start = time.time()\n",
        "\n",
        "for i in range(n_iterations):\n",
        "  category, name, category_tensor, name_tensor = randomTrainingExample()\n",
        "  output, loss = train(name_tensor, category_tensor)\n",
        "  current_loss += loss\n",
        "\n",
        "  # Print iter number, loss, name and guess\n",
        "  if i % print_every == 0:\n",
        "      guess, guess_i = categoryFromOutput(output)\n",
        "      correct = '✓' if guess == category else '✗ (%s)' % category\n",
        "      print('%d %d%% (%s) %.4f %s / %s %s' % (i, i / n_iterations * 100, timeSince(start), loss, name, guess, correct))\n",
        "\n",
        "  # Add current loss avg to list of losses\n",
        "  if i % plot_every == 0:\n",
        "      all_losses.append(current_loss / plot_every)\n",
        "      current_loss = 0"
      ],
      "execution_count": 89,
      "outputs": [
        {
          "output_type": "stream",
          "text": [
            "0 0% (0m 0s) 2.8754 Niftrik / Czech ✗ (Dutch)\n",
            "5000 5% (0m 7s) 2.7669 O'Boyle / Irish ✓\n",
            "10000 10% (0m 14s) 2.8495 Martin / Irish ✗ (Scottish)\n",
            "15000 15% (0m 21s) 2.8266 Gage / Dutch ✗ (French)\n",
            "20000 20% (0m 28s) 1.9943 Kozlowski / Polish ✓\n",
            "25000 25% (0m 36s) 2.5232 Jamieson / Russian ✗ (Scottish)\n",
            "30000 30% (0m 43s) 2.4724 Ewles / Portuguese ✗ (English)\n",
            "35000 35% (0m 50s) 3.0306 Futabatei / Polish ✗ (Japanese)\n",
            "40000 40% (0m 57s) 1.1970 Tong / Chinese ✓\n",
            "45000 45% (1m 4s) 2.9990 Mackenzie / Russian ✗ (Scottish)\n",
            "50000 50% (1m 12s) 2.2832 Profeta / Spanish ✗ (Italian)\n",
            "55000 55% (1m 19s) 1.9084 Duong / Chinese ✗ (Vietnamese)\n",
            "60000 60% (1m 26s) 2.0344 Favero / Portuguese ✗ (Italian)\n",
            "65000 65% (1m 34s) 1.6645 Perez / Spanish ✓\n",
            "70000 70% (1m 41s) 0.6308 Slusarski / Polish ✓\n",
            "75000 75% (1m 48s) 2.0769 Hakimi / Japanese ✗ (Arabic)\n",
            "80000 80% (1m 55s) 1.3391 Coelho / Italian ✗ (Portuguese)\n",
            "85000 85% (2m 2s) 0.8770 Jmotov / Russian ✓\n",
            "90000 90% (2m 9s) 2.8265 Fothergill / Czech ✗ (English)\n",
            "95000 95% (2m 17s) 2.1460 Chlebek / Czech ✗ (Polish)\n"
          ],
          "name": "stdout"
        }
      ]
    },
    {
      "cell_type": "code",
      "metadata": {
        "id": "5ql5E-Ea-UuA",
        "colab_type": "code",
        "colab": {
          "base_uri": "https://localhost:8080/",
          "height": 269
        },
        "outputId": "b3851980-aba8-4b9b-e2e3-fca2ab7dd3aa"
      },
      "source": [
        "import matplotlib.pyplot as plt\n",
        "\n",
        "plt.plot(all_losses)\n",
        "plt.show()"
      ],
      "execution_count": 91,
      "outputs": [
        {
          "output_type": "display_data",
          "data": {
            "image/png": "[encoded data removed]",
            "text/plain": [
              "<Figure size 432x288 with 1 Axes>"
            ]
          },
          "metadata": {
            "tags": [],
            "needs_background": "light"
          }
        }
      ]
    },
    {
      "cell_type": "code",
      "metadata": {
        "id": "N2TTOrHeAf6z",
        "colab_type": "code",
        "colab": {}
      },
      "source": [
        ""
      ],
      "execution_count": 0,
      "outputs": []
    }
  ]
}