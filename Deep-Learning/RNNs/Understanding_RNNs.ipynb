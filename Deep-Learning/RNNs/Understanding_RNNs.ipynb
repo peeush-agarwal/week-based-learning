{
  "nbformat": 4,
  "nbformat_minor": 0,
  "metadata": {
    "colab": {
      "name": "Understanding_RNNs.ipynb",
      "provenance": [],
      "collapsed_sections": [],
      "authorship_tag": "ABX9TyMw2C/VhqicdSCywASKfk8t",
      "include_colab_link": true
    },
    "kernelspec": {
      "name": "python3",
      "display_name": "Python 3"
    }
  },
  "cells": [
    {
      "cell_type": "markdown",
      "metadata": {
        "id": "view-in-github",
        "colab_type": "text"
      },
      "source": [
        "<a href=\"https://colab.research.google.com/github/peeush-agarwal/week-based-learning/blob/master/Deep-Learning/RNNs/Understanding_RNNs.ipynb\" target=\"_parent\"><img src=\"https://colab.research.google.com/assets/colab-badge.svg\" alt=\"Open In Colab\"/></a>"
      ]
    },
    {
      "cell_type": "markdown",
      "metadata": {
        "id": "dy0JLTO9jZX5",
        "colab_type": "text"
      },
      "source": [
        "# Understanding RNNs\n",
        "\n",
        "+ The purpose of this tutorial is to train a RNN model which should take a word and classify it as fruit or vegetable. "
      ]
    },
    {
      "cell_type": "markdown",
      "metadata": {
        "id": "B9MfSrqwj--K",
        "colab_type": "text"
      },
      "source": [
        "## Prepare synthetic data"
      ]
    },
    {
      "cell_type": "code",
      "metadata": {
        "id": "8WfF0g4ejU65",
        "colab_type": "code",
        "colab": {}
      },
      "source": [
        "data = {\n",
        "    'Fruit': ['Apple','Mango','Grapes','Banana','Orange','Musk melon','Water melon'],\n",
        "    'Vegetable':['Brinjal', 'Potato','Tomato','Carrot','Lady finger','Capsicum']\n",
        "}"
      ],
      "execution_count": 0,
      "outputs": []
    },
    {
      "cell_type": "code",
      "metadata": {
        "id": "-wj8Kn7Pl9it",
        "colab_type": "code",
        "outputId": "074503d2-138d-430d-d4d0-94f4cadca2be",
        "colab": {
          "base_uri": "https://localhost:8080/",
          "height": 51
        }
      },
      "source": [
        "import torch\n",
        "import torch.nn as nn\n",
        "\n",
        "import matplotlib.pyplot as plt\n",
        "import seaborn as sns\n",
        "import pandas as pd\n",
        "import numpy as np\n",
        "\n",
        "plt.style.use('dark_background')\n",
        "\n",
        "import string\n",
        "import random"
      ],
      "execution_count": 3,
      "outputs": [
        {
          "output_type": "stream",
          "text": [
            "/usr/local/lib/python3.6/dist-packages/statsmodels/tools/_testing.py:19: FutureWarning: pandas.util.testing is deprecated. Use the functions in the public API at pandas.testing instead.\n",
            "  import pandas.util.testing as tm\n"
          ],
          "name": "stderr"
        }
      ]
    },
    {
      "cell_type": "code",
      "metadata": {
        "id": "vpLb8ELQ1I10",
        "colab_type": "code",
        "colab": {}
      },
      "source": [
        "all_names = []\n",
        "for v in data.values():\n",
        "  all_names.extend(v)\n",
        "n_names = len(all_names)"
      ],
      "execution_count": 0,
      "outputs": []
    },
    {
      "cell_type": "code",
      "metadata": {
        "id": "oB6aOzDc1UZK",
        "colab_type": "code",
        "outputId": "c16a92a4-859b-49d0-ef79-3a31d0fb6d26",
        "colab": {
          "base_uri": "https://localhost:8080/",
          "height": 51
        }
      },
      "source": [
        "print(all_names)\n",
        "print(n_names)"
      ],
      "execution_count": 5,
      "outputs": [
        {
          "output_type": "stream",
          "text": [
            "['Apple', 'Mango', 'Grapes', 'Banana', 'Orange', 'Musk melon', 'Water melon', 'Brinjal', 'Potato', 'Tomato', 'Carrot', 'Lady finger', 'Capsicum']\n",
            "13\n"
          ],
          "name": "stdout"
        }
      ]
    },
    {
      "cell_type": "code",
      "metadata": {
        "id": "7BoC2cvNk7TQ",
        "colab_type": "code",
        "colab": {}
      },
      "source": [
        "all_categories = list(data.keys())\n",
        "n_categories = len(all_categories)"
      ],
      "execution_count": 0,
      "outputs": []
    },
    {
      "cell_type": "code",
      "metadata": {
        "id": "GJTC0iLplNap",
        "colab_type": "code",
        "outputId": "f7feae4d-a741-4d72-ae13-88e4c2b83e1d",
        "colab": {
          "base_uri": "https://localhost:8080/",
          "height": 51
        }
      },
      "source": [
        "print(all_categories)\n",
        "print(n_categories)"
      ],
      "execution_count": 7,
      "outputs": [
        {
          "output_type": "stream",
          "text": [
            "['Fruit', 'Vegetable']\n",
            "2\n"
          ],
          "name": "stdout"
        }
      ]
    },
    {
      "cell_type": "code",
      "metadata": {
        "id": "-qmFByG1lQnJ",
        "colab_type": "code",
        "colab": {}
      },
      "source": [
        "def category_to_tensor(category):\n",
        "  return torch.tensor([all_categories.index(category)], dtype=torch.long)"
      ],
      "execution_count": 0,
      "outputs": []
    },
    {
      "cell_type": "code",
      "metadata": {
        "id": "LwdePhbWmFdC",
        "colab_type": "code",
        "outputId": "101d2ec2-6902-45c8-d5b2-3130451da5f6",
        "colab": {
          "base_uri": "https://localhost:8080/",
          "height": 51
        }
      },
      "source": [
        "print(category_to_tensor('Fruit'))\n",
        "print(category_to_tensor('Vegetable'))"
      ],
      "execution_count": 9,
      "outputs": [
        {
          "output_type": "stream",
          "text": [
            "tensor([0])\n",
            "tensor([1])\n"
          ],
          "name": "stdout"
        }
      ]
    },
    {
      "cell_type": "code",
      "metadata": {
        "id": "joKplHN0mH1q",
        "colab_type": "code",
        "colab": {}
      },
      "source": [
        "def output_to_category(cat_tensor):\n",
        "  _, idx = torch.max(cat_tensor, 1)\n",
        "  return all_categories[idx]"
      ],
      "execution_count": 0,
      "outputs": []
    },
    {
      "cell_type": "code",
      "metadata": {
        "id": "XAyjJ_Uhmk0p",
        "colab_type": "code",
        "outputId": "40ff2f8b-1b48-4991-eb6a-00470ad3843b",
        "colab": {
          "base_uri": "https://localhost:8080/",
          "height": 51
        }
      },
      "source": [
        "print(output_to_category(torch.tensor([[0.3, 0.7]])))\n",
        "print(output_to_category(torch.tensor([[0.999, 0.001]])))\n",
        "# print(index_to_category(2))"
      ],
      "execution_count": 11,
      "outputs": [
        {
          "output_type": "stream",
          "text": [
            "Vegetable\n",
            "Fruit\n"
          ],
          "name": "stdout"
        }
      ]
    },
    {
      "cell_type": "code",
      "metadata": {
        "id": "TGgTGID5mqAx",
        "colab_type": "code",
        "colab": {}
      },
      "source": [
        "all_letters = string.ascii_letters + ' ' # Model's vocab\n",
        "n_letters = len(all_letters)"
      ],
      "execution_count": 0,
      "outputs": []
    },
    {
      "cell_type": "code",
      "metadata": {
        "id": "mtYmV5HGnM3K",
        "colab_type": "code",
        "colab": {}
      },
      "source": [
        "def char_to_tensor(c):\n",
        "  tensor = torch.zeros((1, n_letters))\n",
        "  tensor[0][all_letters.index(c)] = 1\n",
        "  return tensor"
      ],
      "execution_count": 0,
      "outputs": []
    },
    {
      "cell_type": "code",
      "metadata": {
        "id": "DVAppW9Wnroq",
        "colab_type": "code",
        "outputId": "f3409c16-0a30-4c3e-d02f-bd7b70d6ed84",
        "colab": {
          "base_uri": "https://localhost:8080/",
          "height": 170
        }
      },
      "source": [
        "print(char_to_tensor('a'))\n",
        "print(char_to_tensor('z'))\n",
        "print(char_to_tensor('B'))"
      ],
      "execution_count": 14,
      "outputs": [
        {
          "output_type": "stream",
          "text": [
            "tensor([[1., 0., 0., 0., 0., 0., 0., 0., 0., 0., 0., 0., 0., 0., 0., 0., 0., 0.,\n",
            "         0., 0., 0., 0., 0., 0., 0., 0., 0., 0., 0., 0., 0., 0., 0., 0., 0., 0.,\n",
            "         0., 0., 0., 0., 0., 0., 0., 0., 0., 0., 0., 0., 0., 0., 0., 0., 0.]])\n",
            "tensor([[0., 0., 0., 0., 0., 0., 0., 0., 0., 0., 0., 0., 0., 0., 0., 0., 0., 0.,\n",
            "         0., 0., 0., 0., 0., 0., 0., 1., 0., 0., 0., 0., 0., 0., 0., 0., 0., 0.,\n",
            "         0., 0., 0., 0., 0., 0., 0., 0., 0., 0., 0., 0., 0., 0., 0., 0., 0.]])\n",
            "tensor([[0., 0., 0., 0., 0., 0., 0., 0., 0., 0., 0., 0., 0., 0., 0., 0., 0., 0.,\n",
            "         0., 0., 0., 0., 0., 0., 0., 0., 0., 1., 0., 0., 0., 0., 0., 0., 0., 0.,\n",
            "         0., 0., 0., 0., 0., 0., 0., 0., 0., 0., 0., 0., 0., 0., 0., 0., 0.]])\n"
          ],
          "name": "stdout"
        }
      ]
    },
    {
      "cell_type": "code",
      "metadata": {
        "id": "2Xb50_1On03H",
        "colab_type": "code",
        "colab": {}
      },
      "source": [
        "def name_to_tensor(name):\n",
        "  tensor = torch.zeros((len(name), 1, n_letters))\n",
        "  for idx, c in enumerate(name):\n",
        "    tensor[idx] = char_to_tensor(c)\n",
        "  return tensor"
      ],
      "execution_count": 0,
      "outputs": []
    },
    {
      "cell_type": "code",
      "metadata": {
        "id": "V83f7NNroXNe",
        "colab_type": "code",
        "outputId": "0ec0ffd4-d240-4318-9a6f-a018ca375886",
        "colab": {
          "base_uri": "https://localhost:8080/",
          "height": 425
        }
      },
      "source": [
        "name_to_tensor('Apple')"
      ],
      "execution_count": 16,
      "outputs": [
        {
          "output_type": "execute_result",
          "data": {
            "text/plain": [
              "tensor([[[0., 0., 0., 0., 0., 0., 0., 0., 0., 0., 0., 0., 0., 0., 0., 0., 0.,\n",
              "          0., 0., 0., 0., 0., 0., 0., 0., 0., 1., 0., 0., 0., 0., 0., 0., 0.,\n",
              "          0., 0., 0., 0., 0., 0., 0., 0., 0., 0., 0., 0., 0., 0., 0., 0., 0.,\n",
              "          0., 0.]],\n",
              "\n",
              "        [[0., 0., 0., 0., 0., 0., 0., 0., 0., 0., 0., 0., 0., 0., 0., 1., 0.,\n",
              "          0., 0., 0., 0., 0., 0., 0., 0., 0., 0., 0., 0., 0., 0., 0., 0., 0.,\n",
              "          0., 0., 0., 0., 0., 0., 0., 0., 0., 0., 0., 0., 0., 0., 0., 0., 0.,\n",
              "          0., 0.]],\n",
              "\n",
              "        [[0., 0., 0., 0., 0., 0., 0., 0., 0., 0., 0., 0., 0., 0., 0., 1., 0.,\n",
              "          0., 0., 0., 0., 0., 0., 0., 0., 0., 0., 0., 0., 0., 0., 0., 0., 0.,\n",
              "          0., 0., 0., 0., 0., 0., 0., 0., 0., 0., 0., 0., 0., 0., 0., 0., 0.,\n",
              "          0., 0.]],\n",
              "\n",
              "        [[0., 0., 0., 0., 0., 0., 0., 0., 0., 0., 0., 1., 0., 0., 0., 0., 0.,\n",
              "          0., 0., 0., 0., 0., 0., 0., 0., 0., 0., 0., 0., 0., 0., 0., 0., 0.,\n",
              "          0., 0., 0., 0., 0., 0., 0., 0., 0., 0., 0., 0., 0., 0., 0., 0., 0.,\n",
              "          0., 0.]],\n",
              "\n",
              "        [[0., 0., 0., 0., 1., 0., 0., 0., 0., 0., 0., 0., 0., 0., 0., 0., 0.,\n",
              "          0., 0., 0., 0., 0., 0., 0., 0., 0., 0., 0., 0., 0., 0., 0., 0., 0.,\n",
              "          0., 0., 0., 0., 0., 0., 0., 0., 0., 0., 0., 0., 0., 0., 0., 0., 0.,\n",
              "          0., 0.]]])"
            ]
          },
          "metadata": {
            "tags": []
          },
          "execution_count": 16
        }
      ]
    },
    {
      "cell_type": "code",
      "metadata": {
        "id": "e3wSrU1QoaQx",
        "colab_type": "code",
        "colab": {}
      },
      "source": [
        "def randomChoice(list_):\n",
        "  i = random.randint(0, len(list_)-1)\n",
        "  return list_[i]"
      ],
      "execution_count": 0,
      "outputs": []
    },
    {
      "cell_type": "code",
      "metadata": {
        "id": "0jorFiRwpCRe",
        "colab_type": "code",
        "outputId": "3ce81b47-ad5e-4274-d372-074cda02d636",
        "colab": {
          "base_uri": "https://localhost:8080/",
          "height": 34
        }
      },
      "source": [
        "randomChoice(all_categories)"
      ],
      "execution_count": 18,
      "outputs": [
        {
          "output_type": "execute_result",
          "data": {
            "text/plain": [
              "'Fruit'"
            ]
          },
          "metadata": {
            "tags": []
          },
          "execution_count": 18
        }
      ]
    },
    {
      "cell_type": "code",
      "metadata": {
        "id": "Beip8XJopGNZ",
        "colab_type": "code",
        "colab": {}
      },
      "source": [
        "def random_training_sample():\n",
        "  category = randomChoice(all_categories)\n",
        "  name = randomChoice(data[category])\n",
        "  return category, name, category_to_tensor(category), name_to_tensor(name)"
      ],
      "execution_count": 0,
      "outputs": []
    },
    {
      "cell_type": "code",
      "metadata": {
        "id": "je4T3lcBpkfp",
        "colab_type": "code",
        "outputId": "bd4e042c-2d38-4837-f0ff-c458c2c7d6c4",
        "colab": {
          "base_uri": "https://localhost:8080/",
          "height": 901
        }
      },
      "source": [
        "random_training_sample()"
      ],
      "execution_count": 20,
      "outputs": [
        {
          "output_type": "execute_result",
          "data": {
            "text/plain": [
              "('Fruit',\n",
              " 'Musk melon',\n",
              " tensor([0]),\n",
              " tensor([[[0., 0., 0., 0., 0., 0., 0., 0., 0., 0., 0., 0., 0., 0., 0., 0., 0.,\n",
              "           0., 0., 0., 0., 0., 0., 0., 0., 0., 0., 0., 0., 0., 0., 0., 0., 0.,\n",
              "           0., 0., 0., 0., 1., 0., 0., 0., 0., 0., 0., 0., 0., 0., 0., 0., 0.,\n",
              "           0., 0.]],\n",
              " \n",
              "         [[0., 0., 0., 0., 0., 0., 0., 0., 0., 0., 0., 0., 0., 0., 0., 0., 0.,\n",
              "           0., 0., 0., 1., 0., 0., 0., 0., 0., 0., 0., 0., 0., 0., 0., 0., 0.,\n",
              "           0., 0., 0., 0., 0., 0., 0., 0., 0., 0., 0., 0., 0., 0., 0., 0., 0.,\n",
              "           0., 0.]],\n",
              " \n",
              "         [[0., 0., 0., 0., 0., 0., 0., 0., 0., 0., 0., 0., 0., 0., 0., 0., 0.,\n",
              "           0., 1., 0., 0., 0., 0., 0., 0., 0., 0., 0., 0., 0., 0., 0., 0., 0.,\n",
              "           0., 0., 0., 0., 0., 0., 0., 0., 0., 0., 0., 0., 0., 0., 0., 0., 0.,\n",
              "           0., 0.]],\n",
              " \n",
              "         [[0., 0., 0., 0., 0., 0., 0., 0., 0., 0., 1., 0., 0., 0., 0., 0., 0.,\n",
              "           0., 0., 0., 0., 0., 0., 0., 0., 0., 0., 0., 0., 0., 0., 0., 0., 0.,\n",
              "           0., 0., 0., 0., 0., 0., 0., 0., 0., 0., 0., 0., 0., 0., 0., 0., 0.,\n",
              "           0., 0.]],\n",
              " \n",
              "         [[0., 0., 0., 0., 0., 0., 0., 0., 0., 0., 0., 0., 0., 0., 0., 0., 0.,\n",
              "           0., 0., 0., 0., 0., 0., 0., 0., 0., 0., 0., 0., 0., 0., 0., 0., 0.,\n",
              "           0., 0., 0., 0., 0., 0., 0., 0., 0., 0., 0., 0., 0., 0., 0., 0., 0.,\n",
              "           0., 1.]],\n",
              " \n",
              "         [[0., 0., 0., 0., 0., 0., 0., 0., 0., 0., 0., 0., 1., 0., 0., 0., 0.,\n",
              "           0., 0., 0., 0., 0., 0., 0., 0., 0., 0., 0., 0., 0., 0., 0., 0., 0.,\n",
              "           0., 0., 0., 0., 0., 0., 0., 0., 0., 0., 0., 0., 0., 0., 0., 0., 0.,\n",
              "           0., 0.]],\n",
              " \n",
              "         [[0., 0., 0., 0., 1., 0., 0., 0., 0., 0., 0., 0., 0., 0., 0., 0., 0.,\n",
              "           0., 0., 0., 0., 0., 0., 0., 0., 0., 0., 0., 0., 0., 0., 0., 0., 0.,\n",
              "           0., 0., 0., 0., 0., 0., 0., 0., 0., 0., 0., 0., 0., 0., 0., 0., 0.,\n",
              "           0., 0.]],\n",
              " \n",
              "         [[0., 0., 0., 0., 0., 0., 0., 0., 0., 0., 0., 1., 0., 0., 0., 0., 0.,\n",
              "           0., 0., 0., 0., 0., 0., 0., 0., 0., 0., 0., 0., 0., 0., 0., 0., 0.,\n",
              "           0., 0., 0., 0., 0., 0., 0., 0., 0., 0., 0., 0., 0., 0., 0., 0., 0.,\n",
              "           0., 0.]],\n",
              " \n",
              "         [[0., 0., 0., 0., 0., 0., 0., 0., 0., 0., 0., 0., 0., 0., 1., 0., 0.,\n",
              "           0., 0., 0., 0., 0., 0., 0., 0., 0., 0., 0., 0., 0., 0., 0., 0., 0.,\n",
              "           0., 0., 0., 0., 0., 0., 0., 0., 0., 0., 0., 0., 0., 0., 0., 0., 0.,\n",
              "           0., 0.]],\n",
              " \n",
              "         [[0., 0., 0., 0., 0., 0., 0., 0., 0., 0., 0., 0., 0., 1., 0., 0., 0.,\n",
              "           0., 0., 0., 0., 0., 0., 0., 0., 0., 0., 0., 0., 0., 0., 0., 0., 0.,\n",
              "           0., 0., 0., 0., 0., 0., 0., 0., 0., 0., 0., 0., 0., 0., 0., 0., 0.,\n",
              "           0., 0.]]]))"
            ]
          },
          "metadata": {
            "tags": []
          },
          "execution_count": 20
        }
      ]
    },
    {
      "cell_type": "markdown",
      "metadata": {
        "id": "9g0C3W5D2v4h",
        "colab_type": "text"
      },
      "source": [
        "## Recurrent Neural Network architecture\n",
        "![RNN_architecture](https://i.imgur.com/Z2xbySO.png)"
      ]
    },
    {
      "cell_type": "code",
      "metadata": {
        "id": "4HSll2-7pz91",
        "colab_type": "code",
        "colab": {}
      },
      "source": [
        "class BasicRNN(nn.Module):\n",
        "  def __init__(self, input_size, hidden_size, output_size):\n",
        "    super(BasicRNN, self).__init__()\n",
        "\n",
        "    self.hidden_size = hidden_size\n",
        "\n",
        "    self.i2h = nn.Linear(input_size+hidden_size, hidden_size)\n",
        "    self.i2o = nn.Linear(input_size+hidden_size, output_size)\n",
        "    self.softmax = nn.LogSoftmax(dim=1)\n",
        "  \n",
        "  def forward(self, input_, hidden):\n",
        "    combined = torch.cat((input_, hidden), dim=1)\n",
        "\n",
        "    hidden = self.i2h(combined)\n",
        "    out = self.i2o(combined)\n",
        "    out = self.softmax(out)\n",
        "    return out, hidden\n",
        "  \n",
        "  def init_hidden(self):\n",
        "    return torch.zeros((1, self.hidden_size))"
      ],
      "execution_count": 0,
      "outputs": []
    },
    {
      "cell_type": "code",
      "metadata": {
        "id": "C0C5NgI2q_my",
        "colab_type": "code",
        "colab": {}
      },
      "source": [
        "hidden_size = 10\n",
        "model = BasicRNN(n_letters, hidden_size, n_categories)\n",
        "criterion = nn.NLLLoss()\n",
        "optimizer = torch.optim.SGD(model.parameters(), lr=0.001, momentum=0.9)"
      ],
      "execution_count": 0,
      "outputs": []
    },
    {
      "cell_type": "code",
      "metadata": {
        "id": "jxgJOZKlrT9x",
        "colab_type": "code",
        "colab": {}
      },
      "source": [
        "def infer(name_tensor):\n",
        "  model.eval()\n",
        "\n",
        "  hidden = model.init_hidden()\n",
        "  for idx in range(name_tensor.size()[0]):\n",
        "    output, hidden = model(name_tensor[idx], hidden)\n",
        "  \n",
        "  return output"
      ],
      "execution_count": 0,
      "outputs": []
    },
    {
      "cell_type": "code",
      "metadata": {
        "id": "c2tLp22wshWh",
        "colab_type": "code",
        "outputId": "989197e6-9752-4965-e9a3-1ee27eacab26",
        "colab": {
          "base_uri": "https://localhost:8080/",
          "height": 34
        }
      },
      "source": [
        "infer(name_to_tensor('Apple'))"
      ],
      "execution_count": 24,
      "outputs": [
        {
          "output_type": "execute_result",
          "data": {
            "text/plain": [
              "tensor([[-0.6384, -0.7511]], grad_fn=<LogSoftmaxBackward>)"
            ]
          },
          "metadata": {
            "tags": []
          },
          "execution_count": 24
        }
      ]
    },
    {
      "cell_type": "code",
      "metadata": {
        "id": "RRnkEBIssz0g",
        "colab_type": "code",
        "colab": {}
      },
      "source": [
        "def train(name_tensor, category_tensor):\n",
        "  model.train()\n",
        "\n",
        "  optimizer.zero_grad()\n",
        "  hidden = model.init_hidden()\n",
        "  for idx in range(name_tensor.size()[0]):\n",
        "    output, hidden = model(name_tensor[idx], hidden)\n",
        "  \n",
        "  loss = criterion(output, category_tensor)\n",
        "  loss.backward()\n",
        "  optimizer.step()\n",
        "\n",
        "  return output, loss"
      ],
      "execution_count": 0,
      "outputs": []
    },
    {
      "cell_type": "code",
      "metadata": {
        "id": "CHCQOXBfyuHp",
        "colab_type": "code",
        "outputId": "7c4c552b-6cf4-49ac-b4fb-344b9dcaadad",
        "colab": {
          "base_uri": "https://localhost:8080/",
          "height": 68
        }
      },
      "source": [
        "category, name, category_tensor, name_tensor = random_training_sample()\n",
        "print(category, name)\n",
        "output, loss = train(name_tensor, category_tensor)\n",
        "print(output)\n",
        "print(loss)"
      ],
      "execution_count": 26,
      "outputs": [
        {
          "output_type": "stream",
          "text": [
            "Fruit Apple\n",
            "tensor([[-0.6384, -0.7511]], grad_fn=<LogSoftmaxBackward>)\n",
            "tensor(0.6384, grad_fn=<NllLossBackward>)\n"
          ],
          "name": "stdout"
        }
      ]
    },
    {
      "cell_type": "code",
      "metadata": {
        "id": "y_a66ICWy_93",
        "colab_type": "code",
        "outputId": "f0a1d125-0941-4c69-9513-3e6c99d19392",
        "colab": {
          "base_uri": "https://localhost:8080/",
          "height": 867
        }
      },
      "source": [
        "n_iters = 5000\n",
        "\n",
        "losses = []\n",
        "conf_mat = np.zeros((n_categories, n_categories), dtype=np.int)\n",
        "\n",
        "for iter_id in range(n_iters):\n",
        "  category, name, category_tensor, name_tensor = random_training_sample()\n",
        "  output, loss = train(name_tensor, category_tensor)\n",
        "\n",
        "  if iter_id % 100 == 0:\n",
        "    print(f'Iter:{iter_id} {100.0*iter_id/n_iters:.2f}% loss:{loss.item()} {name}=>{output_to_category(output)} ({category})')\n",
        "    \n",
        "    losses.append(loss.item())\n",
        "    conf_mat[all_categories.index(category)][all_categories.index(output_to_category(output))] += 1"
      ],
      "execution_count": 27,
      "outputs": [
        {
          "output_type": "stream",
          "text": [
            "Iter:0 0.00% loss:0.6052471399307251 Brinjal=>Vegetable (Vegetable)\n",
            "Iter:100 2.00% loss:0.5746197700500488 Brinjal=>Vegetable (Vegetable)\n",
            "Iter:200 4.00% loss:0.5946537256240845 Capsicum=>Vegetable (Vegetable)\n",
            "Iter:300 6.00% loss:0.5647387504577637 Water melon=>Fruit (Fruit)\n",
            "Iter:400 8.00% loss:0.4798705577850342 Water melon=>Fruit (Fruit)\n",
            "Iter:500 10.00% loss:0.5251421928405762 Banana=>Fruit (Fruit)\n",
            "Iter:600 12.00% loss:0.2771493196487427 Apple=>Fruit (Fruit)\n",
            "Iter:700 14.00% loss:0.36575955152511597 Tomato=>Vegetable (Vegetable)\n",
            "Iter:800 16.00% loss:0.3240842819213867 Potato=>Vegetable (Vegetable)\n",
            "Iter:900 18.00% loss:0.3115648031234741 Brinjal=>Vegetable (Vegetable)\n",
            "Iter:1000 20.00% loss:0.31566449999809265 Brinjal=>Vegetable (Vegetable)\n",
            "Iter:1100 22.00% loss:0.29830506443977356 Grapes=>Fruit (Fruit)\n",
            "Iter:1200 24.00% loss:0.08095861971378326 Orange=>Fruit (Fruit)\n",
            "Iter:1300 26.00% loss:0.16045552492141724 Capsicum=>Vegetable (Vegetable)\n",
            "Iter:1400 28.00% loss:0.26934781670570374 Carrot=>Vegetable (Vegetable)\n",
            "Iter:1500 30.00% loss:0.18929283320903778 Lady finger=>Vegetable (Vegetable)\n",
            "Iter:1600 32.00% loss:0.08694387227296829 Capsicum=>Vegetable (Vegetable)\n",
            "Iter:1700 34.00% loss:0.06954899430274963 Potato=>Vegetable (Vegetable)\n",
            "Iter:1800 36.00% loss:0.041962966322898865 Apple=>Fruit (Fruit)\n",
            "Iter:1900 38.00% loss:0.07510720193386078 Musk melon=>Fruit (Fruit)\n",
            "Iter:2000 40.00% loss:0.13369841873645782 Carrot=>Vegetable (Vegetable)\n",
            "Iter:2100 42.00% loss:0.02372763305902481 Apple=>Fruit (Fruit)\n",
            "Iter:2200 44.00% loss:0.021803438663482666 Tomato=>Vegetable (Vegetable)\n",
            "Iter:2300 46.00% loss:0.13676829636096954 Banana=>Fruit (Fruit)\n",
            "Iter:2400 48.00% loss:0.02579568512737751 Brinjal=>Vegetable (Vegetable)\n",
            "Iter:2500 50.00% loss:0.03555573523044586 Lady finger=>Vegetable (Vegetable)\n",
            "Iter:2600 52.00% loss:0.022070620208978653 Water melon=>Fruit (Fruit)\n",
            "Iter:2700 54.00% loss:0.028762996196746826 Potato=>Vegetable (Vegetable)\n",
            "Iter:2800 56.00% loss:0.010271427221596241 Capsicum=>Vegetable (Vegetable)\n",
            "Iter:2900 58.00% loss:0.028277089819312096 Carrot=>Vegetable (Vegetable)\n",
            "Iter:3000 60.00% loss:0.0007666985620744526 Orange=>Fruit (Fruit)\n",
            "Iter:3100 62.00% loss:0.006343112327158451 Capsicum=>Vegetable (Vegetable)\n",
            "Iter:3200 64.00% loss:0.01550066564232111 Lady finger=>Vegetable (Vegetable)\n",
            "Iter:3300 66.00% loss:0.0035542193800210953 Apple=>Fruit (Fruit)\n",
            "Iter:3400 68.00% loss:0.0031699903775006533 Apple=>Fruit (Fruit)\n",
            "Iter:3500 70.00% loss:0.012295755557715893 Lady finger=>Vegetable (Vegetable)\n",
            "Iter:3600 72.00% loss:0.03133156895637512 Banana=>Fruit (Fruit)\n",
            "Iter:3700 74.00% loss:0.002557461615651846 Capsicum=>Vegetable (Vegetable)\n",
            "Iter:3800 76.00% loss:0.008288154378533363 Lady finger=>Vegetable (Vegetable)\n",
            "Iter:3900 78.00% loss:0.004745530430227518 Grapes=>Fruit (Fruit)\n",
            "Iter:4000 80.00% loss:0.0038856971077620983 Mango=>Fruit (Fruit)\n",
            "Iter:4100 82.00% loss:0.004445550963282585 Musk melon=>Fruit (Fruit)\n",
            "Iter:4200 84.00% loss:0.0036199060268700123 Grapes=>Fruit (Fruit)\n",
            "Iter:4300 86.00% loss:0.006328779272735119 Lady finger=>Vegetable (Vegetable)\n",
            "Iter:4400 88.00% loss:0.005821772385388613 Lady finger=>Vegetable (Vegetable)\n",
            "Iter:4500 90.00% loss:0.001328658196143806 Apple=>Fruit (Fruit)\n",
            "Iter:4600 92.00% loss:0.009174452163279057 Potato=>Vegetable (Vegetable)\n",
            "Iter:4700 94.00% loss:0.00011395759065635502 Orange=>Fruit (Fruit)\n",
            "Iter:4800 96.00% loss:0.008527413941919804 Potato=>Vegetable (Vegetable)\n",
            "Iter:4900 98.00% loss:0.0020392590668052435 Water melon=>Fruit (Fruit)\n"
          ],
          "name": "stdout"
        }
      ]
    },
    {
      "cell_type": "code",
      "metadata": {
        "id": "LJG4ww6R0TDt",
        "colab_type": "code",
        "outputId": "feb36637-68a7-422f-f6a2-18461fdc2832",
        "colab": {
          "base_uri": "https://localhost:8080/",
          "height": 281
        }
      },
      "source": [
        "plt.plot(losses)\n",
        "plt.title('Training loss')\n",
        "plt.show()"
      ],
      "execution_count": 28,
      "outputs": [
        {
          "output_type": "display_data",
          "data": {
            "image/png": "[encoded data removed]",
            "text/plain": [
              "<Figure size 432x288 with 1 Axes>"
            ]
          },
          "metadata": {
            "tags": []
          }
        }
      ]
    },
    {
      "cell_type": "code",
      "metadata": {
        "id": "vesK_iDA2gbn",
        "colab_type": "code",
        "outputId": "042c81f1-f506-4500-8749-09d036461670",
        "colab": {
          "base_uri": "https://localhost:8080/",
          "height": 292
        }
      },
      "source": [
        "sns.heatmap(conf_mat, annot=True, \n",
        "            xticklabels=[f'Actual_{all_categories[idx]}' for idx in range(n_categories)], \n",
        "            yticklabels=[f'Predicted_{all_categories[idx]}' for idx in range(n_categories)])\n",
        "plt.show()"
      ],
      "execution_count": 29,
      "outputs": [
        {
          "output_type": "display_data",
          "data": {
            "image/png": "[encoded data removed]",
            "text/plain": [
              "<Figure size 432x288 with 2 Axes>"
            ]
          },
          "metadata": {
            "tags": []
          }
        }
      ]
    },
    {
      "cell_type": "code",
      "metadata": {
        "id": "zcJU4Rlk3BjH",
        "colab_type": "code",
        "colab": {}
      },
      "source": [
        "def eval(name):\n",
        "  model.eval()\n",
        "\n",
        "  name_tensor = name_to_tensor(name)\n",
        "  output = infer(name_tensor)\n",
        "  val, indices = output.topk(1)\n",
        "\n",
        "  #print(all_categories[indices.item()])\n",
        "  return all_categories[indices.item()]"
      ],
      "execution_count": 0,
      "outputs": []
    },
    {
      "cell_type": "code",
      "metadata": {
        "id": "fuZI3yvB6Uss",
        "colab_type": "code",
        "outputId": "83c7fdee-3378-4c06-e0d0-9bef7ec41dc1",
        "colab": {
          "base_uri": "https://localhost:8080/",
          "height": 238
        }
      },
      "source": [
        "[(name,eval(name)) for name in all_names]"
      ],
      "execution_count": 31,
      "outputs": [
        {
          "output_type": "execute_result",
          "data": {
            "text/plain": [
              "[('Apple', 'Fruit'),\n",
              " ('Mango', 'Fruit'),\n",
              " ('Grapes', 'Fruit'),\n",
              " ('Banana', 'Fruit'),\n",
              " ('Orange', 'Fruit'),\n",
              " ('Musk melon', 'Fruit'),\n",
              " ('Water melon', 'Fruit'),\n",
              " ('Brinjal', 'Vegetable'),\n",
              " ('Potato', 'Vegetable'),\n",
              " ('Tomato', 'Vegetable'),\n",
              " ('Carrot', 'Vegetable'),\n",
              " ('Lady finger', 'Vegetable'),\n",
              " ('Capsicum', 'Vegetable')]"
            ]
          },
          "metadata": {
            "tags": []
          },
          "execution_count": 31
        }
      ]
    },
    {
      "cell_type": "code",
      "metadata": {
        "id": "LnxCxSuZ6bNG",
        "colab_type": "code",
        "colab": {}
      },
      "source": [
        "test_names = ['apple', 'alphonso mango','mango desi','red tomato','american tomato','chilly','reddish', 'lemon', 'rose','jal','jccazzlpp']"
      ],
      "execution_count": 0,
      "outputs": []
    },
    {
      "cell_type": "code",
      "metadata": {
        "id": "Tnc_0hwX66ig",
        "colab_type": "code",
        "outputId": "6ae2f209-e59c-4e4a-9f53-f9464ff86969",
        "colab": {
          "base_uri": "https://localhost:8080/",
          "height": 204
        }
      },
      "source": [
        "[(name,eval(name)) for name in test_names]"
      ],
      "execution_count": 33,
      "outputs": [
        {
          "output_type": "execute_result",
          "data": {
            "text/plain": [
              "[('apple', 'Fruit'),\n",
              " ('alphonso mango', 'Fruit'),\n",
              " ('mango desi', 'Fruit'),\n",
              " ('red tomato', 'Vegetable'),\n",
              " ('american tomato', 'Vegetable'),\n",
              " ('chilly', 'Fruit'),\n",
              " ('reddish', 'Vegetable'),\n",
              " ('lemon', 'Fruit'),\n",
              " ('rose', 'Vegetable'),\n",
              " ('jal', 'Vegetable'),\n",
              " ('jccazzlpp', 'Fruit')]"
            ]
          },
          "metadata": {
            "tags": []
          },
          "execution_count": 33
        }
      ]
    },
    {
      "cell_type": "code",
      "metadata": {
        "id": "sH3JiBDt7Zwu",
        "colab_type": "code",
        "colab": {}
      },
      "source": [
        ""
      ],
      "execution_count": 0,
      "outputs": []
    }
  ]
}