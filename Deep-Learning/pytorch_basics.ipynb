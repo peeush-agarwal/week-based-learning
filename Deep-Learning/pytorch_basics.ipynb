{
 "nbformat": 4,
 "nbformat_minor": 2,
 "metadata": {
  "language_info": {
   "name": "python",
   "codemirror_mode": {
    "name": "ipython",
    "version": 3
   },
   "version": "3.6.5-final"
  },
  "orig_nbformat": 2,
  "file_extension": ".py",
  "mimetype": "text/x-python",
  "name": "python",
  "npconvert_exporter": "python",
  "pygments_lexer": "ipython3",
  "version": 3,
  "kernelspec": {
   "name": "python36564bitbaseconda1020206932e94777b826d3069e921676",
   "display_name": "Python 3.6.5 64-bit ('base': conda)"
  }
 },
 "cells": [
  {
   "cell_type": "markdown",
   "metadata": {},
   "source": [
    "# Pytorch basics"
   ]
  },
  {
   "cell_type": "markdown",
   "metadata": {},
   "source": [
    "## Numpy vs Pytorch\n",
    "\n",
    "### Numpy array initialization\n",
    "+ Create a numpy array\n",
    "+ Display array\n",
    "+ Display type of array\n",
    "+ Display size of array"
   ]
  },
  {
   "cell_type": "code",
   "execution_count": 4,
   "metadata": {},
   "outputs": [
    {
     "name": "stdout",
     "output_type": "stream",
     "text": "[[1 2 3]\n [4 5 6]]\n<class 'numpy.ndarray'>\n(2, 3)\n"
    }
   ],
   "source": [
    "import numpy as np\n",
    "\n",
    "array = [[1,2,3],[4,5,6]]\n",
    "nparray = np.array(array)\n",
    "print(nparray)\n",
    "print(type(nparray))\n",
    "print(nparray.shape)"
   ]
  },
  {
   "cell_type": "markdown",
   "metadata": {},
   "source": [
    "### Pytorch Tensor initialization\n",
    "\n",
    "+ Create a torch.Tensor from array\n",
    "+ Display Tensor\n",
    "+ Display type of Tensor\n",
    "+ Display size of Tensor"
   ]
  },
  {
   "cell_type": "code",
   "execution_count": 5,
   "metadata": {},
   "outputs": [
    {
     "name": "stdout",
     "output_type": "stream",
     "text": "tensor([[1., 2., 3.],\n        [4., 5., 6.]])\n<built-in method type of Tensor object at 0x0000020977D6DBD0>\ntorch.Size([2, 3])\n"
    }
   ],
   "source": [
    "import torch\n",
    "\n",
    "tensor_arr = torch.Tensor(array)\n",
    "print(tensor_arr)\n",
    "print(tensor_arr.type)\n",
    "print(tensor_arr.shape)"
   ]
  },
  {
   "cell_type": "markdown",
   "metadata": {},
   "source": [
    "### Identity array"
   ]
  },
  {
   "cell_type": "code",
   "execution_count": 6,
   "metadata": {},
   "outputs": [
    {
     "name": "stdout",
     "output_type": "stream",
     "text": "[[1. 1. 1. 1.]\n [1. 1. 1. 1.]]\ntensor([[1., 1., 1., 1.],\n        [1., 1., 1., 1.]])\n"
    }
   ],
   "source": [
    "print(np.ones((2,4)))\n",
    "\n",
    "print(torch.ones((2,4)))"
   ]
  },
  {
   "cell_type": "markdown",
   "metadata": {},
   "source": [
    "### Random array"
   ]
  },
  {
   "cell_type": "code",
   "execution_count": 8,
   "metadata": {},
   "outputs": [
    {
     "name": "stdout",
     "output_type": "stream",
     "text": "[[ 0.49757941  1.21899989 -1.97343286 -0.8883544 ]\n [-0.07033942  1.35262783 -1.1313371   0.89954977]]\n[[0.52806885 0.69094027 0.68482042 0.77944977]\n [0.15156258 0.27967442 0.67937988 0.01698071]]\ntensor([[-0.7756,  0.4732,  0.3204,  0.8793],\n        [-0.3951,  0.0433,  1.3193,  0.3694]])\ntensor([[0.9402, 0.2392, 0.4254, 0.0728],\n        [0.8128, 0.7795, 0.9274, 0.3200]])\n"
    }
   ],
   "source": [
    "print(np.random.randn(2, 4))\n",
    "print(np.random.rand(2, 4))\n",
    "\n",
    "print(torch.randn((2,4)))\n",
    "print(torch.rand((2,4)))"
   ]
  },
  {
   "cell_type": "markdown",
   "metadata": {},
   "source": [
    "### Numpy array to Tensor and vice-versa"
   ]
  },
  {
   "cell_type": "code",
   "execution_count": 9,
   "metadata": {},
   "outputs": [
    {
     "name": "stdout",
     "output_type": "stream",
     "text": "[[0.08688301 0.72823945 0.06910246 0.60743097]\n [0.9022125  0.65736611 0.68962442 0.15798959]]\n<class 'numpy.ndarray'>\ntensor([[0.0869, 0.7282, 0.0691, 0.6074],\n        [0.9022, 0.6574, 0.6896, 0.1580]], dtype=torch.float64)\n<class 'torch.Tensor'>\n[[0.08688301 0.72823945 0.06910246 0.60743097]\n [0.9022125  0.65736611 0.68962442 0.15798959]]\n<class 'numpy.ndarray'>\n"
    }
   ],
   "source": [
    "rand_arr = np.random.rand(2, 4)\n",
    "print(rand_arr)\n",
    "print(type(rand_arr))\n",
    "\n",
    "np_to_tensor = torch.from_numpy(rand_arr)\n",
    "print(np_to_tensor)\n",
    "print(type(np_to_tensor))\n",
    "\n",
    "tensor_to_np = np_to_tensor.numpy()\n",
    "print(tensor_to_np)\n",
    "print(type(tensor_to_np))"
   ]
  },
  {
   "cell_type": "markdown",
   "metadata": {},
   "source": [
    "## Variables in pytorch\n",
    "\n",
    "+ Difference b/w Tensor and Variables? Variables accumulates gradients. \n",
    "+ Variables are used for back propogation"
   ]
  },
  {
   "cell_type": "code",
   "execution_count": 11,
   "metadata": {},
   "outputs": [
    {
     "name": "stdout",
     "output_type": "stream",
     "text": "tensor([[1., 1., 1.],\n        [1., 1., 1.],\n        [1., 1., 1.]], requires_grad=True)\n"
    }
   ],
   "source": [
    "from torch.autograd import Variable\n",
    "\n",
    "var = Variable(torch.ones((3,3)), requires_grad = True)\n",
    "print(var)"
   ]
  },
  {
   "cell_type": "markdown",
   "metadata": {},
   "source": [
    "### Basics of backward propogation\n",
    "\n",
    "+ Let an equation be $y = x^2$\n",
    "+ $X = [2, 4]$\n",
    "+ Let recap o equation be $o = \\frac{1}{2}\\sum y = \\frac{1}{2}\\sum x^2$\n",
    "+ Derivative of $o = x$ therefore, gradients $ = [2, 4]$"
   ]
  },
  {
   "cell_type": "code",
   "execution_count": 14,
   "metadata": {},
   "outputs": [
    {
     "name": "stdout",
     "output_type": "stream",
     "text": "tensor([ 4., 16.], grad_fn=<PowBackward0>)\ntensor(10., grad_fn=<MulBackward0>)\nGradients: tensor([2., 4.])\n"
    }
   ],
   "source": [
    "x = Variable(torch.Tensor([2, 4]), requires_grad = True)\n",
    "y = x**2\n",
    "print(y)\n",
    "\n",
    "o = (1/2) * sum(y)\n",
    "print(o)\n",
    "\n",
    "o.backward() # Back Propogation\n",
    "\n",
    "print('Gradients: {}'.format(x.grad))"
   ]
  },
  {
   "cell_type": "code",
   "execution_count": null,
   "metadata": {},
   "outputs": [],
   "source": []
  }
 ]
}