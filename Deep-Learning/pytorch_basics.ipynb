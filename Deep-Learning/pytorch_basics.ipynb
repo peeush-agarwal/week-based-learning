{
 "nbformat": 4,
 "nbformat_minor": 2,
 "metadata": {
  "language_info": {
   "name": "python",
   "codemirror_mode": {
    "name": "ipython",
    "version": 3
   },
   "version": "3.6.5-final"
  },
  "orig_nbformat": 2,
  "file_extension": ".py",
  "mimetype": "text/x-python",
  "name": "python",
  "npconvert_exporter": "python",
  "pygments_lexer": "ipython3",
  "version": 3,
  "kernelspec": {
   "name": "python36564bitbaseconda1020206932e94777b826d3069e921676",
   "display_name": "Python 3.6.5 64-bit ('base': conda)"
  }
 },
 "cells": [
  {
   "cell_type": "markdown",
   "metadata": {},
   "source": [
    "# Pytorch basics"
   ]
  },
  {
   "cell_type": "code",
   "execution_count": 1,
   "metadata": {},
   "outputs": [],
   "source": [
    "from __future__ import print_function\n",
    "import torch"
   ]
  },
  {
   "cell_type": "code",
   "execution_count": 8,
   "metadata": {},
   "outputs": [
    {
     "output_type": "stream",
     "name": "stdout",
     "text": "tensor([[9.9184e-39, 8.7245e-39, 9.2755e-39, 8.9082e-39, 9.9184e-39],\n        [8.4490e-39, 9.6429e-39, 1.0653e-38, 1.0469e-38, 4.2246e-39],\n        [1.0378e-38, 9.6429e-39, 9.2755e-39, 9.7346e-39, 1.0745e-38]])\ntorch.Size([3, 5])\n<class 'torch.Tensor'>\n"
    }
   ],
   "source": [
    "# Empty/uninitialized tensor\n",
    "empty = torch.empty(3, 5)\n",
    "print(empty)\n",
    "print(empty.size())\n",
    "print(type(empty))"
   ]
  },
  {
   "cell_type": "code",
   "execution_count": 9,
   "metadata": {},
   "outputs": [
    {
     "output_type": "stream",
     "name": "stdout",
     "text": "tensor([[0.5087, 0.0934, 0.5908, 0.5990, 0.3271],\n        [0.0795, 0.9988, 0.8673, 0.9631, 0.1866],\n        [0.3281, 0.9466, 0.2076, 0.8620, 0.3736]])\n"
    }
   ],
   "source": [
    "# Random initialized tensor\n",
    "rand = torch.rand(3, 5)\n",
    "print(rand)"
   ]
  },
  {
   "cell_type": "code",
   "execution_count": 11,
   "metadata": {},
   "outputs": [
    {
     "output_type": "stream",
     "name": "stdout",
     "text": "tensor([[0., 0., 0., 0., 0.],\n        [0., 0., 0., 0., 0.],\n        [0., 0., 0., 0., 0.]])\ntensor([[0, 0, 0, 0, 0],\n        [0, 0, 0, 0, 0],\n        [0, 0, 0, 0, 0]])\n"
    }
   ],
   "source": [
    "# Zeros initialized tensor\n",
    "zeros = torch.zeros(3, 5)\n",
    "print(zeros)\n",
    "\n",
    "# Zeros initialized tensor of dtype: long\n",
    "zeros = torch.zeros(3, 5, dtype=torch.long)\n",
    "print(zeros)"
   ]
  },
  {
   "cell_type": "code",
   "execution_count": 13,
   "metadata": {},
   "outputs": [
    {
     "output_type": "stream",
     "name": "stdout",
     "text": "<class 'torch.Tensor'>\ntorch.Size([3, 2])\ntensor([[1, 2],\n        [3, 4],\n        [5, 6]])\n"
    }
   ],
   "source": [
    "# Tensor directly from data\n",
    "x = torch.tensor([[1, 2], [3, 4], [5, 6]]) # long type tensor\n",
    "print(type(x))\n",
    "print(x.size())\n",
    "print(x)"
   ]
  },
  {
   "cell_type": "code",
   "execution_count": 17,
   "metadata": {},
   "outputs": [
    {
     "output_type": "stream",
     "name": "stdout",
     "text": "tensor([[ 0.2879,  0.4760],\n        [-0.7978, -0.1562],\n        [ 0.5109,  0.3913]])\n"
    }
   ],
   "source": [
    "y = torch.randn(3,2) # Float type tensor\n",
    "print(y)"
   ]
  },
  {
   "cell_type": "code",
   "execution_count": 22,
   "metadata": {},
   "outputs": [
    {
     "output_type": "stream",
     "name": "stdout",
     "text": "tensor([[1., 2.],\n        [3., 4.],\n        [5., 6.]])\ntensor([[1.2879, 2.4760],\n        [2.2022, 3.8438],\n        [5.5109, 6.3913]])\n"
    }
   ],
   "source": [
    "# Convert tensor type to float type\n",
    "x = torch.tensor(x, dtype=torch.float)\n",
    "print(x)\n",
    "\n",
    "# Addition operation: types should be same\n",
    "print(x + y)"
   ]
  },
  {
   "cell_type": "code",
   "execution_count": 24,
   "metadata": {},
   "outputs": [
    {
     "output_type": "stream",
     "name": "stdout",
     "text": "tensor([[0.6599, 0.0633, 0.2725, 0.4203],\n        [0.7134, 0.5380, 0.0595, 0.3051],\n        [0.6903, 0.7265, 0.3571, 0.0716],\n        [0.5102, 0.8022, 0.7786, 0.4034]])\ntorch.Size([4, 4])\ntensor([0.6599, 0.0633, 0.2725, 0.4203, 0.7134, 0.5380, 0.0595, 0.3051, 0.6903,\n        0.7265, 0.3571, 0.0716, 0.5102, 0.8022, 0.7786, 0.4034])\ntorch.Size([16])\ntensor([[0.6599, 0.0633, 0.2725, 0.4203, 0.7134, 0.5380, 0.0595, 0.3051],\n        [0.6903, 0.7265, 0.3571, 0.0716, 0.5102, 0.8022, 0.7786, 0.4034]])\ntorch.Size([2, 8])\n"
    }
   ],
   "source": [
    "# Resize/reshape operation\n",
    "y = torch.rand(4, 4, dtype=torch.float)\n",
    "print(y)\n",
    "print(y.size())\n",
    "z = y.view(16)\n",
    "print(z)\n",
    "print(z.size())\n",
    "w = y.view(-1, 8)\n",
    "print(w)\n",
    "print(w.size())"
   ]
  },
  {
   "cell_type": "code",
   "execution_count": 25,
   "metadata": {},
   "outputs": [
    {
     "output_type": "stream",
     "name": "stdout",
     "text": "tensor([0.2330])\n0.23301082849502563\n"
    }
   ],
   "source": [
    "# Value of item in 1-item tensor\n",
    "x = torch.randn(1)\n",
    "print(x)\n",
    "print(x.item())"
   ]
  },
  {
   "cell_type": "code",
   "execution_count": 28,
   "metadata": {},
   "outputs": [
    {
     "output_type": "stream",
     "name": "stdout",
     "text": "tensor([[0.2100, 0.6967, 0.6107, 0.4805, 0.6297],\n        [0.0085, 0.4808, 0.9559, 0.1654, 0.1124],\n        [0.0239, 0.7211, 0.6020, 0.9123, 0.1763]])\n[[0.21003336 0.6967495  0.61070186 0.48050374 0.62972426]\n [0.00846606 0.48077494 0.95593    0.16544217 0.11238414]\n [0.02394271 0.72105503 0.6019659  0.912349   0.17635   ]]\n<class 'numpy.ndarray'>\n(3, 5)\n"
    }
   ],
   "source": [
    "# Conversion of Tensor to Numpy array\n",
    "import numpy as np\n",
    "\n",
    "rand = torch.rand(3, 5, dtype=torch.float)\n",
    "print(rand)\n",
    "\n",
    "arr = rand.numpy()\n",
    "print(arr)\n",
    "print(type(arr))\n",
    "print(arr.shape)"
   ]
  },
  {
   "cell_type": "code",
   "execution_count": 29,
   "metadata": {},
   "outputs": [
    {
     "output_type": "stream",
     "name": "stdout",
     "text": "tensor([[0.2100, 0.6967, 0.6107, 0.4805, 0.6297],\n        [0.0085, 0.4808, 0.9559, 0.1654, 0.1124],\n        [0.0239, 0.7211, 0.6020, 0.9123, 0.1763]])\n<class 'torch.Tensor'>\n"
    }
   ],
   "source": [
    "# Conversion of Numpy array to Tensor\n",
    "rand = torch.from_numpy(arr)\n",
    "print(rand)\n",
    "print(type(rand))"
   ]
  },
  {
   "cell_type": "markdown",
   "metadata": {},
   "source": [
    "## Autograd feature\n",
    "\n",
    "Flow:\n",
    "\n",
    "1. f1 = x           | x\n",
    "2. f2 = f1 * 4      | 4x\n",
    "3. f3 = f2**2       | 16x^2\n",
    "4. f4 = f3 + f2     | 16x^2 + 4x\n",
    "5. f5 = f4.sum()    | sum(...)\n",
    "5. gradient(f5)     | "
   ]
  },
  {
   "cell_type": "code",
   "execution_count": 46,
   "metadata": {},
   "outputs": [
    {
     "output_type": "stream",
     "name": "stdout",
     "text": "tensor([2., 4.], requires_grad=True)\n"
    }
   ],
   "source": [
    "x = torch.tensor([2, 4], dtype=torch.float, requires_grad=True)\n",
    "print(x)"
   ]
  },
  {
   "cell_type": "code",
   "execution_count": 47,
   "metadata": {},
   "outputs": [
    {
     "output_type": "stream",
     "name": "stdout",
     "text": "tensor(344., grad_fn=<SumBackward0>)\n"
    }
   ],
   "source": [
    "f1 = x\n",
    "f2 = f1 * 4\n",
    "f3 = f2**2\n",
    "f4 = f3 + f2\n",
    "f5 = f4.sum()\n",
    "print(f5)"
   ]
  },
  {
   "cell_type": "code",
   "execution_count": 48,
   "metadata": {},
   "outputs": [
    {
     "output_type": "stream",
     "name": "stdout",
     "text": "tensor([ 68., 132.])\n"
    }
   ],
   "source": [
    "f5.backward()\n",
    "print(x.grad)"
   ]
  },
  {
   "cell_type": "markdown",
   "metadata": {},
   "source": [
    "## Numpy vs Pytorch\n",
    "\n",
    "### Numpy array initialization\n",
    "+ Create a numpy array\n",
    "+ Display array\n",
    "+ Display type of array\n",
    "+ Display size of array"
   ]
  },
  {
   "cell_type": "code",
   "execution_count": 4,
   "metadata": {},
   "outputs": [
    {
     "name": "stdout",
     "output_type": "stream",
     "text": "[[1 2 3]\n [4 5 6]]\n<class 'numpy.ndarray'>\n(2, 3)\n"
    }
   ],
   "source": [
    "import numpy as np\n",
    "\n",
    "array = [[1,2,3],[4,5,6]]\n",
    "nparray = np.array(array)\n",
    "print(nparray)\n",
    "print(type(nparray))\n",
    "print(nparray.shape)"
   ]
  },
  {
   "cell_type": "markdown",
   "metadata": {},
   "source": [
    "### Pytorch Tensor initialization\n",
    "\n",
    "+ Create a torch.Tensor from array\n",
    "+ Display Tensor\n",
    "+ Display type of Tensor\n",
    "+ Display size of Tensor"
   ]
  },
  {
   "cell_type": "code",
   "execution_count": 5,
   "metadata": {},
   "outputs": [
    {
     "name": "stdout",
     "output_type": "stream",
     "text": "tensor([[1., 2., 3.],\n        [4., 5., 6.]])\n<built-in method type of Tensor object at 0x0000020977D6DBD0>\ntorch.Size([2, 3])\n"
    }
   ],
   "source": [
    "import torch\n",
    "\n",
    "tensor_arr = torch.Tensor(array)\n",
    "print(tensor_arr)\n",
    "print(tensor_arr.type)\n",
    "print(tensor_arr.shape)"
   ]
  },
  {
   "cell_type": "markdown",
   "metadata": {},
   "source": [
    "### Identity array"
   ]
  },
  {
   "cell_type": "code",
   "execution_count": 6,
   "metadata": {},
   "outputs": [
    {
     "name": "stdout",
     "output_type": "stream",
     "text": "[[1. 1. 1. 1.]\n [1. 1. 1. 1.]]\ntensor([[1., 1., 1., 1.],\n        [1., 1., 1., 1.]])\n"
    }
   ],
   "source": [
    "print(np.ones((2,4)))\n",
    "\n",
    "print(torch.ones((2,4)))"
   ]
  },
  {
   "cell_type": "markdown",
   "metadata": {},
   "source": [
    "### Random array"
   ]
  },
  {
   "cell_type": "code",
   "execution_count": 8,
   "metadata": {},
   "outputs": [
    {
     "name": "stdout",
     "output_type": "stream",
     "text": "[[ 0.49757941  1.21899989 -1.97343286 -0.8883544 ]\n [-0.07033942  1.35262783 -1.1313371   0.89954977]]\n[[0.52806885 0.69094027 0.68482042 0.77944977]\n [0.15156258 0.27967442 0.67937988 0.01698071]]\ntensor([[-0.7756,  0.4732,  0.3204,  0.8793],\n        [-0.3951,  0.0433,  1.3193,  0.3694]])\ntensor([[0.9402, 0.2392, 0.4254, 0.0728],\n        [0.8128, 0.7795, 0.9274, 0.3200]])\n"
    }
   ],
   "source": [
    "print(np.random.randn(2, 4))\n",
    "print(np.random.rand(2, 4))\n",
    "\n",
    "print(torch.randn((2,4)))\n",
    "print(torch.rand((2,4)))"
   ]
  },
  {
   "cell_type": "markdown",
   "metadata": {},
   "source": [
    "### Numpy array to Tensor and vice-versa"
   ]
  },
  {
   "cell_type": "code",
   "execution_count": 9,
   "metadata": {},
   "outputs": [
    {
     "name": "stdout",
     "output_type": "stream",
     "text": "[[0.08688301 0.72823945 0.06910246 0.60743097]\n [0.9022125  0.65736611 0.68962442 0.15798959]]\n<class 'numpy.ndarray'>\ntensor([[0.0869, 0.7282, 0.0691, 0.6074],\n        [0.9022, 0.6574, 0.6896, 0.1580]], dtype=torch.float64)\n<class 'torch.Tensor'>\n[[0.08688301 0.72823945 0.06910246 0.60743097]\n [0.9022125  0.65736611 0.68962442 0.15798959]]\n<class 'numpy.ndarray'>\n"
    }
   ],
   "source": [
    "rand_arr = np.random.rand(2, 4)\n",
    "print(rand_arr)\n",
    "print(type(rand_arr))\n",
    "\n",
    "np_to_tensor = torch.from_numpy(rand_arr)\n",
    "print(np_to_tensor)\n",
    "print(type(np_to_tensor))\n",
    "\n",
    "tensor_to_np = np_to_tensor.numpy()\n",
    "print(tensor_to_np)\n",
    "print(type(tensor_to_np))"
   ]
  },
  {
   "cell_type": "markdown",
   "metadata": {},
   "source": [
    "## Variables in pytorch\n",
    "\n",
    "+ Difference b/w Tensor and Variables? Variables accumulates gradients. \n",
    "+ Variables are used for back propogation"
   ]
  },
  {
   "cell_type": "code",
   "execution_count": 11,
   "metadata": {},
   "outputs": [
    {
     "name": "stdout",
     "output_type": "stream",
     "text": "tensor([[1., 1., 1.],\n        [1., 1., 1.],\n        [1., 1., 1.]], requires_grad=True)\n"
    }
   ],
   "source": [
    "from torch.autograd import Variable\n",
    "\n",
    "var = Variable(torch.ones((3,3)), requires_grad = True)\n",
    "print(var)"
   ]
  },
  {
   "cell_type": "markdown",
   "metadata": {},
   "source": [
    "### Basics of backward propogation\n",
    "\n",
    "+ Let an equation be $y = x^2$\n",
    "+ $X = [2, 4]$\n",
    "+ Let recap o equation be $o = \\frac{1}{2}\\sum y = \\frac{1}{2}\\sum x^2$\n",
    "+ Derivative of $o = x$ therefore, gradients $ = [2, 4]$"
   ]
  },
  {
   "cell_type": "code",
   "execution_count": 14,
   "metadata": {},
   "outputs": [
    {
     "name": "stdout",
     "output_type": "stream",
     "text": "tensor([ 4., 16.], grad_fn=<PowBackward0>)\ntensor(10., grad_fn=<MulBackward0>)\nGradients: tensor([2., 4.])\n"
    }
   ],
   "source": [
    "x = Variable(torch.Tensor([2, 4]), requires_grad = True)\n",
    "y = x**2\n",
    "print(y)\n",
    "\n",
    "o = (1/2) * sum(y)\n",
    "print(o)\n",
    "\n",
    "o.backward() # Back Propogation\n",
    "\n",
    "print('Gradients: {}'.format(x.grad))"
   ]
  },
  {
   "cell_type": "code",
   "execution_count": null,
   "metadata": {},
   "outputs": [],
   "source": []
  }
 ]
}