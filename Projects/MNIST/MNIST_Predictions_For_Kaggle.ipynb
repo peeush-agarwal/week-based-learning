{
  "nbformat": 4,
  "nbformat_minor": 0,
  "metadata": {
    "colab": {
      "name": "Predictions_4.ipynb",
      "provenance": [],
      "collapsed_sections": [],
      "include_colab_link": true
    },
    "kernelspec": {
      "name": "python3",
      "display_name": "Python 3"
    },
    "accelerator": "GPU"
  },
  "cells": [
    {
      "cell_type": "markdown",
      "metadata": {
        "id": "view-in-github",
        "colab_type": "text"
      },
      "source": [
        "<a href=\"https://colab.research.google.com/github/peeush-agarwal/week-based-learning/blob/master/Projects/MNIST/MNIST_Predictions_For_Kaggle.ipynb\" target=\"_parent\"><img src=\"https://colab.research.google.com/assets/colab-badge.svg\" alt=\"Open In Colab\"/></a>"
      ]
    },
    {
      "cell_type": "code",
      "metadata": {
        "id": "9NtiSmaeNNmt",
        "colab_type": "code",
        "colab": {}
      },
      "source": [
        "# ! unzip train.csv.zip\n",
        "# ! unzip test.csv.zip"
      ],
      "execution_count": 0,
      "outputs": []
    },
    {
      "cell_type": "code",
      "metadata": {
        "id": "kIja8L3k-YmX",
        "trusted": true,
        "colab_type": "code",
        "colab": {}
      },
      "source": [
        "import pandas as pd\n",
        "import numpy as np\n",
        "import matplotlib.pyplot as plt\n",
        "from sklearn.model_selection import train_test_split\n",
        "\n",
        "plt.style.use('dark_background')"
      ],
      "execution_count": 0,
      "outputs": []
    },
    {
      "cell_type": "code",
      "metadata": {
        "id": "XxhMicDl85-L",
        "outputId": "18570c43-8e0d-4be8-d449-5930d5e0b88d",
        "trusted": true,
        "colab_type": "code",
        "colab": {
          "base_uri": "https://localhost:8080/",
          "height": 136
        }
      },
      "source": [
        "# train_df = pd.read_csv('/kaggle/input/digit-recognizer/train.csv')\n",
        "# test_df = pd.read_csv('/kaggle/input/digit-recognizer/test.csv')\n",
        "\n",
        "train_df = pd.read_csv('./train.csv')\n",
        "test_df = pd.read_csv('./test.csv')\n",
        "\n",
        "print('Raw data:')\n",
        "print(f'- Train data: {train_df.shape}')\n",
        "print(f'- Test data: {test_df.shape}')\n",
        "\n",
        "# Train Data has \n",
        "# 1. label <= Column 0\n",
        "# 2. Pixels <= Column 1 to Column 784\n",
        "\n",
        "# Test Data has \n",
        "# 1. Pixels <= Column 0 to Column 783\n",
        "\n",
        "train_labels = train_df['label']\n",
        "train_df.drop('label', axis=1, inplace=True)\n",
        "\n",
        "print('After fetchin label from train data:')\n",
        "print(f'- Label data: {train_labels.shape}')\n",
        "print(f'- Train data: {train_df.shape}')\n",
        "print(f'- Test data: {test_df.shape}')"
      ],
      "execution_count": 6,
      "outputs": [
        {
          "output_type": "stream",
          "text": [
            "Raw data:\n",
            "- Train data: (42000, 785)\n",
            "- Test data: (28000, 784)\n",
            "After fetchin label from train data:\n",
            "- Label data: (42000,)\n",
            "- Train data: (42000, 784)\n",
            "- Test data: (28000, 784)\n"
          ],
          "name": "stdout"
        }
      ]
    },
    {
      "cell_type": "code",
      "metadata": {
        "id": "uCUk1Bqx-j84",
        "outputId": "54ea18fe-a377-4080-f078-d44143dedeb9",
        "trusted": true,
        "colab_type": "code",
        "colab": {
          "base_uri": "https://localhost:8080/",
          "height": 85
        }
      },
      "source": [
        "# Split train into Train and Validation dataset\n",
        "X_train, X_validation, y_train, y_validation = train_test_split(train_df, train_labels, test_size = 0.2, random_state = 42)\n",
        "\n",
        "print(f'X_train:{X_train.shape}')\n",
        "print(f'y_train:{y_train.shape}')\n",
        "print(f'X_validation:{X_validation.shape}')\n",
        "print(f'y_validation:{y_validation.shape}')\n"
      ],
      "execution_count": 7,
      "outputs": [
        {
          "output_type": "stream",
          "text": [
            "X_train:(33600, 784)\n",
            "y_train:(33600,)\n",
            "X_validation:(8400, 784)\n",
            "y_validation:(8400,)\n"
          ],
          "name": "stdout"
        }
      ]
    },
    {
      "cell_type": "code",
      "metadata": {
        "id": "SHAfTXBw-o24",
        "trusted": true,
        "colab_type": "code",
        "colab": {}
      },
      "source": [
        "import torch\n",
        "import torch.nn as nn\n",
        "import torch.nn.functional as F\n",
        "from torch.utils.data import Dataset\n",
        "import torchvision"
      ],
      "execution_count": 0,
      "outputs": []
    },
    {
      "cell_type": "code",
      "metadata": {
        "id": "VhGkNN9i_1Dn",
        "outputId": "a6e1958c-0a17-4606-f5e9-55f12d013720",
        "trusted": true,
        "colab_type": "code",
        "colab": {
          "base_uri": "https://localhost:8080/",
          "height": 68
        }
      },
      "source": [
        "print(X_train.values[0].shape)\n",
        "item = torch.tensor(X_train.values[0], dtype=torch.float)\n",
        "print(item.size())\n",
        "item_1 = item.view(1, 28, 28)\n",
        "print(item_1.size())"
      ],
      "execution_count": 9,
      "outputs": [
        {
          "output_type": "stream",
          "text": [
            "(784,)\n",
            "torch.Size([784])\n",
            "torch.Size([1, 28, 28])\n"
          ],
          "name": "stdout"
        }
      ]
    },
    {
      "cell_type": "code",
      "metadata": {
        "id": "tEaT9idK-17N",
        "trusted": true,
        "colab_type": "code",
        "colab": {}
      },
      "source": [
        "class MNIST_Dataset(Dataset):\n",
        "    def __init__(self, features, labels):\n",
        "        self.inputs = torch.tensor(features.values, dtype=torch.float)\n",
        "        self.labels = torch.tensor(labels.values)\n",
        "        \n",
        "    def __len__(self):\n",
        "        \"\"\"\n",
        "        Denotes the total number of samples.\n",
        "        \"\"\"\n",
        "        return len(self.labels)\n",
        "\n",
        "    def __getitem__(self, idx):\n",
        "        \"\"\"\n",
        "        Generates one sample of data.\n",
        "        \"\"\"\n",
        "        input_item = self.inputs[idx]\n",
        "        return input_item.view(1, 28, 28), self.labels[idx]"
      ],
      "execution_count": 0,
      "outputs": []
    },
    {
      "cell_type": "code",
      "metadata": {
        "id": "nFOjSyrNAfrI",
        "trusted": true,
        "colab_type": "code",
        "colab": {}
      },
      "source": [
        "batch_size = 256"
      ],
      "execution_count": 0,
      "outputs": []
    },
    {
      "cell_type": "code",
      "metadata": {
        "id": "ILyjwp_VAJwU",
        "trusted": true,
        "colab_type": "code",
        "colab": {}
      },
      "source": [
        "trainset = MNIST_Dataset(X_train, y_train)\n",
        "validset = MNIST_Dataset(X_validation, y_validation)\n",
        "\n",
        "trainloader = torch.utils.data.DataLoader(trainset, batch_size, shuffle=True, num_workers=2)\n",
        "validloader = torch.utils.data.DataLoader(validset, batch_size, shuffle=False, num_workers=2)"
      ],
      "execution_count": 0,
      "outputs": []
    },
    {
      "cell_type": "code",
      "metadata": {
        "id": "jrLZaV5XA5wm",
        "trusted": true,
        "colab_type": "code",
        "colab": {}
      },
      "source": [
        "def imshow(images, labels):\n",
        "  plt.figure(figsize=(images.size()[0]*4, 4))\n",
        "  plt.imshow(images.numpy().transpose((1, 2, 0)))\n",
        "  plt.axis('off')\n",
        "  plt.title(f'{[label.item() for label in labels]}')\n",
        "  plt.show()"
      ],
      "execution_count": 0,
      "outputs": []
    },
    {
      "cell_type": "code",
      "metadata": {
        "id": "NnGtlyFgBlIA",
        "outputId": "41964c9a-dadd-4ef5-c383-17bc9a888fb7",
        "trusted": true,
        "colab_type": "code",
        "colab": {
          "base_uri": "https://localhost:8080/",
          "height": 240
        }
      },
      "source": [
        "inputs, labels = next(iter(trainloader))\n",
        "\n",
        "inputs = torchvision.utils.make_grid(inputs[:4])\n",
        "labels = labels[:4]\n",
        "\n",
        "imshow(inputs, labels)"
      ],
      "execution_count": 14,
      "outputs": [
        {
          "output_type": "stream",
          "text": [
            "Clipping input data to the valid range for imshow with RGB data ([0..1] for floats or [0..255] for integers).\n"
          ],
          "name": "stderr"
        },
        {
          "output_type": "display_data",
          "data": {
            "image/png": "[encoded data removed]",
            "text/plain": [
              "<Figure size 864x288 with 1 Axes>"
            ]
          },
          "metadata": {
            "tags": []
          }
        }
      ]
    },
    {
      "cell_type": "code",
      "metadata": {
        "id": "lsmqufLSON3s",
        "trusted": true,
        "colab_type": "code",
        "colab": {}
      },
      "source": [
        "device = torch.device('cuda:0' if torch.cuda.is_available() else 'cpu')"
      ],
      "execution_count": 0,
      "outputs": []
    },
    {
      "cell_type": "code",
      "metadata": {
        "id": "Qfwhq8bsOVAp",
        "outputId": "d13c5bc4-4d50-4ee6-b709-6b59c4d57fcc",
        "trusted": true,
        "colab_type": "code",
        "colab": {
          "base_uri": "https://localhost:8080/",
          "height": 34
        }
      },
      "source": [
        "print(device)"
      ],
      "execution_count": 16,
      "outputs": [
        {
          "output_type": "stream",
          "text": [
            "cuda:0\n"
          ],
          "name": "stdout"
        }
      ]
    },
    {
      "cell_type": "code",
      "metadata": {
        "id": "IFiMs7QoWbRB",
        "colab_type": "code",
        "colab": {}
      },
      "source": [
        "class MNIST_CNN(nn.Module):\n",
        "  def __init__(self):\n",
        "    super(MNIST_CNN, self).__init__()\n",
        "\n",
        "    self.features = nn.Sequential(\n",
        "        nn.Conv2d(1, 32, 3, 1, 1),      # (1, 28, 28) => (32, 28, 28)\n",
        "        nn.BatchNorm2d(32),\n",
        "        nn.ReLU(inplace=True),\n",
        "        nn.Conv2d(32, 32, 3, 1, 1),     # (32, 28, 28) => (32, 28, 28)\n",
        "        nn.BatchNorm2d(32),\n",
        "        nn.ReLU(inplace=True),\n",
        "        #nn.MaxPool2d(2, stride=2),      # (32, 28, 28) => (32, 14, 14)\n",
        "        nn.Conv2d(32, 32, 5, 2, 2),        # (32, 28, 28) => (32, 14, 14)\n",
        "        nn.BatchNorm2d(32),\n",
        "        nn.ReLU(inplace=True),\n",
        "        nn.Conv2d(32, 64, 3, 1, 1),     # (32, 14, 14) => (64, 14, 14)\n",
        "        nn.BatchNorm2d(64),\n",
        "        nn.ReLU(inplace=True),\n",
        "        nn.Conv2d(64, 64, 3, 1, 1),     # (64, 14, 14) => (64, 14, 14)\n",
        "        nn.BatchNorm2d(64),\n",
        "        nn.ReLU(inplace=True),\n",
        "        #nn.MaxPool2d(2, stride=2)      # (64, 14, 14) => (64, 7, 7)\n",
        "        nn.Conv2d(64, 64, 5, 2, 2),        # (64, 14, 14) => (64, 7, 7)\n",
        "        nn.BatchNorm2d(64),\n",
        "        nn.ReLU(inplace=True)\n",
        "    )\n",
        "    self.classifier = nn.Sequential(\n",
        "        nn.Dropout(0.5),\n",
        "        nn.Linear(64*7*7, 128),\n",
        "        nn.BatchNorm1d(128),\n",
        "        nn.ReLU(inplace=True),\n",
        "        nn.Dropout(0.5),\n",
        "        nn.Linear(128, 10)\n",
        "    )\n",
        "\n",
        "  def forward(self, x):\n",
        "    out = self.features(x)\n",
        "    out = out.view(out.size()[0], -1)\n",
        "    out = self.classifier(out)\n",
        "    return out"
      ],
      "execution_count": 0,
      "outputs": []
    },
    {
      "cell_type": "code",
      "metadata": {
        "id": "OrLrZhP2U9Pg",
        "colab_type": "code",
        "colab": {}
      },
      "source": [
        "model = MNIST_CNN().to(device)\n",
        "criterion = nn.CrossEntropyLoss()\n",
        "optimizer = torch.optim.SGD(model.parameters(), lr=0.01, momentum=0.9)"
      ],
      "execution_count": 0,
      "outputs": []
    },
    {
      "cell_type": "code",
      "metadata": {
        "id": "nUIN2ragC_Ul",
        "outputId": "a7f35e43-6e58-4832-fb8b-762789785e7c",
        "trusted": true,
        "colab_type": "code",
        "colab": {
          "base_uri": "https://localhost:8080/",
          "height": 1000
        }
      },
      "source": [
        "%%time\n",
        "num_epochs = 80\n",
        "\n",
        "model.train()\n",
        "\n",
        "epoch_losses = []\n",
        "accuracies = []\n",
        "for epoch in range(num_epochs):\n",
        "  epoch_loss = 0\n",
        "\n",
        "  total = 0\n",
        "  correct = 0\n",
        "\n",
        "  for batch_id, data in enumerate(trainloader, 0):\n",
        "    inputs, labels = data\n",
        "    inputs = inputs.to(device)\n",
        "    labels = labels.to(device)\n",
        "\n",
        "    optimizer.zero_grad()\n",
        "    outputs = model(inputs)\n",
        "    _, preds = torch.max(outputs.data, 1)\n",
        "    loss = criterion(outputs, labels)\n",
        "    loss.backward()\n",
        "    optimizer.step()\n",
        "\n",
        "    epoch_loss += loss.item()\n",
        "\n",
        "    total += len(labels)\n",
        "    correct += (preds == labels).sum()\n",
        "\n",
        "    if batch_id != 0 and batch_id % 128 == 0:\n",
        "      print(f'Epoch:{epoch}, batch:{batch_id}, loss:{loss}, avg_loss:{epoch_loss/batch_id}, accuracy={100.0*correct/total}')\n",
        "  \n",
        "  epoch_loss = epoch_loss/len(trainloader)\n",
        "  accuracy = 100.0*correct/total\n",
        "  print(f'Epoch loss: {epoch_loss}, accuracy={accuracy}')\n",
        "  epoch_losses.append(epoch_loss)\n",
        "  accuracies.append(accuracy)\n",
        "\n",
        "print('Training completed')"
      ],
      "execution_count": 19,
      "outputs": [
        {
          "output_type": "stream",
          "text": [
            "Epoch:0, batch:128, loss:0.14393766224384308, avg_loss:0.4815910166944377, accuracy=87.33345031738281\n",
            "Epoch loss: 0.4705176960225358, accuracy=87.48511505126953\n",
            "Epoch:1, batch:128, loss:0.09797843545675278, avg_loss:0.10868430649861693, accuracy=97.2625961303711\n",
            "Epoch loss: 0.10766019768109827, accuracy=97.27678680419922\n",
            "Epoch:2, batch:128, loss:0.0840207114815712, avg_loss:0.07350666458660271, accuracy=98.11652374267578\n",
            "Epoch loss: 0.0729039021993451, accuracy=98.11607360839844\n",
            "Epoch:3, batch:128, loss:0.06253547966480255, avg_loss:0.056958537839818746, accuracy=98.6373519897461\n",
            "Epoch loss: 0.056550769191799743, accuracy=98.63095092773438\n",
            "Epoch:4, batch:128, loss:0.0361558198928833, avg_loss:0.04914502191240899, accuracy=98.7160873413086\n",
            "Epoch loss: 0.04884257870302959, accuracy=98.7202377319336\n",
            "Epoch:5, batch:128, loss:0.031632035970687866, avg_loss:0.04141416650963947, accuracy=98.94622039794922\n",
            "Epoch loss: 0.041082594924691046, accuracy=98.94940185546875\n",
            "Epoch:6, batch:128, loss:0.0376775898039341, avg_loss:0.036455279630899895, accuracy=99.10368347167969\n",
            "Epoch loss: 0.035827246148873004, accuracy=99.11607360839844\n",
            "Epoch:7, batch:128, loss:0.028279107064008713, avg_loss:0.03282251104246825, accuracy=99.08248138427734\n",
            "Epoch loss: 0.03265552521880829, accuracy=99.08333587646484\n",
            "Epoch:8, batch:128, loss:0.04504093527793884, avg_loss:0.030065407256188337, accuracy=99.2217788696289\n",
            "Epoch loss: 0.029798196395859122, accuracy=99.2202377319336\n",
            "Epoch:9, batch:128, loss:0.028327981010079384, avg_loss:0.02633757225703448, accuracy=99.33684539794922\n",
            "Epoch loss: 0.025987193524611717, accuracy=99.3422622680664\n",
            "Epoch:10, batch:128, loss:0.016943015158176422, avg_loss:0.024886690407583956, accuracy=99.37621307373047\n",
            "Epoch loss: 0.024628299112064822, accuracy=99.375\n",
            "Epoch:11, batch:128, loss:0.019457785412669182, avg_loss:0.02287344126671087, accuracy=99.406494140625\n",
            "Epoch loss: 0.022486115678806196, accuracy=99.4047622680664\n",
            "Epoch:12, batch:128, loss:0.0358562171459198, avg_loss:0.019498551584547386, accuracy=99.52458953857422\n",
            "Epoch loss: 0.019131127871911634, accuracy=99.5297622680664\n",
            "Epoch:13, batch:128, loss:0.01629059761762619, avg_loss:0.018668831908144057, accuracy=99.53064727783203\n",
            "Epoch loss: 0.018329784916149394, accuracy=99.53571319580078\n",
            "Epoch:14, batch:128, loss:0.010602537542581558, avg_loss:0.016526051062101033, accuracy=99.57606506347656\n",
            "Epoch loss: 0.01657947125336663, accuracy=99.57440185546875\n",
            "Epoch:15, batch:128, loss:0.012726555578410625, avg_loss:0.016259902229649015, accuracy=99.60028839111328\n",
            "Epoch loss: 0.0160086133771322, accuracy=99.60416412353516\n",
            "Epoch:16, batch:128, loss:0.019582120701670647, avg_loss:0.013954498899693135, accuracy=99.67902374267578\n",
            "Epoch loss: 0.01388578248831133, accuracy=99.67559051513672\n",
            "Epoch:17, batch:128, loss:0.015374001115560532, avg_loss:0.013393016641202848, accuracy=99.66993713378906\n",
            "Epoch loss: 0.013141845931496584, accuracy=99.67261505126953\n",
            "Epoch:18, batch:128, loss:0.0030606910586357117, avg_loss:0.012167336593847722, accuracy=99.7214126586914\n",
            "Epoch loss: 0.011953774853750612, accuracy=99.72321319580078\n",
            "Epoch:19, batch:128, loss:0.013773591257631779, avg_loss:0.010795197638799436, accuracy=99.77289581298828\n",
            "Epoch loss: 0.010632884731008247, accuracy=99.77083587646484\n",
            "Epoch:20, batch:128, loss:0.017710726708173752, avg_loss:0.008625928196124732, accuracy=99.83042907714844\n",
            "Epoch loss: 0.008573021436335914, accuracy=99.83333587646484\n",
            "Epoch:21, batch:128, loss:0.004360208287835121, avg_loss:0.008458394608169328, accuracy=99.80619812011719\n",
            "Epoch loss: 0.008760462888996259, accuracy=99.79761505126953\n",
            "Epoch:22, batch:128, loss:0.00592675618827343, avg_loss:0.009596613090252504, accuracy=99.73655700683594\n",
            "Epoch loss: 0.00943588459807815, accuracy=99.73809051513672\n",
            "Epoch:23, batch:128, loss:0.016038045287132263, avg_loss:0.007890171247709077, accuracy=99.8152847290039\n",
            "Epoch loss: 0.00785184959231904, accuracy=99.80952453613281\n",
            "Epoch:24, batch:128, loss:0.004579968750476837, avg_loss:0.008203866564144846, accuracy=99.8152847290039\n",
            "Epoch loss: 0.008471564425042632, accuracy=99.80654907226562\n",
            "Epoch:25, batch:128, loss:0.003635268658399582, avg_loss:0.009454960381845012, accuracy=99.79106140136719\n",
            "Epoch loss: 0.0095903570975431, accuracy=99.79166412353516\n",
            "Epoch:26, batch:128, loss:0.00719812884926796, avg_loss:0.011048865679185838, accuracy=99.7183837890625\n",
            "Epoch loss: 0.010845896646831974, accuracy=99.7202377319336\n",
            "Epoch:27, batch:128, loss:0.0037458743900060654, avg_loss:0.007281530153704807, accuracy=99.82740020751953\n",
            "Epoch loss: 0.007353051819584586, accuracy=99.82737731933594\n",
            "Epoch:28, batch:128, loss:0.005007957108318806, avg_loss:0.007752176032226998, accuracy=99.8092269897461\n",
            "Epoch loss: 0.0076490320956729575, accuracy=99.8125\n",
            "Epoch:29, batch:128, loss:0.0016058757901191711, avg_loss:0.0066813019911933225, accuracy=99.86071014404297\n",
            "Epoch loss: 0.006535088759846985, accuracy=99.86309051513672\n",
            "Epoch:30, batch:128, loss:0.0033838246017694473, avg_loss:0.005587754276348278, accuracy=99.89401245117188\n",
            "Epoch loss: 0.005615642139067252, accuracy=99.89285278320312\n",
            "Epoch:31, batch:128, loss:0.004221472889184952, avg_loss:0.006243181094760075, accuracy=99.88190460205078\n",
            "Epoch loss: 0.0061246341475370255, accuracy=99.88392639160156\n",
            "Epoch:32, batch:128, loss:0.0031120814383029938, avg_loss:0.004930398892611265, accuracy=99.9061279296875\n",
            "Epoch loss: 0.0048834572292186995, accuracy=99.9047622680664\n",
            "Epoch:33, batch:128, loss:0.010713180527091026, avg_loss:0.00468593645200599, accuracy=99.89704132080078\n",
            "Epoch loss: 0.004829769629533544, accuracy=99.89285278320312\n",
            "Epoch:34, batch:128, loss:0.007685169577598572, avg_loss:0.005662104711518623, accuracy=99.83042907714844\n",
            "Epoch loss: 0.005579851384302883, accuracy=99.83333587646484\n",
            "Epoch:35, batch:128, loss:0.001698104664683342, avg_loss:0.0035610268387245014, accuracy=99.94549560546875\n",
            "Epoch loss: 0.0036705570140232644, accuracy=99.94047546386719\n",
            "Epoch:36, batch:128, loss:0.015580539591610432, avg_loss:0.00422596228600014, accuracy=99.93338012695312\n",
            "Epoch loss: 0.004230630838058211, accuracy=99.92857360839844\n",
            "Epoch:37, batch:128, loss:0.005247076973319054, avg_loss:0.003801094244408887, accuracy=99.93338012695312\n",
            "Epoch loss: 0.0037784298148119087, accuracy=99.93154907226562\n",
            "Epoch:38, batch:128, loss:0.0014475900679826736, avg_loss:0.003983031652751379, accuracy=99.91824340820312\n",
            "Epoch loss: 0.003950154479367264, accuracy=99.91963958740234\n",
            "Epoch:39, batch:128, loss:0.0029912078753113747, avg_loss:0.003907591752067674, accuracy=99.93035125732422\n",
            "Epoch loss: 0.003910091924339984, accuracy=99.92857360839844\n",
            "Epoch:40, batch:128, loss:0.0046664755791425705, avg_loss:0.0032964433630695567, accuracy=99.94549560546875\n",
            "Epoch loss: 0.0032341238675695477, accuracy=99.94642639160156\n",
            "Epoch:41, batch:128, loss:0.0020400118082761765, avg_loss:0.0039176549689727835, accuracy=99.91218566894531\n",
            "Epoch loss: 0.003873245007443157, accuracy=99.91368865966797\n",
            "Epoch:42, batch:128, loss:0.001254526898264885, avg_loss:0.003089184447162552, accuracy=99.94852447509766\n",
            "Epoch loss: 0.003152367443721177, accuracy=99.94345092773438\n",
            "Epoch:43, batch:128, loss:0.0053887199610471725, avg_loss:0.003924275064491667, accuracy=99.92127227783203\n",
            "Epoch loss: 0.004046547868655938, accuracy=99.91368865966797\n",
            "Epoch:44, batch:128, loss:0.0028354469686746597, avg_loss:0.0026691690800362267, accuracy=99.95760345458984\n",
            "Epoch loss: 0.002666788309756102, accuracy=99.95833587646484\n",
            "Epoch:45, batch:128, loss:0.0053964704275131226, avg_loss:0.00249111965240445, accuracy=99.96063232421875\n",
            "Epoch loss: 0.002463639502159574, accuracy=99.96131134033203\n",
            "Epoch:46, batch:128, loss:0.0010762829333543777, avg_loss:0.0028948703038622625, accuracy=99.93943786621094\n",
            "Epoch loss: 0.0029155145131164427, accuracy=99.94047546386719\n",
            "Epoch:47, batch:128, loss:0.004628857597708702, avg_loss:0.0030396252768696286, accuracy=99.95155334472656\n",
            "Epoch loss: 0.0029905777297575364, accuracy=99.95237731933594\n",
            "Epoch:48, batch:128, loss:0.0012424662709236145, avg_loss:0.002259440123452805, accuracy=99.97274780273438\n",
            "Epoch loss: 0.002211755056950179, accuracy=99.97321319580078\n",
            "Epoch:49, batch:128, loss:0.0016149701550602913, avg_loss:0.0024387676967307925, accuracy=99.96063232421875\n",
            "Epoch loss: 0.0023903414240163384, accuracy=99.96131134033203\n",
            "Epoch:50, batch:128, loss:0.0012342575937509537, avg_loss:0.0022118763154139742, accuracy=99.96971893310547\n",
            "Epoch loss: 0.0021632958880879664, accuracy=99.9702377319336\n",
            "Epoch:51, batch:128, loss:0.004548005759716034, avg_loss:0.0022212468829820864, accuracy=99.96063232421875\n",
            "Epoch loss: 0.002201617547226223, accuracy=99.96131134033203\n",
            "Epoch:52, batch:128, loss:0.0006475690752267838, avg_loss:0.002579744119429961, accuracy=99.94852447509766\n",
            "Epoch loss: 0.0025355656080963936, accuracy=99.94940185546875\n",
            "Epoch:53, batch:128, loss:0.007942305877804756, avg_loss:0.0017691160755930468, accuracy=99.97880554199219\n",
            "Epoch loss: 0.0017595384411062255, accuracy=99.97916412353516\n",
            "Epoch:54, batch:128, loss:0.0008769463747739792, avg_loss:0.002156063783331774, accuracy=99.97577667236328\n",
            "Epoch loss: 0.0021173276543391475, accuracy=99.97618865966797\n",
            "Epoch:55, batch:128, loss:0.005900101736187935, avg_loss:0.002018516657699365, accuracy=99.96366119384766\n",
            "Epoch loss: 0.001989969059429837, accuracy=99.96428680419922\n",
            "Epoch:56, batch:128, loss:0.002604914829134941, avg_loss:0.0019934438096242957, accuracy=99.96669006347656\n",
            "Epoch loss: 0.001988039514275663, accuracy=99.9672622680664\n",
            "Epoch:57, batch:128, loss:0.00086183100938797, avg_loss:0.0018540938399382867, accuracy=99.97274780273438\n",
            "Epoch loss: 0.0018638801394086895, accuracy=99.9702377319336\n",
            "Epoch:58, batch:128, loss:0.002006659284234047, avg_loss:0.0017526808223919943, accuracy=99.97577667236328\n",
            "Epoch loss: 0.0017383020568751927, accuracy=99.97618865966797\n",
            "Epoch:59, batch:128, loss:0.0004960745573043823, avg_loss:0.0016288064580294304, accuracy=99.97274780273438\n",
            "Epoch loss: 0.0016133868431841786, accuracy=99.97321319580078\n",
            "Epoch:60, batch:128, loss:0.0006200019270181656, avg_loss:0.0017522044145152904, accuracy=99.97577667236328\n",
            "Epoch loss: 0.0017230461676125274, accuracy=99.97618865966797\n",
            "Epoch:61, batch:128, loss:0.0008447300642728806, avg_loss:0.0019739278068300337, accuracy=99.97880554199219\n",
            "Epoch loss: 0.0019603396455446878, accuracy=99.97618865966797\n",
            "Epoch:62, batch:128, loss:0.0009062532335519791, avg_loss:0.00201164204190718, accuracy=99.97274780273438\n",
            "Epoch loss: 0.0019962007363298626, accuracy=99.9702377319336\n",
            "Epoch:63, batch:128, loss:0.0021190401166677475, avg_loss:0.0019808883298537694, accuracy=99.96971893310547\n",
            "Epoch loss: 0.0019749782513827085, accuracy=99.9672622680664\n",
            "Epoch:64, batch:128, loss:0.0012049600481987, avg_loss:0.0019621921455836855, accuracy=99.96669006347656\n",
            "Epoch loss: 0.0020197075579992748, accuracy=99.9672622680664\n",
            "Epoch:65, batch:128, loss:0.0010883882641792297, avg_loss:0.002284885420522187, accuracy=99.95457458496094\n",
            "Epoch loss: 0.002239125914815249, accuracy=99.95535278320312\n",
            "Epoch:66, batch:128, loss:0.004281031899154186, avg_loss:0.001949149496795144, accuracy=99.96669006347656\n",
            "Epoch loss: 0.0019520902935641282, accuracy=99.96428680419922\n",
            "Epoch:67, batch:128, loss:0.0010327193886041641, avg_loss:0.0013737529225181788, accuracy=99.98485565185547\n",
            "Epoch loss: 0.0013983451239200253, accuracy=99.98511505126953\n",
            "Epoch:68, batch:128, loss:0.004382926970720291, avg_loss:0.0015526742281508632, accuracy=99.97577667236328\n",
            "Epoch loss: 0.0015625239307568831, accuracy=99.97618865966797\n",
            "Epoch:69, batch:128, loss:0.004862746223807335, avg_loss:0.0016159839942702092, accuracy=99.97880554199219\n",
            "Epoch loss: 0.001607272160154852, accuracy=99.97916412353516\n",
            "Epoch:70, batch:128, loss:0.00478680245578289, avg_loss:0.0014570995117537677, accuracy=99.9818344116211\n",
            "Epoch loss: 0.0014414671441596565, accuracy=99.98213958740234\n",
            "Epoch:71, batch:128, loss:0.006897172890603542, avg_loss:0.0016913997096708044, accuracy=99.97577667236328\n",
            "Epoch loss: 0.0016561911695382812, accuracy=99.97618865966797\n",
            "Epoch:72, batch:128, loss:0.005336367525160313, avg_loss:0.0015438614645972848, accuracy=99.98485565185547\n",
            "Epoch loss: 0.0015313422984697602, accuracy=99.98511505126953\n",
            "Epoch:73, batch:128, loss:0.001961706206202507, avg_loss:0.0014104582805885002, accuracy=99.99091339111328\n",
            "Epoch loss: 0.001391458607306986, accuracy=99.99107360839844\n",
            "Epoch:74, batch:128, loss:0.0014988481998443604, avg_loss:0.001231198970344849, accuracy=99.97880554199219\n",
            "Epoch loss: 0.0012267376578441172, accuracy=99.97916412353516\n",
            "Epoch:75, batch:128, loss:0.0003145858645439148, avg_loss:0.0014729616668773815, accuracy=99.9818344116211\n",
            "Epoch loss: 0.001451096934915492, accuracy=99.98213958740234\n",
            "Epoch:76, batch:128, loss:0.0007594656199216843, avg_loss:0.0014701432664878666, accuracy=99.9818344116211\n",
            "Epoch loss: 0.0014366456166361318, accuracy=99.98213958740234\n",
            "Epoch:77, batch:128, loss:0.00020889565348625183, avg_loss:0.0014220449374988675, accuracy=99.97274780273438\n",
            "Epoch loss: 0.0014002439848175554, accuracy=99.97321319580078\n",
            "Epoch:78, batch:128, loss:0.0017973538488149643, avg_loss:0.0015036699405754916, accuracy=99.96971893310547\n",
            "Epoch loss: 0.001475578166939544, accuracy=99.9702377319336\n",
            "Epoch:79, batch:128, loss:0.0009341519325971603, avg_loss:0.0015390966946142726, accuracy=99.97880554199219\n",
            "Epoch loss: 0.0015418351783106725, accuracy=99.97916412353516\n",
            "Training completed\n",
            "CPU times: user 2min 15s, sys: 54.5 s, total: 3min 10s\n",
            "Wall time: 3min 19s\n"
          ],
          "name": "stdout"
        }
      ]
    },
    {
      "cell_type": "code",
      "metadata": {
        "id": "LhAadPam2bHH",
        "colab_type": "code",
        "outputId": "de01e571-716b-41b1-8ccb-393cecbcdbd6",
        "colab": {
          "base_uri": "https://localhost:8080/",
          "height": 281
        }
      },
      "source": [
        "plt.subplot(121)\n",
        "plt.plot(range(num_epochs), epoch_losses, 'r--')\n",
        "plt.title('Loss at each epoch')\n",
        "plt.subplot(122)\n",
        "plt.plot(range(num_epochs), accuracies, 'g-')\n",
        "plt.ylim(bottom=97)\n",
        "plt.title('Accuracy at each epoch')\n",
        "plt.show()"
      ],
      "execution_count": 20,
      "outputs": [
        {
          "output_type": "display_data",
          "data": {
            "image/png": "[encoded data removed]",
            "text/plain": [
              "<Figure size 432x288 with 2 Axes>"
            ]
          },
          "metadata": {
            "tags": []
          }
        }
      ]
    },
    {
      "cell_type": "code",
      "metadata": {
        "id": "coXL530vDsvm",
        "outputId": "774b6cd9-3091-468e-db4f-96746e55cf10",
        "trusted": true,
        "colab_type": "code",
        "colab": {
          "base_uri": "https://localhost:8080/",
          "height": 34
        }
      },
      "source": [
        "model.eval()\n",
        "\n",
        "with torch.no_grad():\n",
        "  total = 0\n",
        "  correct = 0\n",
        "  conf_mat = np.zeros((10, 10))\n",
        "  for batch_id, data in enumerate(validloader, 0):\n",
        "    inputs, labels = data\n",
        "    inputs = inputs.to(device)\n",
        "    labels = labels.to(device)\n",
        "\n",
        "    outputs = model(inputs)\n",
        "    _, preds = torch.max(outputs.data, 1)\n",
        "\n",
        "    for x, y in zip(preds.cpu().numpy(), labels.cpu().numpy()):\n",
        "      conf_mat[x][y] += 1\n",
        "\n",
        "    total += len(labels)\n",
        "    correct += (preds == labels).sum()\n",
        "  \n",
        "  validation_accuracy = 100.0*correct/total\n",
        "\n",
        "print(f'Validation accuracy: {validation_accuracy}')"
      ],
      "execution_count": 21,
      "outputs": [
        {
          "output_type": "stream",
          "text": [
            "Validation accuracy: 99.42857360839844\n"
          ],
          "name": "stdout"
        }
      ]
    },
    {
      "cell_type": "code",
      "metadata": {
        "id": "iLjBJWy0RVMW",
        "trusted": true,
        "colab_type": "code",
        "colab": {}
      },
      "source": [
        "def plot_conf_matrix(confusion_matrix):\n",
        "  classes = np.arange(10)\n",
        "  fig, ax = plt.subplots()\n",
        "  im = ax.imshow(confusion_matrix, interpolation='nearest', cmap=plt.cm.Blues)\n",
        "  ax.figure.colorbar(im, ax=ax)\n",
        "  ax.set(xticks=np.arange(confusion_matrix.shape[1]),\n",
        "          yticks=np.arange(confusion_matrix.shape[0]),\n",
        "          xticklabels=classes, yticklabels=classes,\n",
        "          ylabel='True label',\n",
        "          xlabel='Predicted label',\n",
        "          title='Epoch %d' % epoch)\n",
        "  thresh = confusion_matrix.max() / 2.\n",
        "  for i in range(confusion_matrix.shape[0]):\n",
        "      for j in range(confusion_matrix.shape[1]):\n",
        "          ax.text(j, i, int(confusion_matrix[i, j]),\n",
        "                  ha=\"center\", va=\"center\",\n",
        "                  color=\"white\" if confusion_matrix[i, j] > thresh else \"black\")\n",
        "    \n",
        "  fig.tight_layout()"
      ],
      "execution_count": 0,
      "outputs": []
    },
    {
      "cell_type": "code",
      "metadata": {
        "id": "0Z1ZbxgvTJhY",
        "outputId": "66f7fe6c-4f79-4c67-9653-5089c138d2fa",
        "trusted": true,
        "colab_type": "code",
        "colab": {
          "base_uri": "https://localhost:8080/",
          "height": 297
        }
      },
      "source": [
        "plot_conf_matrix(conf_mat)"
      ],
      "execution_count": 23,
      "outputs": [
        {
          "output_type": "display_data",
          "data": {
            "image/png": "[encoded data removed]",
            "text/plain": [
              "<Figure size 432x288 with 2 Axes>"
            ]
          },
          "metadata": {
            "tags": []
          }
        }
      ]
    },
    {
      "cell_type": "code",
      "metadata": {
        "id": "NntEATToTNl7",
        "trusted": true,
        "colab_type": "code",
        "outputId": "0287a6e6-3a03-45c7-b1cf-6419492c8fa9",
        "colab": {
          "base_uri": "https://localhost:8080/",
          "height": 34
        }
      },
      "source": [
        "test_df.shape"
      ],
      "execution_count": 24,
      "outputs": [
        {
          "output_type": "execute_result",
          "data": {
            "text/plain": [
              "(28000, 784)"
            ]
          },
          "metadata": {
            "tags": []
          },
          "execution_count": 24
        }
      ]
    },
    {
      "cell_type": "code",
      "metadata": {
        "trusted": true,
        "id": "VradY7BjM2p7",
        "colab_type": "code",
        "colab": {}
      },
      "source": [
        "class MNIST_Test_Dataset(Dataset):\n",
        "    def __init__(self, features):\n",
        "        self.inputs = torch.tensor(features.values, dtype=torch.float)\n",
        "        \n",
        "    def __len__(self):\n",
        "        \"\"\"\n",
        "        Denotes the total number of samples.\n",
        "        \"\"\"\n",
        "        return len(self.inputs)\n",
        "\n",
        "    def __getitem__(self, idx):\n",
        "        \"\"\"\n",
        "        Generates one sample of data.\n",
        "        \"\"\"\n",
        "        input_item = self.inputs[idx]\n",
        "        return input_item.view(1, 28, 28)"
      ],
      "execution_count": 0,
      "outputs": []
    },
    {
      "cell_type": "code",
      "metadata": {
        "trusted": true,
        "id": "nAmt0WqEM2p8",
        "colab_type": "code",
        "colab": {}
      },
      "source": [
        "batch_size = 1\n",
        "testset = MNIST_Test_Dataset(test_df)\n",
        "testloader = torch.utils.data.DataLoader(testset, batch_size, shuffle=False)"
      ],
      "execution_count": 0,
      "outputs": []
    },
    {
      "cell_type": "code",
      "metadata": {
        "id": "RxjqnBZJOKSv",
        "colab_type": "code",
        "colab": {}
      },
      "source": [
        "def imshow_test(inputs, predictions = None):\n",
        "  inputs = torchvision.utils.make_grid(inputs[:4])\n",
        "\n",
        "  plt.figure(figsize=(16, 4))\n",
        "  plt.imshow(inputs.numpy().transpose((1, 2, 0)))\n",
        "  plt.axis('off')\n",
        "  if predictions != None:\n",
        "    plt.title(predictions)\n",
        "  plt.show()"
      ],
      "execution_count": 0,
      "outputs": []
    },
    {
      "cell_type": "code",
      "metadata": {
        "trusted": true,
        "id": "u8sV27pKM2p-",
        "colab_type": "code",
        "outputId": "22c5acdc-8e52-41b8-8a00-ac92dbaf55b7",
        "colab": {
          "base_uri": "https://localhost:8080/",
          "height": 265
        }
      },
      "source": [
        "inputs = next(iter(testloader))\n",
        "imshow_test(inputs)"
      ],
      "execution_count": 49,
      "outputs": [
        {
          "output_type": "stream",
          "text": [
            "Clipping input data to the valid range for imshow with RGB data ([0..1] for floats or [0..255] for integers).\n"
          ],
          "name": "stderr"
        },
        {
          "output_type": "display_data",
          "data": {
            "image/png": "[encoded data removed]",
            "text/plain": [
              "<Figure size 1152x288 with 1 Axes>"
            ]
          },
          "metadata": {
            "tags": []
          }
        }
      ]
    },
    {
      "cell_type": "code",
      "metadata": {
        "trusted": true,
        "id": "0jczLmpaM2p_",
        "colab_type": "code",
        "colab": {}
      },
      "source": [
        "model.eval()\n",
        "\n",
        "predictions = {}\n",
        "with torch.no_grad():\n",
        "    for batch_id, inputs in enumerate(testloader, 1):\n",
        "        inputs = inputs.to(device)\n",
        "        \n",
        "        outputs = model(inputs)\n",
        "        _, preds = torch.max(outputs.data, 1)\n",
        "        \n",
        "        predictions[batch_id] = preds.item()"
      ],
      "execution_count": 0,
      "outputs": []
    },
    {
      "cell_type": "code",
      "metadata": {
        "id": "44x0ZLv3MCWZ",
        "colab_type": "code",
        "colab": {
          "base_uri": "https://localhost:8080/",
          "height": 1000
        },
        "outputId": "24bc793f-1f6a-404d-8f27-88312013fc3c"
      },
      "source": [
        "n_predictions = 10\n",
        "for idx, inputs in enumerate(testloader, 1):\n",
        "  imshow_test(inputs, predictions[idx])\n",
        "  if idx > n_predictions:\n",
        "    break"
      ],
      "execution_count": 50,
      "outputs": [
        {
          "output_type": "stream",
          "text": [
            "Clipping input data to the valid range for imshow with RGB data ([0..1] for floats or [0..255] for integers).\n"
          ],
          "name": "stderr"
        },
        {
          "output_type": "display_data",
          "data": {
            "image/png": "[encoded data removed]",
            "text/plain": [
              "<Figure size 1152x288 with 1 Axes>"
            ]
          },
          "metadata": {
            "tags": []
          }
        },
        {
          "output_type": "stream",
          "text": [
            "Clipping input data to the valid range for imshow with RGB data ([0..1] for floats or [0..255] for integers).\n"
          ],
          "name": "stderr"
        },
        {
          "output_type": "display_data",
          "data": {
            "image/png": "[encoded data removed]",
            "text/plain": [
              "<Figure size 1152x288 with 1 Axes>"
            ]
          },
          "metadata": {
            "tags": []
          }
        },
        {
          "output_type": "stream",
          "text": [
            "Clipping input data to the valid range for imshow with RGB data ([0..1] for floats or [0..255] for integers).\n"
          ],
          "name": "stderr"
        },
        {
          "output_type": "display_data",
          "data": {
            "image/png": "[encoded data removed]",
            "text/plain": [
              "<Figure size 1152x288 with 1 Axes>"
            ]
          },
          "metadata": {
            "tags": []
          }
        },
        {
          "output_type": "stream",
          "text": [
            "Clipping input data to the valid range for imshow with RGB data ([0..1] for floats or [0..255] for integers).\n"
          ],
          "name": "stderr"
        },
        {
          "output_type": "display_data",
          "data": {
            "image/png": "[encoded data removed]",
            "text/plain": [
              "<Figure size 1152x288 with 1 Axes>"
            ]
          },
          "metadata": {
            "tags": []
          }
        },
        {
          "output_type": "stream",
          "text": [
            "Clipping input data to the valid range for imshow with RGB data ([0..1] for floats or [0..255] for integers).\n"
          ],
          "name": "stderr"
        },
        {
          "output_type": "display_data",
          "data": {
            "image/png": "[encoded data removed]",
            "text/plain": [
              "<Figure size 1152x288 with 1 Axes>"
            ]
          },
          "metadata": {
            "tags": []
          }
        },
        {
          "output_type": "stream",
          "text": [
            "Clipping input data to the valid range for imshow with RGB data ([0..1] for floats or [0..255] for integers).\n"
          ],
          "name": "stderr"
        },
        {
          "output_type": "display_data",
          "data": {
            "image/png": "[encoded data removed]",
            "text/plain": [
              "<Figure size 1152x288 with 1 Axes>"
            ]
          },
          "metadata": {
            "tags": []
          }
        },
        {
          "output_type": "stream",
          "text": [
            "Clipping input data to the valid range for imshow with RGB data ([0..1] for floats or [0..255] for integers).\n"
          ],
          "name": "stderr"
        },
        {
          "output_type": "display_data",
          "data": {
            "image/png": "[encoded data removed]",
            "text/plain": [
              "<Figure size 1152x288 with 1 Axes>"
            ]
          },
          "metadata": {
            "tags": []
          }
        },
        {
          "output_type": "stream",
          "text": [
            "Clipping input data to the valid range for imshow with RGB data ([0..1] for floats or [0..255] for integers).\n"
          ],
          "name": "stderr"
        },
        {
          "output_type": "display_data",
          "data": {
            "image/png": "[encoded data removed]",
            "text/plain": [
              "<Figure size 1152x288 with 1 Axes>"
            ]
          },
          "metadata": {
            "tags": []
          }
        },
        {
          "output_type": "stream",
          "text": [
            "Clipping input data to the valid range for imshow with RGB data ([0..1] for floats or [0..255] for integers).\n"
          ],
          "name": "stderr"
        },
        {
          "output_type": "display_data",
          "data": {
            "image/png": "[encoded data removed]",
            "text/plain": [
              "<Figure size 1152x288 with 1 Axes>"
            ]
          },
          "metadata": {
            "tags": []
          }
        },
        {
          "output_type": "stream",
          "text": [
            "Clipping input data to the valid range for imshow with RGB data ([0..1] for floats or [0..255] for integers).\n"
          ],
          "name": "stderr"
        },
        {
          "output_type": "display_data",
          "data": {
            "image/png": "[encoded data removed]",
            "text/plain": [
              "<Figure size 1152x288 with 1 Axes>"
            ]
          },
          "metadata": {
            "tags": []
          }
        },
        {
          "output_type": "stream",
          "text": [
            "Clipping input data to the valid range for imshow with RGB data ([0..1] for floats or [0..255] for integers).\n"
          ],
          "name": "stderr"
        },
        {
          "output_type": "display_data",
          "data": {
            "image/png": "[encoded data removed]",
            "text/plain": [
              "<Figure size 1152x288 with 1 Axes>"
            ]
          },
          "metadata": {
            "tags": []
          }
        }
      ]
    },
    {
      "cell_type": "code",
      "metadata": {
        "trusted": true,
        "id": "zC9-0LqxM2qB",
        "colab_type": "code",
        "colab": {}
      },
      "source": [
        "import csv\n",
        "\n",
        "with open('predictions_4.csv', mode='w') as csv_file:\n",
        "    fieldnames = ['ImageId', 'Label']\n",
        "    writer = csv.DictWriter(csv_file, fieldnames=fieldnames)\n",
        "\n",
        "    writer.writeheader()\n",
        "    for k,v in predictions.items():\n",
        "        writer.writerow({'ImageId': k, 'Label': v})"
      ],
      "execution_count": 0,
      "outputs": []
    }
  ]
}