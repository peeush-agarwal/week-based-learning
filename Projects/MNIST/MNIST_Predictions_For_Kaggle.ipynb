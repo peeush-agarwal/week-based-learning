{
  "nbformat": 4,
  "nbformat_minor": 0,
  "metadata": {
    "colab": {
      "name": "Predictions_4.ipynb",
      "provenance": [],
      "collapsed_sections": []
    },
    "kernelspec": {
      "name": "python3",
      "display_name": "Python 3"
    },
    "accelerator": "GPU"
  },
  "cells": [
    {
      "cell_type": "code",
      "metadata": {
        "id": "9NtiSmaeNNmt",
        "colab_type": "code",
        "outputId": "06c9c1b2-124f-4bc6-ae6e-99685562ef5b",
        "colab": {
          "base_uri": "https://localhost:8080/",
          "height": 85
        }
      },
      "source": [
        "# ! unzip train.csv.zip\n",
        "# ! unzip test.csv.zip"
      ],
      "execution_count": 1,
      "outputs": [
        {
          "output_type": "stream",
          "text": [
            "Archive:  train.csv.zip\n",
            "  inflating: train.csv               \n",
            "Archive:  test.csv.zip\n",
            "  inflating: test.csv                \n"
          ],
          "name": "stdout"
        }
      ]
    },
    {
      "cell_type": "code",
      "metadata": {
        "id": "kIja8L3k-YmX",
        "trusted": true,
        "colab_type": "code",
        "colab": {}
      },
      "source": [
        "import pandas as pd\n",
        "import numpy as np\n",
        "import matplotlib.pyplot as plt\n",
        "from sklearn.model_selection import train_test_split\n",
        "\n",
        "plt.style.use('dark_background')"
      ],
      "execution_count": 0,
      "outputs": []
    },
    {
      "cell_type": "code",
      "metadata": {
        "id": "XxhMicDl85-L",
        "outputId": "1fc467db-5017-4a78-95b9-94040391d486",
        "trusted": true,
        "colab_type": "code",
        "colab": {
          "base_uri": "https://localhost:8080/",
          "height": 136
        }
      },
      "source": [
        "# train_df = pd.read_csv('/kaggle/input/digit-recognizer/train.csv')\n",
        "# test_df = pd.read_csv('/kaggle/input/digit-recognizer/test.csv')\n",
        "\n",
        "train_df = pd.read_csv('./train.csv')\n",
        "test_df = pd.read_csv('./test.csv')\n",
        "\n",
        "print('Raw data:')\n",
        "print(f'- Train data: {train_df.shape}')\n",
        "print(f'- Test data: {test_df.shape}')\n",
        "\n",
        "# Train Data has \n",
        "# 1. label <= Column 0\n",
        "# 2. Pixels <= Column 1 to Column 784\n",
        "\n",
        "# Test Data has \n",
        "# 1. Pixels <= Column 0 to Column 783\n",
        "\n",
        "train_labels = train_df['label']\n",
        "train_df.drop('label', axis=1, inplace=True)\n",
        "\n",
        "print('After fetchin label from train data:')\n",
        "print(f'- Label data: {train_labels.shape}')\n",
        "print(f'- Train data: {train_df.shape}')\n",
        "print(f'- Test data: {test_df.shape}')"
      ],
      "execution_count": 3,
      "outputs": [
        {
          "output_type": "stream",
          "text": [
            "Raw data:\n",
            "- Train data: (42000, 785)\n",
            "- Test data: (28000, 784)\n",
            "After fetchin label from train data:\n",
            "- Label data: (42000,)\n",
            "- Train data: (42000, 784)\n",
            "- Test data: (28000, 784)\n"
          ],
          "name": "stdout"
        }
      ]
    },
    {
      "cell_type": "code",
      "metadata": {
        "id": "uCUk1Bqx-j84",
        "outputId": "ccb562e8-ca00-47c4-b376-4249a1ca563b",
        "trusted": true,
        "colab_type": "code",
        "colab": {
          "base_uri": "https://localhost:8080/",
          "height": 85
        }
      },
      "source": [
        "# Split train into Train and Validation dataset\n",
        "X_train, X_validation, y_train, y_validation = train_test_split(train_df, train_labels, test_size = 0.2, random_state = 42)\n",
        "\n",
        "print(f'X_train:{X_train.shape}')\n",
        "print(f'y_train:{y_train.shape}')\n",
        "print(f'X_validation:{X_validation.shape}')\n",
        "print(f'y_validation:{y_validation.shape}')\n"
      ],
      "execution_count": 4,
      "outputs": [
        {
          "output_type": "stream",
          "text": [
            "X_train:(33600, 784)\n",
            "y_train:(33600,)\n",
            "X_validation:(8400, 784)\n",
            "y_validation:(8400,)\n"
          ],
          "name": "stdout"
        }
      ]
    },
    {
      "cell_type": "code",
      "metadata": {
        "id": "SHAfTXBw-o24",
        "trusted": true,
        "colab_type": "code",
        "colab": {}
      },
      "source": [
        "import torch\n",
        "import torch.nn as nn\n",
        "import torch.nn.functional as F\n",
        "from torch.utils.data import Dataset\n",
        "import torchvision"
      ],
      "execution_count": 0,
      "outputs": []
    },
    {
      "cell_type": "code",
      "metadata": {
        "id": "VhGkNN9i_1Dn",
        "outputId": "10f019e9-62fc-42c3-c090-3ee61d5d991f",
        "trusted": true,
        "colab_type": "code",
        "colab": {
          "base_uri": "https://localhost:8080/",
          "height": 68
        }
      },
      "source": [
        "print(X_train.values[0].shape)\n",
        "item = torch.tensor(X_train.values[0], dtype=torch.float)\n",
        "print(item.size())\n",
        "item_1 = item.view(1, 28, 28)\n",
        "print(item_1.size())"
      ],
      "execution_count": 6,
      "outputs": [
        {
          "output_type": "stream",
          "text": [
            "(784,)\n",
            "torch.Size([784])\n",
            "torch.Size([1, 28, 28])\n"
          ],
          "name": "stdout"
        }
      ]
    },
    {
      "cell_type": "code",
      "metadata": {
        "id": "tEaT9idK-17N",
        "trusted": true,
        "colab_type": "code",
        "colab": {}
      },
      "source": [
        "class MNIST_Dataset(Dataset):\n",
        "    def __init__(self, features, labels):\n",
        "        self.inputs = torch.tensor(features.values, dtype=torch.float)\n",
        "        self.labels = torch.tensor(labels.values)\n",
        "        \n",
        "    def __len__(self):\n",
        "        \"\"\"\n",
        "        Denotes the total number of samples.\n",
        "        \"\"\"\n",
        "        return len(self.labels)\n",
        "\n",
        "    def __getitem__(self, idx):\n",
        "        \"\"\"\n",
        "        Generates one sample of data.\n",
        "        \"\"\"\n",
        "        input_item = self.inputs[idx]\n",
        "        return input_item.view(1, 28, 28), self.labels[idx]"
      ],
      "execution_count": 0,
      "outputs": []
    },
    {
      "cell_type": "code",
      "metadata": {
        "id": "nFOjSyrNAfrI",
        "trusted": true,
        "colab_type": "code",
        "colab": {}
      },
      "source": [
        "batch_size = 256"
      ],
      "execution_count": 0,
      "outputs": []
    },
    {
      "cell_type": "code",
      "metadata": {
        "id": "ILyjwp_VAJwU",
        "trusted": true,
        "colab_type": "code",
        "colab": {}
      },
      "source": [
        "trainset = MNIST_Dataset(X_train, y_train)\n",
        "validset = MNIST_Dataset(X_validation, y_validation)\n",
        "\n",
        "trainloader = torch.utils.data.DataLoader(trainset, batch_size, shuffle=True, num_workers=2)\n",
        "validloader = torch.utils.data.DataLoader(validset, batch_size, shuffle=False, num_workers=2)"
      ],
      "execution_count": 0,
      "outputs": []
    },
    {
      "cell_type": "code",
      "metadata": {
        "id": "jrLZaV5XA5wm",
        "trusted": true,
        "colab_type": "code",
        "colab": {}
      },
      "source": [
        "def imshow(images, labels):\n",
        "  plt.figure(figsize=(images.size()[0]*4, 4))\n",
        "  plt.imshow(images.numpy().transpose((1, 2, 0)))\n",
        "  plt.axis('off')\n",
        "  plt.title(f'{[label.item() for label in labels]}')\n",
        "  plt.show()"
      ],
      "execution_count": 0,
      "outputs": []
    },
    {
      "cell_type": "code",
      "metadata": {
        "id": "NnGtlyFgBlIA",
        "outputId": "344e60bb-5a6f-40e4-d7b4-39a1e7070dd4",
        "trusted": true,
        "colab_type": "code",
        "colab": {
          "base_uri": "https://localhost:8080/",
          "height": 240
        }
      },
      "source": [
        "inputs, labels = next(iter(trainloader))\n",
        "\n",
        "inputs = torchvision.utils.make_grid(inputs[:4])\n",
        "labels = labels[:4]\n",
        "\n",
        "imshow(inputs, labels)"
      ],
      "execution_count": 11,
      "outputs": [
        {
          "output_type": "stream",
          "text": [
            "Clipping input data to the valid range for imshow with RGB data ([0..1] for floats or [0..255] for integers).\n"
          ],
          "name": "stderr"
        },
        {
          "output_type": "display_data",
          "data": {
            "image/png": "[encoded data removed]",
            "text/plain": [
              "<Figure size 864x288 with 1 Axes>"
            ]
          },
          "metadata": {
            "tags": []
          }
        }
      ]
    },
    {
      "cell_type": "code",
      "metadata": {
        "id": "lsmqufLSON3s",
        "trusted": true,
        "colab_type": "code",
        "colab": {}
      },
      "source": [
        "device = torch.device('cuda:0' if torch.cuda.is_available() else 'cpu')"
      ],
      "execution_count": 0,
      "outputs": []
    },
    {
      "cell_type": "code",
      "metadata": {
        "id": "Qfwhq8bsOVAp",
        "outputId": "62775923-0bb8-4d2f-f256-64f30d3b7e0a",
        "trusted": true,
        "colab_type": "code",
        "colab": {
          "base_uri": "https://localhost:8080/",
          "height": 34
        }
      },
      "source": [
        "print(device)"
      ],
      "execution_count": 13,
      "outputs": [
        {
          "output_type": "stream",
          "text": [
            "cuda:0\n"
          ],
          "name": "stdout"
        }
      ]
    },
    {
      "cell_type": "code",
      "metadata": {
        "id": "IFiMs7QoWbRB",
        "colab_type": "code",
        "colab": {}
      },
      "source": [
        "class MNIST_CNN(nn.Module):\n",
        "  def __init__(self):\n",
        "    super(MNIST_CNN, self).__init__()\n",
        "\n",
        "    self.features = nn.Sequential(\n",
        "        nn.Conv2d(1, 32, 3, 1, 1),      # (1, 28, 28) => (32, 28, 28)\n",
        "        nn.BatchNorm2d(32),\n",
        "        nn.ReLU(inplace=True),\n",
        "        nn.Conv2d(32, 32, 3, 1, 1),     # (32, 28, 28) => (32, 28, 28)\n",
        "        nn.BatchNorm2d(32),\n",
        "        nn.ReLU(inplace=True),\n",
        "        #nn.MaxPool2d(2, stride=2),      # (32, 28, 28) => (32, 14, 14)\n",
        "        nn.Conv2d(32, 32, 5, 2, 2),        # (32, 28, 28) => (32, 14, 14)\n",
        "        nn.BatchNorm2d(32),\n",
        "        nn.ReLU(inplace=True),\n",
        "        nn.Conv2d(32, 64, 3, 1, 1),     # (32, 14, 14) => (64, 14, 14)\n",
        "        nn.BatchNorm2d(64),\n",
        "        nn.ReLU(inplace=True),\n",
        "        nn.Conv2d(64, 64, 3, 1, 1),     # (64, 14, 14) => (64, 14, 14)\n",
        "        nn.BatchNorm2d(64),\n",
        "        nn.ReLU(inplace=True),\n",
        "        #nn.MaxPool2d(2, stride=2)      # (64, 14, 14) => (64, 7, 7)\n",
        "        nn.Conv2d(64, 64, 5, 2, 2),        # (64, 14, 14) => (64, 7, 7)\n",
        "        nn.BatchNorm2d(64),\n",
        "        nn.ReLU(inplace=True)\n",
        "    )\n",
        "    self.classifier = nn.Sequential(\n",
        "        nn.Dropout(0.5),\n",
        "        nn.Linear(64*7*7, 128),\n",
        "        nn.BatchNorm1d(128),\n",
        "        nn.ReLU(inplace=True),\n",
        "        nn.Dropout(0.5),\n",
        "        nn.Linear(128, 10)\n",
        "    )\n",
        "\n",
        "  def forward(self, x):\n",
        "    out = self.features(x)\n",
        "    out = out.view(out.size()[0], -1)\n",
        "    out = self.classifier(out)\n",
        "    return out"
      ],
      "execution_count": 0,
      "outputs": []
    },
    {
      "cell_type": "code",
      "metadata": {
        "id": "OrLrZhP2U9Pg",
        "colab_type": "code",
        "colab": {}
      },
      "source": [
        "model = MNIST_CNN().to(device)\n",
        "criterion = nn.CrossEntropyLoss()\n",
        "optimizer = torch.optim.SGD(model.parameters(), lr=0.01, momentum=0.9)"
      ],
      "execution_count": 0,
      "outputs": []
    },
    {
      "cell_type": "code",
      "metadata": {
        "id": "nUIN2ragC_Ul",
        "outputId": "d6ec6642-f268-4f41-d189-3e2584b46262",
        "trusted": true,
        "colab_type": "code",
        "colab": {
          "base_uri": "https://localhost:8080/",
          "height": 1000
        }
      },
      "source": [
        "%%time\n",
        "num_epochs = 80\n",
        "\n",
        "model.train()\n",
        "\n",
        "epoch_losses = []\n",
        "accuracies = []\n",
        "for epoch in range(num_epochs):\n",
        "  epoch_loss = 0\n",
        "\n",
        "  total = 0\n",
        "  correct = 0\n",
        "\n",
        "  for batch_id, data in enumerate(trainloader, 0):\n",
        "    inputs, labels = data\n",
        "    inputs = inputs.to(device)\n",
        "    labels = labels.to(device)\n",
        "\n",
        "    optimizer.zero_grad()\n",
        "    outputs = model(inputs)\n",
        "    _, preds = torch.max(outputs.data, 1)\n",
        "    loss = criterion(outputs, labels)\n",
        "    loss.backward()\n",
        "    optimizer.step()\n",
        "\n",
        "    epoch_loss += loss.item()\n",
        "\n",
        "    total += len(labels)\n",
        "    correct += (preds == labels).sum()\n",
        "\n",
        "    if batch_id != 0 and batch_id % 128 == 0:\n",
        "      print(f'Epoch:{epoch}, batch:{batch_id}, loss:{loss}, avg_loss:{epoch_loss/batch_id}, accuracy={100.0*correct/total}')\n",
        "  \n",
        "  epoch_loss = epoch_loss/len(trainloader)\n",
        "  accuracy = 100.0*correct/total\n",
        "  print(f'Epoch loss: {epoch_loss}, accuracy={accuracy}')\n",
        "  epoch_losses.append(epoch_loss)\n",
        "  accuracies.append(accuracy)\n",
        "\n",
        "print('Training completed')"
      ],
      "execution_count": 33,
      "outputs": [
        {
          "output_type": "stream",
          "text": [
            "Epoch:0, batch:128, loss:0.15775857865810394, avg_loss:0.4686456174822524, accuracy=87.93604278564453\n",
            "Epoch loss: 0.45718691633506253, accuracy=88.10118865966797\n",
            "Epoch:1, batch:128, loss:0.05892203748226166, avg_loss:0.101067443494685, accuracy=97.49575805664062\n",
            "Epoch loss: 0.1000675895448887, accuracy=97.50595092773438\n",
            "Epoch:2, batch:128, loss:0.06382724642753601, avg_loss:0.07151529933616985, accuracy=98.22856140136719\n",
            "Epoch loss: 0.0707133653517248, accuracy=98.24107360839844\n",
            "Epoch:3, batch:128, loss:0.03282565623521805, avg_loss:0.057529104393324815, accuracy=98.58284759521484\n",
            "Epoch loss: 0.057313164907761595, accuracy=98.57440185546875\n",
            "Epoch:4, batch:128, loss:0.054599180817604065, avg_loss:0.04665454322821461, accuracy=98.76756286621094\n",
            "Epoch loss: 0.046382788427625644, accuracy=98.76190185546875\n",
            "Epoch:5, batch:128, loss:0.051626428961753845, avg_loss:0.04099576234148117, accuracy=98.95227813720703\n",
            "Epoch loss: 0.04076130434898942, accuracy=98.94642639160156\n",
            "Epoch:6, batch:128, loss:0.014250746928155422, avg_loss:0.03494245010369923, accuracy=99.13699340820312\n",
            "Epoch loss: 0.03456961810871056, accuracy=99.13690185546875\n",
            "Epoch:7, batch:128, loss:0.030092839151620865, avg_loss:0.032694674424419645, accuracy=99.15515899658203\n",
            "Epoch loss: 0.0323892485731366, accuracy=99.1577377319336\n",
            "Epoch:8, batch:128, loss:0.023060759529471397, avg_loss:0.032066399238829035, accuracy=99.14002227783203\n",
            "Epoch loss: 0.03172630856914276, accuracy=99.14285278320312\n",
            "Epoch:9, batch:128, loss:0.007893744856119156, avg_loss:0.02703033381840214, accuracy=99.3277587890625\n",
            "Epoch loss: 0.026543542192402212, accuracy=99.33928680419922\n",
            "Epoch:10, batch:128, loss:0.013130733743309975, avg_loss:0.022837867290945724, accuracy=99.42768859863281\n",
            "Epoch loss: 0.02244511388496242, accuracy=99.43154907226562\n",
            "Epoch:11, batch:128, loss:0.016380082815885544, avg_loss:0.021238538865873124, accuracy=99.48219299316406\n",
            "Epoch loss: 0.021019824561804082, accuracy=99.48213958740234\n",
            "Epoch:12, batch:128, loss:0.01935582421720028, avg_loss:0.018186508561484516, accuracy=99.58212280273438\n",
            "Epoch loss: 0.018188864281965478, accuracy=99.57737731933594\n",
            "Epoch:13, batch:128, loss:0.012228544801473618, avg_loss:0.018865977639507037, accuracy=99.48522186279297\n",
            "Epoch loss: 0.01947332874194465, accuracy=99.47618865966797\n",
            "Epoch:14, batch:128, loss:0.01804279163479805, avg_loss:0.018740279505436774, accuracy=99.50338745117188\n",
            "Epoch loss: 0.018700972749766977, accuracy=99.50595092773438\n",
            "Epoch:15, batch:128, loss:0.034560926258563995, avg_loss:0.015330000351241324, accuracy=99.5912094116211\n",
            "Epoch loss: 0.015360618419380802, accuracy=99.5922622680664\n",
            "Epoch:16, batch:128, loss:0.03751261904835701, avg_loss:0.013687516446225345, accuracy=99.67902374267578\n",
            "Epoch loss: 0.013473196096266762, accuracy=99.68154907226562\n",
            "Epoch:17, batch:128, loss:0.0058581046760082245, avg_loss:0.013392326458415482, accuracy=99.66387939453125\n",
            "Epoch loss: 0.013120343471228174, accuracy=99.66666412353516\n",
            "Epoch:18, batch:128, loss:0.018131176009774208, avg_loss:0.011158382629218977, accuracy=99.7214126586914\n",
            "Epoch loss: 0.01100634871699819, accuracy=99.72618865966797\n",
            "Epoch:19, batch:128, loss:0.007781796157360077, avg_loss:0.011519689171109349, accuracy=99.71233367919922\n",
            "Epoch loss: 0.011353426119030424, accuracy=99.71428680419922\n",
            "Epoch:20, batch:128, loss:0.005621945485472679, avg_loss:0.010743940067186486, accuracy=99.73655700683594\n",
            "Epoch loss: 0.010569210982683933, accuracy=99.74107360839844\n",
            "Epoch:21, batch:128, loss:0.004475582391023636, avg_loss:0.008795047469902784, accuracy=99.82134246826172\n",
            "Epoch loss: 0.008882810989620559, accuracy=99.81845092773438\n",
            "Epoch:22, batch:128, loss:0.005390670150518417, avg_loss:0.009363924153149128, accuracy=99.78197479248047\n",
            "Epoch loss: 0.009215920634398406, accuracy=99.78571319580078\n",
            "Epoch:23, batch:128, loss:0.008309455588459969, avg_loss:0.00935799592116382, accuracy=99.77591705322266\n",
            "Epoch loss: 0.009184243312726418, accuracy=99.7797622680664\n",
            "Epoch:24, batch:128, loss:0.015729617327451706, avg_loss:0.007808123271388467, accuracy=99.82134246826172\n",
            "Epoch loss: 0.007663702401755886, accuracy=99.82440185546875\n",
            "Epoch:25, batch:128, loss:0.016323460265994072, avg_loss:0.007023577760264743, accuracy=99.84556579589844\n",
            "Epoch loss: 0.007069479892820571, accuracy=99.8452377319336\n",
            "Epoch:26, batch:128, loss:0.0033938568085432053, avg_loss:0.0074463751225266606, accuracy=99.83042907714844\n",
            "Epoch loss: 0.007643738041885875, accuracy=99.83035278320312\n",
            "Epoch:27, batch:128, loss:0.011374333873391151, avg_loss:0.008696473814779893, accuracy=99.8001480102539\n",
            "Epoch loss: 0.009102315910047653, accuracy=99.79761505126953\n",
            "Epoch:28, batch:128, loss:0.004769444465637207, avg_loss:0.008435963267402258, accuracy=99.78803253173828\n",
            "Epoch loss: 0.008227104596285657, accuracy=99.79166412353516\n",
            "Epoch:29, batch:128, loss:0.003138529136776924, avg_loss:0.0057654872616694774, accuracy=99.86676025390625\n",
            "Epoch loss: 0.005782725681042807, accuracy=99.86607360839844\n",
            "Epoch:30, batch:128, loss:0.0027270670980215073, avg_loss:0.006049533163604792, accuracy=99.87281799316406\n",
            "Epoch loss: 0.005974466453842593, accuracy=99.875\n",
            "Epoch:31, batch:128, loss:0.0018949247896671295, avg_loss:0.005320348987879697, accuracy=99.8909912109375\n",
            "Epoch loss: 0.005201512446739908, accuracy=99.89285278320312\n",
            "Epoch:32, batch:128, loss:0.0057517532259225845, avg_loss:0.00622902660688851, accuracy=99.86071014404297\n",
            "Epoch loss: 0.006129368427068446, accuracy=99.86309051513672\n",
            "Epoch:33, batch:128, loss:0.004987122491002083, avg_loss:0.005283176840748638, accuracy=99.89704132080078\n",
            "Epoch loss: 0.005299900108101693, accuracy=99.89583587646484\n",
            "Epoch:34, batch:128, loss:0.0032311026006937027, avg_loss:0.004700939174654195, accuracy=99.90007019042969\n",
            "Epoch loss: 0.0046669761685541634, accuracy=99.90178680419922\n",
            "Epoch:35, batch:128, loss:0.0034158211201429367, avg_loss:0.004729947191663086, accuracy=99.87887573242188\n",
            "Epoch loss: 0.0046341396854117966, accuracy=99.88095092773438\n",
            "Epoch:36, batch:128, loss:0.0038958918303251266, avg_loss:0.004329164046794176, accuracy=99.91824340820312\n",
            "Epoch loss: 0.004824573174118996, accuracy=99.91666412353516\n",
            "Epoch:37, batch:128, loss:0.0014386530965566635, avg_loss:0.0052415607242437545, accuracy=99.87584686279297\n",
            "Epoch loss: 0.005157444742508233, accuracy=99.87797546386719\n",
            "Epoch:38, batch:128, loss:0.002255897969007492, avg_loss:0.0045282878636498936, accuracy=99.8879623413086\n",
            "Epoch loss: 0.004470190872918024, accuracy=99.88690185546875\n",
            "Epoch:39, batch:128, loss:0.0011102929711341858, avg_loss:0.004213250271277502, accuracy=99.89704132080078\n",
            "Epoch loss: 0.004214575450698083, accuracy=99.89583587646484\n",
            "Epoch:40, batch:128, loss:0.003823665902018547, avg_loss:0.003057703797821887, accuracy=99.95760345458984\n",
            "Epoch loss: 0.0031008584932847457, accuracy=99.95833587646484\n",
            "Epoch:41, batch:128, loss:0.0025005079805850983, avg_loss:0.003860811259073671, accuracy=99.89401245117188\n",
            "Epoch loss: 0.003812488062645901, accuracy=99.89285278320312\n",
            "Epoch:42, batch:128, loss:0.0013055242598056793, avg_loss:0.0031791699657333083, accuracy=99.95155334472656\n",
            "Epoch loss: 0.0031145716184806643, accuracy=99.95237731933594\n",
            "Epoch:43, batch:128, loss:0.009421857073903084, avg_loss:0.0032196408792515285, accuracy=99.93035125732422\n",
            "Epoch loss: 0.003175761698829857, accuracy=99.93154907226562\n",
            "Epoch:44, batch:128, loss:0.001714210957288742, avg_loss:0.002591811222373508, accuracy=99.96971893310547\n",
            "Epoch loss: 0.0025763659540450935, accuracy=99.9702377319336\n",
            "Epoch:45, batch:128, loss:0.0012909993529319763, avg_loss:0.0025021998590091243, accuracy=99.96063232421875\n",
            "Epoch loss: 0.002468721531895977, accuracy=99.96131134033203\n",
            "Epoch:46, batch:128, loss:0.0026942379772663116, avg_loss:0.002661715872818604, accuracy=99.96063232421875\n",
            "Epoch loss: 0.002625689150370432, accuracy=99.96131134033203\n",
            "Epoch:47, batch:128, loss:0.008647836744785309, avg_loss:0.0026427831980981864, accuracy=99.95760345458984\n",
            "Epoch loss: 0.0026165559309337177, accuracy=99.95833587646484\n",
            "Epoch:48, batch:128, loss:0.0007280223071575165, avg_loss:0.002892233147576917, accuracy=99.95457458496094\n",
            "Epoch loss: 0.00284398778228823, accuracy=99.95535278320312\n",
            "Epoch:49, batch:128, loss:0.0008345097303390503, avg_loss:0.003001346703968011, accuracy=99.93338012695312\n",
            "Epoch loss: 0.002938590337042556, accuracy=99.93452453613281\n",
            "Epoch:50, batch:128, loss:0.0012305434793233871, avg_loss:0.0025742415309650823, accuracy=99.96366119384766\n",
            "Epoch loss: 0.0029293108576287827, accuracy=99.96131134033203\n",
            "Epoch:51, batch:128, loss:0.0008971430361270905, avg_loss:0.00443665969214635, accuracy=99.8879623413086\n",
            "Epoch loss: 0.004355390619655902, accuracy=99.88987731933594\n",
            "Epoch:52, batch:128, loss:0.0017523877322673798, avg_loss:0.0031316358217736706, accuracy=99.93640899658203\n",
            "Epoch loss: 0.003095984769364198, accuracy=99.9375\n",
            "Epoch:53, batch:128, loss:0.01195664145052433, avg_loss:0.003106264579400886, accuracy=99.93338012695312\n",
            "Epoch loss: 0.003082973381617304, accuracy=99.93154907226562\n",
            "Epoch:54, batch:128, loss:0.0063009485602378845, avg_loss:0.003004544494615402, accuracy=99.94549560546875\n",
            "Epoch loss: 0.0029504751772478676, accuracy=99.94642639160156\n",
            "Epoch:55, batch:128, loss:0.007163863629102707, avg_loss:0.002561932255048305, accuracy=99.95155334472656\n",
            "Epoch loss: 0.002516806506636468, accuracy=99.95237731933594\n",
            "Epoch:56, batch:128, loss:0.00349521916359663, avg_loss:0.0022101763242972083, accuracy=99.95457458496094\n",
            "Epoch loss: 0.0022276934081067643, accuracy=99.95237731933594\n",
            "Epoch:57, batch:128, loss:0.0013338681310415268, avg_loss:0.002194762979343068, accuracy=99.96971893310547\n",
            "Epoch loss: 0.0021531372683856525, accuracy=99.9702377319336\n",
            "Epoch:58, batch:128, loss:0.002905895933508873, avg_loss:0.002115648298058659, accuracy=99.97274780273438\n",
            "Epoch loss: 0.0020824491864804067, accuracy=99.97321319580078\n",
            "Epoch:59, batch:128, loss:0.000969981774687767, avg_loss:0.0019843621703330427, accuracy=99.96971893310547\n",
            "Epoch loss: 0.0019574295306070285, accuracy=99.9702377319336\n",
            "Epoch:60, batch:128, loss:0.0013213381171226501, avg_loss:0.0016326802506227978, accuracy=99.9818344116211\n",
            "Epoch loss: 0.001621464951754068, accuracy=99.98213958740234\n",
            "Epoch:61, batch:128, loss:0.0005962289869785309, avg_loss:0.0016421480177086778, accuracy=99.97880554199219\n",
            "Epoch loss: 0.0016131696051381755, accuracy=99.97916412353516\n",
            "Epoch:62, batch:128, loss:0.0016047386452555656, avg_loss:0.0017159920462290756, accuracy=99.9818344116211\n",
            "Epoch loss: 0.001683704082317876, accuracy=99.98213958740234\n",
            "Epoch:63, batch:128, loss:0.0003979913890361786, avg_loss:0.001651573860726785, accuracy=99.97880554199219\n",
            "Epoch loss: 0.0016301336599457445, accuracy=99.97916412353516\n",
            "Epoch:64, batch:128, loss:0.0014070775359869003, avg_loss:0.001466354457079433, accuracy=99.98788452148438\n",
            "Epoch loss: 0.0014525239609859207, accuracy=99.98809051513672\n",
            "Epoch:65, batch:128, loss:0.000577285885810852, avg_loss:0.001773192263499368, accuracy=99.96669006347656\n",
            "Epoch loss: 0.0017285172926318464, accuracy=99.9672622680664\n",
            "Epoch:66, batch:128, loss:0.0011203791946172714, avg_loss:0.001644660922465846, accuracy=99.97880554199219\n",
            "Epoch loss: 0.001685129450351903, accuracy=99.97916412353516\n",
            "Epoch:67, batch:128, loss:0.0030941329896450043, avg_loss:0.0017917122168000787, accuracy=99.96366119384766\n",
            "Epoch loss: 0.001793815020584699, accuracy=99.96428680419922\n",
            "Epoch:68, batch:128, loss:0.0007682535797357559, avg_loss:0.0014254965353757143, accuracy=99.98485565185547\n",
            "Epoch loss: 0.001397336423961502, accuracy=99.98511505126953\n",
            "Epoch:69, batch:128, loss:0.0014965571463108063, avg_loss:0.0012825454978155904, accuracy=99.98485565185547\n",
            "Epoch loss: 0.0012685514661963239, accuracy=99.98511505126953\n",
            "Epoch:70, batch:128, loss:0.0006529651582241058, avg_loss:0.0014062205373193137, accuracy=99.98485565185547\n",
            "Epoch loss: 0.0013788459385096123, accuracy=99.98511505126953\n",
            "Epoch:71, batch:128, loss:0.0005307421088218689, avg_loss:0.001577548508066684, accuracy=99.9818344116211\n",
            "Epoch loss: 0.0015400426010742333, accuracy=99.98213958740234\n",
            "Epoch:72, batch:128, loss:0.0014336612075567245, avg_loss:0.0015798745589563623, accuracy=99.97577667236328\n",
            "Epoch loss: 0.0016679875834873228, accuracy=99.97618865966797\n",
            "Epoch:73, batch:128, loss:0.000855693593621254, avg_loss:0.0017492660335847177, accuracy=99.96366119384766\n",
            "Epoch loss: 0.0017239169401088448, accuracy=99.96428680419922\n",
            "Epoch:74, batch:128, loss:0.002516483888030052, avg_loss:0.001342715448117815, accuracy=99.98485565185547\n",
            "Epoch loss: 0.0015539132256173725, accuracy=99.98213958740234\n",
            "Epoch:75, batch:128, loss:0.0028655491769313812, avg_loss:0.002600544801680371, accuracy=99.93943786621094\n",
            "Epoch loss: 0.0026816143936505823, accuracy=99.9375\n",
            "Epoch:76, batch:128, loss:0.0009143147617578506, avg_loss:0.002396380114078056, accuracy=99.91521453857422\n",
            "Epoch loss: 0.0023617925559819646, accuracy=99.91666412353516\n",
            "Epoch:77, batch:128, loss:0.0006797686219215393, avg_loss:0.001812352791603189, accuracy=99.97880554199219\n",
            "Epoch loss: 0.0017915843407425916, accuracy=99.97916412353516\n",
            "Epoch:78, batch:128, loss:0.003425649367272854, avg_loss:0.0015275209298124537, accuracy=99.97274780273438\n",
            "Epoch loss: 0.0015161179401206248, accuracy=99.97321319580078\n",
            "Epoch:79, batch:128, loss:0.0043514687567949295, avg_loss:0.0016337103079422377, accuracy=99.96669006347656\n",
            "Epoch loss: 0.0016323725735260682, accuracy=99.9672622680664\n",
            "Training completed\n",
            "CPU times: user 2min 34s, sys: 45.2 s, total: 3min 19s\n",
            "Wall time: 3min 32s\n"
          ],
          "name": "stdout"
        }
      ]
    },
    {
      "cell_type": "code",
      "metadata": {
        "id": "LhAadPam2bHH",
        "colab_type": "code",
        "colab": {
          "base_uri": "https://localhost:8080/",
          "height": 281
        },
        "outputId": "eb7a16d7-7ccc-4b34-8ca1-1175e3c670fc"
      },
      "source": [
        "plt.subplot(121)\n",
        "plt.plot(range(num_epochs), epoch_losses, 'r--')\n",
        "plt.title('Loss at each epoch')\n",
        "plt.subplot(122)\n",
        "plt.plot(range(num_epochs), accuracies, 'g-')\n",
        "plt.ylim(bottom=97)\n",
        "plt.title('Accuracy at each epoch')\n",
        "plt.show()"
      ],
      "execution_count": 34,
      "outputs": [
        {
          "output_type": "display_data",
          "data": {
            "image/png": "[encoded data removed]",
            "text/plain": [
              "<Figure size 432x288 with 2 Axes>"
            ]
          },
          "metadata": {
            "tags": []
          }
        }
      ]
    },
    {
      "cell_type": "code",
      "metadata": {
        "id": "coXL530vDsvm",
        "outputId": "fbe730ea-19f4-4eb1-e659-64a88935e272",
        "trusted": true,
        "colab_type": "code",
        "colab": {
          "base_uri": "https://localhost:8080/",
          "height": 34
        }
      },
      "source": [
        "model.eval()\n",
        "\n",
        "with torch.no_grad():\n",
        "  total = 0\n",
        "  correct = 0\n",
        "  conf_mat = np.zeros((10, 10))\n",
        "  for batch_id, data in enumerate(validloader, 0):\n",
        "    inputs, labels = data\n",
        "    inputs = inputs.to(device)\n",
        "    labels = labels.to(device)\n",
        "\n",
        "    outputs = model(inputs)\n",
        "    _, preds = torch.max(outputs.data, 1)\n",
        "\n",
        "    for x, y in zip(preds.cpu().numpy(), labels.cpu().numpy()):\n",
        "      conf_mat[x][y] += 1\n",
        "\n",
        "    total += len(labels)\n",
        "    correct += (preds == labels).sum()\n",
        "  \n",
        "  validation_accuracy = 100.0*correct/total\n",
        "\n",
        "print(f'Validation accuracy: {validation_accuracy}')"
      ],
      "execution_count": 35,
      "outputs": [
        {
          "output_type": "stream",
          "text": [
            "Validation accuracy: 99.61904907226562\n"
          ],
          "name": "stdout"
        }
      ]
    },
    {
      "cell_type": "code",
      "metadata": {
        "id": "iLjBJWy0RVMW",
        "trusted": true,
        "colab_type": "code",
        "colab": {}
      },
      "source": [
        "def plot_conf_matrix(confusion_matrix):\n",
        "  classes = np.arange(10)\n",
        "  fig, ax = plt.subplots()\n",
        "  im = ax.imshow(confusion_matrix, interpolation='nearest', cmap=plt.cm.Blues)\n",
        "  ax.figure.colorbar(im, ax=ax)\n",
        "  ax.set(xticks=np.arange(confusion_matrix.shape[1]),\n",
        "          yticks=np.arange(confusion_matrix.shape[0]),\n",
        "          xticklabels=classes, yticklabels=classes,\n",
        "          ylabel='True label',\n",
        "          xlabel='Predicted label',\n",
        "          title='Epoch %d' % epoch)\n",
        "  thresh = confusion_matrix.max() / 2.\n",
        "  for i in range(confusion_matrix.shape[0]):\n",
        "      for j in range(confusion_matrix.shape[1]):\n",
        "          ax.text(j, i, int(confusion_matrix[i, j]),\n",
        "                  ha=\"center\", va=\"center\",\n",
        "                  color=\"white\" if confusion_matrix[i, j] > thresh else \"black\")\n",
        "    \n",
        "  fig.tight_layout()"
      ],
      "execution_count": 0,
      "outputs": []
    },
    {
      "cell_type": "code",
      "metadata": {
        "id": "0Z1ZbxgvTJhY",
        "outputId": "ba7d79d0-b309-4592-8033-28e4d340cad6",
        "trusted": true,
        "colab_type": "code",
        "colab": {
          "base_uri": "https://localhost:8080/",
          "height": 297
        }
      },
      "source": [
        "plot_conf_matrix(conf_mat)"
      ],
      "execution_count": 37,
      "outputs": [
        {
          "output_type": "display_data",
          "data": {
            "image/png": "[encoded data removed]",
            "text/plain": [
              "<Figure size 432x288 with 2 Axes>"
            ]
          },
          "metadata": {
            "tags": []
          }
        }
      ]
    },
    {
      "cell_type": "code",
      "metadata": {
        "id": "NntEATToTNl7",
        "trusted": true,
        "colab_type": "code",
        "outputId": "daacae12-3d5d-4ebe-a8d7-4c73150725b0",
        "colab": {
          "base_uri": "https://localhost:8080/",
          "height": 34
        }
      },
      "source": [
        "test_df.shape"
      ],
      "execution_count": 38,
      "outputs": [
        {
          "output_type": "execute_result",
          "data": {
            "text/plain": [
              "(28000, 784)"
            ]
          },
          "metadata": {
            "tags": []
          },
          "execution_count": 38
        }
      ]
    },
    {
      "cell_type": "code",
      "metadata": {
        "trusted": true,
        "id": "VradY7BjM2p7",
        "colab_type": "code",
        "colab": {}
      },
      "source": [
        "class MNIST_Test_Dataset(Dataset):\n",
        "    def __init__(self, features):\n",
        "        self.inputs = torch.tensor(features.values, dtype=torch.float)\n",
        "        \n",
        "    def __len__(self):\n",
        "        \"\"\"\n",
        "        Denotes the total number of samples.\n",
        "        \"\"\"\n",
        "        return len(self.inputs)\n",
        "\n",
        "    def __getitem__(self, idx):\n",
        "        \"\"\"\n",
        "        Generates one sample of data.\n",
        "        \"\"\"\n",
        "        input_item = self.inputs[idx]\n",
        "        return input_item.view(1, 28, 28)"
      ],
      "execution_count": 0,
      "outputs": []
    },
    {
      "cell_type": "code",
      "metadata": {
        "trusted": true,
        "id": "nAmt0WqEM2p8",
        "colab_type": "code",
        "colab": {}
      },
      "source": [
        "batch_size = 1\n",
        "testset = MNIST_Test_Dataset(test_df)\n",
        "testloader = torch.utils.data.DataLoader(testset, batch_size, shuffle=False)"
      ],
      "execution_count": 0,
      "outputs": []
    },
    {
      "cell_type": "code",
      "metadata": {
        "trusted": true,
        "id": "u8sV27pKM2p-",
        "colab_type": "code",
        "outputId": "6173e537-7551-4f80-c08d-db2c1b1e785d",
        "colab": {
          "base_uri": "https://localhost:8080/",
          "height": 265
        }
      },
      "source": [
        "inputs = next(iter(testloader))\n",
        "inputs = torchvision.utils.make_grid(inputs[:4])\n",
        "\n",
        "plt.figure(figsize=(16, 4))\n",
        "plt.imshow(inputs.numpy().transpose((1, 2, 0)))\n",
        "plt.axis('off')\n",
        "plt.show()"
      ],
      "execution_count": 41,
      "outputs": [
        {
          "output_type": "stream",
          "text": [
            "Clipping input data to the valid range for imshow with RGB data ([0..1] for floats or [0..255] for integers).\n"
          ],
          "name": "stderr"
        },
        {
          "output_type": "display_data",
          "data": {
            "image/png": "[encoded data removed]",
            "text/plain": [
              "<Figure size 1152x288 with 1 Axes>"
            ]
          },
          "metadata": {
            "tags": []
          }
        }
      ]
    },
    {
      "cell_type": "code",
      "metadata": {
        "trusted": true,
        "id": "0jczLmpaM2p_",
        "colab_type": "code",
        "colab": {}
      },
      "source": [
        "model.eval()\n",
        "\n",
        "predictions = {}\n",
        "with torch.no_grad():\n",
        "    for batch_id, inputs in enumerate(testloader, 1):\n",
        "        inputs = inputs.to(device)\n",
        "        \n",
        "        outputs = model(inputs)\n",
        "        _, preds = torch.max(outputs.data, 1)\n",
        "        \n",
        "        predictions[batch_id] = preds.item()\n",
        "\n"
      ],
      "execution_count": 0,
      "outputs": []
    },
    {
      "cell_type": "code",
      "metadata": {
        "trusted": true,
        "id": "zC9-0LqxM2qB",
        "colab_type": "code",
        "colab": {}
      },
      "source": [
        "import csv\n",
        "\n",
        "with open('predictions_4.csv', mode='w') as csv_file:\n",
        "    fieldnames = ['ImageId', 'Label']\n",
        "    writer = csv.DictWriter(csv_file, fieldnames=fieldnames)\n",
        "\n",
        "    writer.writeheader()\n",
        "    for k,v in predictions.items():\n",
        "        writer.writerow({'ImageId': k, 'Label': v})"
      ],
      "execution_count": 0,
      "outputs": []
    },
    {
      "cell_type": "code",
      "metadata": {
        "trusted": true,
        "id": "AMkVpGiUM2qD",
        "colab_type": "code",
        "outputId": "f6004a5f-c33b-4179-d901-c0b8b6cbd237",
        "colab": {
          "base_uri": "https://localhost:8080/",
          "height": 34
        }
      },
      "source": [
        "predictions[1]"
      ],
      "execution_count": 44,
      "outputs": [
        {
          "output_type": "execute_result",
          "data": {
            "text/plain": [
              "2"
            ]
          },
          "metadata": {
            "tags": []
          },
          "execution_count": 44
        }
      ]
    },
    {
      "cell_type": "code",
      "metadata": {
        "trusted": true,
        "id": "QkoE5-DvM2qE",
        "colab_type": "code",
        "colab": {}
      },
      "source": [
        ""
      ],
      "execution_count": 0,
      "outputs": []
    }
  ]
}