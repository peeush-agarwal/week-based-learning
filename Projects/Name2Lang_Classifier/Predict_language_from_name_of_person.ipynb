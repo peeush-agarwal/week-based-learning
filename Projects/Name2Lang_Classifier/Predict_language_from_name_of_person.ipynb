{
  "nbformat": 4,
  "nbformat_minor": 0,
  "metadata": {
    "colab": {
      "name": "Predict language from name of person.ipynb",
      "provenance": [],
      "toc_visible": true,
      "mount_file_id": "12JLeA55-Zk_urPRsQeR4UBWV0MxnOgyr",
      "authorship_tag": "ABX9TyN9qPy4iYWS9CmZuSkznh+/",
      "include_colab_link": true
    },
    "kernelspec": {
      "name": "python3",
      "display_name": "Python 3"
    },
    "accelerator": "GPU"
  },
  "cells": [
    {
      "cell_type": "markdown",
      "metadata": {
        "id": "view-in-github",
        "colab_type": "text"
      },
      "source": [
        "<a href=\"https://colab.research.google.com/github/peeush-agarwal/week-based-learning/blob/master/Projects/Name2Lang_Classifier/Predict_language_from_name_of_person.ipynb\" target=\"_parent\"><img src=\"https://colab.research.google.com/assets/colab-badge.svg\" alt=\"Open In Colab\"/></a>"
      ]
    },
    {
      "cell_type": "markdown",
      "metadata": {
        "id": "dFzc2YjYYyBZ",
        "colab_type": "text"
      },
      "source": [
        "# Name to language classifier\n",
        "\n",
        "+ Dataset\n",
        "  + Given different files containing 2 columns: Name, Language\n",
        "+ Build RNN model to take name as input and predict language "
      ]
    },
    {
      "cell_type": "markdown",
      "metadata": {
        "id": "O8sENSpgZMWN",
        "colab_type": "text"
      },
      "source": [
        "## Import libraries"
      ]
    },
    {
      "cell_type": "code",
      "metadata": {
        "id": "mRNcAk06Ynei",
        "colab_type": "code",
        "colab": {
          "base_uri": "https://localhost:8080/",
          "height": 51
        },
        "outputId": "19580e38-7a97-4543-ebe2-bb583b28e414"
      },
      "source": [
        "import os\n",
        "import glob\n",
        "import string\n",
        "import unicodedata\n",
        "from io import open\n",
        "import random\n",
        "\n",
        "import matplotlib.pyplot as plt\n",
        "import seaborn as sns\n",
        "import pandas as pd\n",
        "import numpy as np\n",
        "\n",
        "plt.style.use('dark_background')\n",
        "\n",
        "import torch\n",
        "import torch.nn as nn"
      ],
      "execution_count": 1,
      "outputs": [
        {
          "output_type": "stream",
          "text": [
            "/usr/local/lib/python3.6/dist-packages/statsmodels/tools/_testing.py:19: FutureWarning: pandas.util.testing is deprecated. Use the functions in the public API at pandas.testing instead.\n",
            "  import pandas.util.testing as tm\n"
          ],
          "name": "stderr"
        }
      ]
    },
    {
      "cell_type": "markdown",
      "metadata": {
        "id": "G_7q-28yaVWH",
        "colab_type": "text"
      },
      "source": [
        "## Load dataset"
      ]
    },
    {
      "cell_type": "code",
      "metadata": {
        "id": "o5NxvdnpaTx1",
        "colab_type": "code",
        "colab": {
          "base_uri": "https://localhost:8080/",
          "height": 391
        },
        "outputId": "c71f6f16-ec99-4353-e6bd-515ec0c468ed"
      },
      "source": [
        "! unzip '/content/drive/My Drive/Projects/Name_To_Language_Classifier/name_language.zip'"
      ],
      "execution_count": 2,
      "outputs": [
        {
          "output_type": "stream",
          "text": [
            "Archive:  /content/drive/My Drive/Projects/Name_To_Language_Classifier/name_language.zip\n",
            "   creating: data/\n",
            "  inflating: data/eng-fra.txt        \n",
            "   creating: data/names/\n",
            "  inflating: data/names/Arabic.txt   \n",
            "  inflating: data/names/Chinese.txt  \n",
            "  inflating: data/names/Czech.txt    \n",
            "  inflating: data/names/Dutch.txt    \n",
            "  inflating: data/names/English.txt  \n",
            "  inflating: data/names/French.txt   \n",
            "  inflating: data/names/German.txt   \n",
            "  inflating: data/names/Greek.txt    \n",
            "  inflating: data/names/Irish.txt    \n",
            "  inflating: data/names/Italian.txt  \n",
            "  inflating: data/names/Japanese.txt  \n",
            "  inflating: data/names/Korean.txt   \n",
            "  inflating: data/names/Polish.txt   \n",
            "  inflating: data/names/Portuguese.txt  \n",
            "  inflating: data/names/Russian.txt  \n",
            "  inflating: data/names/Scottish.txt  \n",
            "  inflating: data/names/Spanish.txt  \n",
            "  inflating: data/names/Vietnamese.txt  \n"
          ],
          "name": "stdout"
        }
      ]
    },
    {
      "cell_type": "code",
      "metadata": {
        "id": "Hif_xAccadw8",
        "colab_type": "code",
        "colab": {}
      },
      "source": [
        "base_path = './data/names/*.txt'"
      ],
      "execution_count": 0,
      "outputs": []
    },
    {
      "cell_type": "code",
      "metadata": {
        "id": "sHS-dsKNbRJt",
        "colab_type": "code",
        "colab": {}
      },
      "source": [
        "files = glob.glob(base_path)"
      ],
      "execution_count": 0,
      "outputs": []
    },
    {
      "cell_type": "code",
      "metadata": {
        "id": "jDrJOXGwbiC8",
        "colab_type": "code",
        "colab": {
          "base_uri": "https://localhost:8080/",
          "height": 54
        },
        "outputId": "d9a47413-c6a7-4dd3-8226-777f1cc789fb"
      },
      "source": [
        "print(files)"
      ],
      "execution_count": 5,
      "outputs": [
        {
          "output_type": "stream",
          "text": [
            "['./data/names/Czech.txt', './data/names/Irish.txt', './data/names/English.txt', './data/names/Spanish.txt', './data/names/Scottish.txt', './data/names/Arabic.txt', './data/names/Polish.txt', './data/names/Portuguese.txt', './data/names/French.txt', './data/names/Greek.txt', './data/names/Japanese.txt', './data/names/Korean.txt', './data/names/Dutch.txt', './data/names/German.txt', './data/names/Italian.txt', './data/names/Russian.txt', './data/names/Chinese.txt', './data/names/Vietnamese.txt']\n"
          ],
          "name": "stdout"
        }
      ]
    },
    {
      "cell_type": "code",
      "metadata": {
        "id": "w5dlUPTueH31",
        "colab_type": "code",
        "colab": {}
      },
      "source": [
        "def fetch_category(filepath):\n",
        "  return os.path.splitext(os.path.basename(filepath))[0]"
      ],
      "execution_count": 0,
      "outputs": []
    },
    {
      "cell_type": "code",
      "metadata": {
        "id": "Z8qZo99ieSwW",
        "colab_type": "code",
        "colab": {
          "base_uri": "https://localhost:8080/",
          "height": 34
        },
        "outputId": "5c31aa38-c611-44fc-9ae2-d1f2f3aeef88"
      },
      "source": [
        "fetch_category(files[0])"
      ],
      "execution_count": 7,
      "outputs": [
        {
          "output_type": "execute_result",
          "data": {
            "text/plain": [
              "'Czech'"
            ]
          },
          "metadata": {
            "tags": []
          },
          "execution_count": 7
        }
      ]
    },
    {
      "cell_type": "code",
      "metadata": {
        "id": "nu66mLIQlx-t",
        "colab_type": "code",
        "colab": {}
      },
      "source": [
        "all_letters = string.ascii_letters + \" ;,'\""
      ],
      "execution_count": 0,
      "outputs": []
    },
    {
      "cell_type": "code",
      "metadata": {
        "id": "H2NSTHyTlYKs",
        "colab_type": "code",
        "colab": {}
      },
      "source": [
        "def unicode_to_ascii(name):\n",
        "  return ''.join(\n",
        "      c for c in unicodedata.normalize('NFD', name)\n",
        "      if unicodedata.category(c) != 'Mn' and c in all_letters\n",
        "  )"
      ],
      "execution_count": 0,
      "outputs": []
    },
    {
      "cell_type": "code",
      "metadata": {
        "id": "_Sr8dATql-Qs",
        "colab_type": "code",
        "colab": {
          "base_uri": "https://localhost:8080/",
          "height": 34
        },
        "outputId": "07ab322b-2da7-4ef3-91fb-337874443fc7"
      },
      "source": [
        "unicode_to_ascii('Ślusàrski')"
      ],
      "execution_count": 10,
      "outputs": [
        {
          "output_type": "execute_result",
          "data": {
            "text/plain": [
              "'Slusarski'"
            ]
          },
          "metadata": {
            "tags": []
          },
          "execution_count": 10
        }
      ]
    },
    {
      "cell_type": "code",
      "metadata": {
        "id": "pobPTtxZbjP0",
        "colab_type": "code",
        "colab": {}
      },
      "source": [
        "all_categories = []\n",
        "category_name = {}\n",
        "\n",
        "for file_ in files:\n",
        "  with open(file_) as fd:\n",
        "    category = fetch_category(file_)\n",
        "    if not category in all_categories:\n",
        "      all_categories.append(category)\n",
        "      category_name[category] = list()\n",
        "\n",
        "    for line in fd:\n",
        "      name = line.strip().split('\\n')[0]\n",
        "      category_name[category].append(unicode_to_ascii(name))"
      ],
      "execution_count": 0,
      "outputs": []
    },
    {
      "cell_type": "code",
      "metadata": {
        "id": "5IA2gl_acEWV",
        "colab_type": "code",
        "colab": {}
      },
      "source": [
        "n_categories = len(all_categories)"
      ],
      "execution_count": 0,
      "outputs": []
    },
    {
      "cell_type": "markdown",
      "metadata": {
        "id": "JxThRHQ0j_W-",
        "colab_type": "text"
      },
      "source": [
        "## Visualize distribution of names over languages"
      ]
    },
    {
      "cell_type": "code",
      "metadata": {
        "id": "e6xqfM1OgVw1",
        "colab_type": "code",
        "colab": {
          "base_uri": "https://localhost:8080/",
          "height": 314
        },
        "outputId": "49a64cc8-7d9a-496c-9bb6-f6f18fe87297"
      },
      "source": [
        "plt_ = sns.barplot(list(category_name.keys()), [len(value) for key, value in category_name.items()])\n",
        "plt_.set_xticklabels(plt_.get_xticklabels(), rotation=90)\n",
        "plt.show()"
      ],
      "execution_count": 13,
      "outputs": [
        {
          "output_type": "display_data",
          "data": {
            "image/png": "[encoded data removed]",
            "text/plain": [
              "<Figure size 432x288 with 1 Axes>"
            ]
          },
          "metadata": {
            "tags": [],
            "needs_background": "dark"
          }
        }
      ]
    },
    {
      "cell_type": "markdown",
      "metadata": {
        "id": "s51NgX4dkG8D",
        "colab_type": "text"
      },
      "source": [
        "## Data processing"
      ]
    },
    {
      "cell_type": "code",
      "metadata": {
        "id": "aWHhKDt6mzAd",
        "colab_type": "code",
        "colab": {}
      },
      "source": [
        "n_letters = len(all_letters)"
      ],
      "execution_count": 0,
      "outputs": []
    },
    {
      "cell_type": "code",
      "metadata": {
        "id": "icuVabxFhffr",
        "colab_type": "code",
        "colab": {}
      },
      "source": [
        "def char_to_tensor(c):\n",
        "  tensor = torch.zeros((1, n_letters))\n",
        "  tensor[0][all_letters.index(c)] = 1\n",
        "  return tensor"
      ],
      "execution_count": 0,
      "outputs": []
    },
    {
      "cell_type": "code",
      "metadata": {
        "id": "hTKPaTQimtiU",
        "colab_type": "code",
        "colab": {
          "base_uri": "https://localhost:8080/",
          "height": 85
        },
        "outputId": "0fc96adc-cfdb-43e5-928e-40e3547b99d1"
      },
      "source": [
        "char_to_tensor('a')"
      ],
      "execution_count": 16,
      "outputs": [
        {
          "output_type": "execute_result",
          "data": {
            "text/plain": [
              "tensor([[1., 0., 0., 0., 0., 0., 0., 0., 0., 0., 0., 0., 0., 0., 0., 0., 0., 0.,\n",
              "         0., 0., 0., 0., 0., 0., 0., 0., 0., 0., 0., 0., 0., 0., 0., 0., 0., 0.,\n",
              "         0., 0., 0., 0., 0., 0., 0., 0., 0., 0., 0., 0., 0., 0., 0., 0., 0., 0.,\n",
              "         0., 0.]])"
            ]
          },
          "metadata": {
            "tags": []
          },
          "execution_count": 16
        }
      ]
    },
    {
      "cell_type": "code",
      "metadata": {
        "id": "UeBTg1sUmwJr",
        "colab_type": "code",
        "colab": {
          "base_uri": "https://localhost:8080/",
          "height": 85
        },
        "outputId": "f1f54045-7784-4989-bcb3-7b693e466aab"
      },
      "source": [
        "char_to_tensor('B')"
      ],
      "execution_count": 17,
      "outputs": [
        {
          "output_type": "execute_result",
          "data": {
            "text/plain": [
              "tensor([[0., 0., 0., 0., 0., 0., 0., 0., 0., 0., 0., 0., 0., 0., 0., 0., 0., 0.,\n",
              "         0., 0., 0., 0., 0., 0., 0., 0., 0., 1., 0., 0., 0., 0., 0., 0., 0., 0.,\n",
              "         0., 0., 0., 0., 0., 0., 0., 0., 0., 0., 0., 0., 0., 0., 0., 0., 0., 0.,\n",
              "         0., 0.]])"
            ]
          },
          "metadata": {
            "tags": []
          },
          "execution_count": 17
        }
      ]
    },
    {
      "cell_type": "code",
      "metadata": {
        "id": "P8Ak8tgCm9Hn",
        "colab_type": "code",
        "colab": {}
      },
      "source": [
        "def name_to_tensor(name):\n",
        "  tensor = torch.empty((len(name), 1, n_letters))\n",
        "  for idx, c in enumerate(name):\n",
        "    tensor[idx] = char_to_tensor(c)\n",
        "  return tensor"
      ],
      "execution_count": 0,
      "outputs": []
    },
    {
      "cell_type": "code",
      "metadata": {
        "id": "cuuALVlpngVD",
        "colab_type": "code",
        "colab": {
          "base_uri": "https://localhost:8080/",
          "height": 510
        },
        "outputId": "44f9e282-6640-4f5f-c70e-9a9958118224"
      },
      "source": [
        "t = name_to_tensor('Peeush')\n",
        "print(t.size(), t)"
      ],
      "execution_count": 19,
      "outputs": [
        {
          "output_type": "stream",
          "text": [
            "torch.Size([6, 1, 56]) tensor([[[0., 0., 0., 0., 0., 0., 0., 0., 0., 0., 0., 0., 0., 0., 0., 0., 0.,\n",
            "          0., 0., 0., 0., 0., 0., 0., 0., 0., 0., 0., 0., 0., 0., 0., 0., 0.,\n",
            "          0., 0., 0., 0., 0., 0., 0., 1., 0., 0., 0., 0., 0., 0., 0., 0., 0.,\n",
            "          0., 0., 0., 0., 0.]],\n",
            "\n",
            "        [[0., 0., 0., 0., 1., 0., 0., 0., 0., 0., 0., 0., 0., 0., 0., 0., 0.,\n",
            "          0., 0., 0., 0., 0., 0., 0., 0., 0., 0., 0., 0., 0., 0., 0., 0., 0.,\n",
            "          0., 0., 0., 0., 0., 0., 0., 0., 0., 0., 0., 0., 0., 0., 0., 0., 0.,\n",
            "          0., 0., 0., 0., 0.]],\n",
            "\n",
            "        [[0., 0., 0., 0., 1., 0., 0., 0., 0., 0., 0., 0., 0., 0., 0., 0., 0.,\n",
            "          0., 0., 0., 0., 0., 0., 0., 0., 0., 0., 0., 0., 0., 0., 0., 0., 0.,\n",
            "          0., 0., 0., 0., 0., 0., 0., 0., 0., 0., 0., 0., 0., 0., 0., 0., 0.,\n",
            "          0., 0., 0., 0., 0.]],\n",
            "\n",
            "        [[0., 0., 0., 0., 0., 0., 0., 0., 0., 0., 0., 0., 0., 0., 0., 0., 0.,\n",
            "          0., 0., 0., 1., 0., 0., 0., 0., 0., 0., 0., 0., 0., 0., 0., 0., 0.,\n",
            "          0., 0., 0., 0., 0., 0., 0., 0., 0., 0., 0., 0., 0., 0., 0., 0., 0.,\n",
            "          0., 0., 0., 0., 0.]],\n",
            "\n",
            "        [[0., 0., 0., 0., 0., 0., 0., 0., 0., 0., 0., 0., 0., 0., 0., 0., 0.,\n",
            "          0., 1., 0., 0., 0., 0., 0., 0., 0., 0., 0., 0., 0., 0., 0., 0., 0.,\n",
            "          0., 0., 0., 0., 0., 0., 0., 0., 0., 0., 0., 0., 0., 0., 0., 0., 0.,\n",
            "          0., 0., 0., 0., 0.]],\n",
            "\n",
            "        [[0., 0., 0., 0., 0., 0., 0., 1., 0., 0., 0., 0., 0., 0., 0., 0., 0.,\n",
            "          0., 0., 0., 0., 0., 0., 0., 0., 0., 0., 0., 0., 0., 0., 0., 0., 0.,\n",
            "          0., 0., 0., 0., 0., 0., 0., 0., 0., 0., 0., 0., 0., 0., 0., 0., 0.,\n",
            "          0., 0., 0., 0., 0.]]])\n"
          ],
          "name": "stdout"
        }
      ]
    },
    {
      "cell_type": "code",
      "metadata": {
        "id": "noX47IIInjan",
        "colab_type": "code",
        "colab": {}
      },
      "source": [
        "def category_to_tensor(category):\n",
        "  return torch.tensor([all_categories.index(category)])"
      ],
      "execution_count": 0,
      "outputs": []
    },
    {
      "cell_type": "code",
      "metadata": {
        "id": "T1hKrj-YorY2",
        "colab_type": "code",
        "colab": {
          "base_uri": "https://localhost:8080/",
          "height": 34
        },
        "outputId": "aa27c8d1-7ac7-4344-b91e-275ab5c9cd57"
      },
      "source": [
        "category_to_tensor('French')"
      ],
      "execution_count": 21,
      "outputs": [
        {
          "output_type": "execute_result",
          "data": {
            "text/plain": [
              "tensor([8])"
            ]
          },
          "metadata": {
            "tags": []
          },
          "execution_count": 21
        }
      ]
    },
    {
      "cell_type": "code",
      "metadata": {
        "id": "tQuHG-OLot92",
        "colab_type": "code",
        "colab": {}
      },
      "source": [
        "def output_to_category(output_tensor, k = 1):\n",
        "  values, indices = output_tensor.topk(k)\n",
        "\n",
        "  out = []\n",
        "  for index in indices[0]:\n",
        "    # print(index)\n",
        "    if index.item() in range(0, n_categories):\n",
        "      out.append(all_categories[index.item()])\n",
        "  \n",
        "  return out"
      ],
      "execution_count": 0,
      "outputs": []
    },
    {
      "cell_type": "code",
      "metadata": {
        "id": "pccJTLuIqvNC",
        "colab_type": "code",
        "colab": {
          "base_uri": "https://localhost:8080/",
          "height": 68
        },
        "outputId": "f1c872e8-b783-456f-bfb9-754a974f7c22"
      },
      "source": [
        "sample_out = torch.randn((1, 10))\n",
        "print(sample_out)\n",
        "output_to_category(sample_out, k=2)"
      ],
      "execution_count": 52,
      "outputs": [
        {
          "output_type": "stream",
          "text": [
            "tensor([[ 1.5844, -2.0110,  0.5742,  0.8236,  1.9281,  0.4442,  0.5871, -1.1790,\n",
            "          1.6155, -1.5817]])\n"
          ],
          "name": "stdout"
        },
        {
          "output_type": "execute_result",
          "data": {
            "text/plain": [
              "['Scottish', 'French']"
            ]
          },
          "metadata": {
            "tags": []
          },
          "execution_count": 52
        }
      ]
    },
    {
      "cell_type": "code",
      "metadata": {
        "id": "JL_JSheruQpO",
        "colab_type": "code",
        "colab": {}
      },
      "source": [
        "def random_choice(list_):\n",
        "  return list_[random.randint(0, len(list_)-1)]"
      ],
      "execution_count": 0,
      "outputs": []
    },
    {
      "cell_type": "code",
      "metadata": {
        "id": "5M7DI4vOvQgy",
        "colab_type": "code",
        "colab": {
          "base_uri": "https://localhost:8080/",
          "height": 34
        },
        "outputId": "3adbe6db-1161-4dc4-b103-0767df801615"
      },
      "source": [
        "random_choice(all_categories)"
      ],
      "execution_count": 25,
      "outputs": [
        {
          "output_type": "execute_result",
          "data": {
            "text/plain": [
              "'Czech'"
            ]
          },
          "metadata": {
            "tags": []
          },
          "execution_count": 25
        }
      ]
    },
    {
      "cell_type": "code",
      "metadata": {
        "id": "n87DI4DRvXPe",
        "colab_type": "code",
        "colab": {}
      },
      "source": [
        "def random_training_sample():\n",
        "  category = random_choice(all_categories)\n",
        "  name = random_choice(category_name[category])\n",
        "  return category, name, category_to_tensor(category), name_to_tensor(name)"
      ],
      "execution_count": 0,
      "outputs": []
    },
    {
      "cell_type": "code",
      "metadata": {
        "id": "TWxY-ycFvpCr",
        "colab_type": "code",
        "colab": {
          "base_uri": "https://localhost:8080/",
          "height": 646
        },
        "outputId": "3b108e1f-8a4f-43eb-c899-e377c52bbedf"
      },
      "source": [
        "random_training_sample()"
      ],
      "execution_count": 27,
      "outputs": [
        {
          "output_type": "execute_result",
          "data": {
            "text/plain": [
              "('Portuguese',\n",
              " 'Gouveia',\n",
              " tensor([7]),\n",
              " tensor([[[0., 0., 0., 0., 0., 0., 0., 0., 0., 0., 0., 0., 0., 0., 0., 0., 0.,\n",
              "           0., 0., 0., 0., 0., 0., 0., 0., 0., 0., 0., 0., 0., 0., 0., 1., 0.,\n",
              "           0., 0., 0., 0., 0., 0., 0., 0., 0., 0., 0., 0., 0., 0., 0., 0., 0.,\n",
              "           0., 0., 0., 0., 0.]],\n",
              " \n",
              "         [[0., 0., 0., 0., 0., 0., 0., 0., 0., 0., 0., 0., 0., 0., 1., 0., 0.,\n",
              "           0., 0., 0., 0., 0., 0., 0., 0., 0., 0., 0., 0., 0., 0., 0., 0., 0.,\n",
              "           0., 0., 0., 0., 0., 0., 0., 0., 0., 0., 0., 0., 0., 0., 0., 0., 0.,\n",
              "           0., 0., 0., 0., 0.]],\n",
              " \n",
              "         [[0., 0., 0., 0., 0., 0., 0., 0., 0., 0., 0., 0., 0., 0., 0., 0., 0.,\n",
              "           0., 0., 0., 1., 0., 0., 0., 0., 0., 0., 0., 0., 0., 0., 0., 0., 0.,\n",
              "           0., 0., 0., 0., 0., 0., 0., 0., 0., 0., 0., 0., 0., 0., 0., 0., 0.,\n",
              "           0., 0., 0., 0., 0.]],\n",
              " \n",
              "         [[0., 0., 0., 0., 0., 0., 0., 0., 0., 0., 0., 0., 0., 0., 0., 0., 0.,\n",
              "           0., 0., 0., 0., 1., 0., 0., 0., 0., 0., 0., 0., 0., 0., 0., 0., 0.,\n",
              "           0., 0., 0., 0., 0., 0., 0., 0., 0., 0., 0., 0., 0., 0., 0., 0., 0.,\n",
              "           0., 0., 0., 0., 0.]],\n",
              " \n",
              "         [[0., 0., 0., 0., 1., 0., 0., 0., 0., 0., 0., 0., 0., 0., 0., 0., 0.,\n",
              "           0., 0., 0., 0., 0., 0., 0., 0., 0., 0., 0., 0., 0., 0., 0., 0., 0.,\n",
              "           0., 0., 0., 0., 0., 0., 0., 0., 0., 0., 0., 0., 0., 0., 0., 0., 0.,\n",
              "           0., 0., 0., 0., 0.]],\n",
              " \n",
              "         [[0., 0., 0., 0., 0., 0., 0., 0., 1., 0., 0., 0., 0., 0., 0., 0., 0.,\n",
              "           0., 0., 0., 0., 0., 0., 0., 0., 0., 0., 0., 0., 0., 0., 0., 0., 0.,\n",
              "           0., 0., 0., 0., 0., 0., 0., 0., 0., 0., 0., 0., 0., 0., 0., 0., 0.,\n",
              "           0., 0., 0., 0., 0.]],\n",
              " \n",
              "         [[1., 0., 0., 0., 0., 0., 0., 0., 0., 0., 0., 0., 0., 0., 0., 0., 0.,\n",
              "           0., 0., 0., 0., 0., 0., 0., 0., 0., 0., 0., 0., 0., 0., 0., 0., 0.,\n",
              "           0., 0., 0., 0., 0., 0., 0., 0., 0., 0., 0., 0., 0., 0., 0., 0., 0.,\n",
              "           0., 0., 0., 0., 0.]]]))"
            ]
          },
          "metadata": {
            "tags": []
          },
          "execution_count": 27
        }
      ]
    },
    {
      "cell_type": "markdown",
      "metadata": {
        "id": "sXqbnn8ztAbq",
        "colab_type": "text"
      },
      "source": [
        "## Fetch computing device"
      ]
    },
    {
      "cell_type": "code",
      "metadata": {
        "id": "NlYuykxutDzw",
        "colab_type": "code",
        "colab": {
          "base_uri": "https://localhost:8080/",
          "height": 34
        },
        "outputId": "aa283d11-041c-453a-afcc-e816b7008203"
      },
      "source": [
        "device = torch.device('cuda:0' if torch.cuda.is_available() else 'cpu')\n",
        "print(device)"
      ],
      "execution_count": 28,
      "outputs": [
        {
          "output_type": "stream",
          "text": [
            "cuda:0\n"
          ],
          "name": "stdout"
        }
      ]
    },
    {
      "cell_type": "markdown",
      "metadata": {
        "id": "lKVD-Nznrr6Z",
        "colab_type": "text"
      },
      "source": [
        "## Build RNN model"
      ]
    },
    {
      "cell_type": "code",
      "metadata": {
        "id": "WMCakxQDrARi",
        "colab_type": "code",
        "colab": {}
      },
      "source": [
        "class Basic_RNN(nn.Module):\n",
        "  def __init__(self, input_size, hidden_size, output_size):\n",
        "    super(Basic_RNN, self).__init__()\n",
        "\n",
        "    self.hidden_size = hidden_size\n",
        "    self.i2h = nn.Linear(input_size + hidden_size, hidden_size)\n",
        "    self.i2o = nn.Linear(input_size + hidden_size, output_size)\n",
        "    self.softmax = nn.LogSoftmax(dim=1)\n",
        "  \n",
        "  def forward(self, input_, hidden):\n",
        "    combined = torch.cat((input_, hidden), dim=1)\n",
        "\n",
        "    hidden = self.i2h(combined)\n",
        "    output = self.i2o(combined)\n",
        "    output = self.softmax(output)\n",
        "\n",
        "    return output, hidden\n",
        "  \n",
        "  def init_hidden(self):\n",
        "    return torch.zeros((1, self.hidden_size))"
      ],
      "execution_count": 0,
      "outputs": []
    },
    {
      "cell_type": "code",
      "metadata": {
        "id": "Z7TOGR4ZsohT",
        "colab_type": "code",
        "colab": {}
      },
      "source": [
        "hidden_size = 128\n",
        "model = Basic_RNN(n_letters, hidden_size, n_categories).to(device)\n",
        "criterion = nn.NLLLoss()\n",
        "optimizer = torch.optim.SGD(model.parameters(), lr=0.001, momentum=0.9)"
      ],
      "execution_count": 0,
      "outputs": []
    },
    {
      "cell_type": "code",
      "metadata": {
        "id": "Owkqx1hAs8qS",
        "colab_type": "code",
        "colab": {}
      },
      "source": [
        "def infer(name):\n",
        "  model.eval()\n",
        "\n",
        "  name_tensor = name_to_tensor(name).to(device)\n",
        "  hidden = model.init_hidden().to(device)\n",
        "\n",
        "  for idx in range(name_tensor.size()[0]):\n",
        "    output, hidden = model(name_tensor[idx], hidden)\n",
        "  \n",
        "  return output"
      ],
      "execution_count": 0,
      "outputs": []
    },
    {
      "cell_type": "code",
      "metadata": {
        "id": "f5IxE7wHt0Ob",
        "colab_type": "code",
        "colab": {
          "base_uri": "https://localhost:8080/",
          "height": 102
        },
        "outputId": "352aec14-736c-4a4b-a837-26d459bfdb5d"
      },
      "source": [
        "out = infer('Albert')\n",
        "print(out)\n",
        "print(output_to_category(out))\n",
        "print(output_to_category(out, k=3))"
      ],
      "execution_count": 34,
      "outputs": [
        {
          "output_type": "stream",
          "text": [
            "tensor([[-2.8183, -2.9764, -2.8466, -2.8015, -2.8777, -2.8513, -2.8608, -2.8780,\n",
            "         -2.9691, -2.8490, -3.0340, -2.9771, -2.8922, -2.9239, -2.8747, -2.8115,\n",
            "         -2.9524, -2.8682]], device='cuda:0', grad_fn=<LogSoftmaxBackward>)\n",
            "['Spanish']\n",
            "['Spanish', 'Russian', 'Czech']\n"
          ],
          "name": "stdout"
        }
      ]
    },
    {
      "cell_type": "code",
      "metadata": {
        "id": "hk3wqvRZt2g5",
        "colab_type": "code",
        "colab": {}
      },
      "source": [
        "def train(name_tensor, category_tensor):\n",
        "  model.train()\n",
        "\n",
        "  optimizer.zero_grad()\n",
        "\n",
        "  hidden = model.init_hidden()\n",
        "  for idx in range(name_tensor.size()[0]):\n",
        "    output, hidden = model(name_tensor[idx].to(device), hidden.to(device))\n",
        "  \n",
        "  loss = criterion(output, category_tensor.to(device))\n",
        "  loss.backward()\n",
        "  optimizer.step()\n",
        "\n",
        "  return output, loss"
      ],
      "execution_count": 0,
      "outputs": []
    },
    {
      "cell_type": "code",
      "metadata": {
        "id": "MLAESBwQwdzr",
        "colab_type": "code",
        "colab": {
          "base_uri": "https://localhost:8080/",
          "height": 119
        },
        "outputId": "77729e6c-a7f9-4f07-b638-4de41b18c2f5"
      },
      "source": [
        "category, name, category_tensor, name_tensor = random_training_sample()\n",
        "print(category)\n",
        "print(name)\n",
        "out, loss = train(name_tensor, category_tensor)\n",
        "print(out)\n",
        "print(output_to_category(out, k=3))"
      ],
      "execution_count": 38,
      "outputs": [
        {
          "output_type": "stream",
          "text": [
            "Arabic\n",
            "Safar\n",
            "tensor([[-2.9355, -2.8540, -2.9241, -2.7578, -2.8243, -2.9212, -2.8974, -2.8827,\n",
            "         -3.0595, -2.8242, -2.9245, -2.9084, -2.9993, -2.8043, -2.9122, -2.8239,\n",
            "         -3.0528, -2.7819]], device='cuda:0', grad_fn=<LogSoftmaxBackward>)\n",
            "['Spanish', 'Vietnamese', 'German']\n"
          ],
          "name": "stdout"
        }
      ]
    },
    {
      "cell_type": "code",
      "metadata": {
        "id": "0cE7QzWXw6jZ",
        "colab_type": "code",
        "colab": {
          "base_uri": "https://localhost:8080/",
          "height": 850
        },
        "outputId": "14811e1d-d964-4ca3-be63-09757a2beb45"
      },
      "source": [
        "n_iterations = 500000\n",
        "\n",
        "losses = []\n",
        "accuracies = []\n",
        "\n",
        "total = 0\n",
        "correct = 0\n",
        "\n",
        "for iter_ in range(n_iterations):\n",
        "  category, name, category_tensor, name_tensor = random_training_sample()\n",
        "  output, loss = train(name_tensor, category_tensor)\n",
        "\n",
        "  predicted_category = output_to_category(output)\n",
        "  total += 1\n",
        "  correct += category in predicted_category\n",
        "\n",
        "  # print(category)\n",
        "  # print(predicted_category)\n",
        "  # print(correct, total)\n",
        "\n",
        "  if iter_ % 5000 == 0:\n",
        "    # print(f\"Iter:{iter_}, {int(100.0*iter_/n_iterations)}% Loss:{loss.item()} {name}:{category} ({predicted_category}) {'***' if not category in predicted_category else ''}\")\n",
        "    print(f\"Iter:{iter_}, {int(100.0*iter_/n_iterations)}% Loss:{loss.item()} Acc:{100.0*correct/total:.4f}\")\n",
        "    losses.append(loss.item())\n",
        "    accuracies.append(100.0*correct/total)"
      ],
      "execution_count": 54,
      "outputs": [
        {
          "output_type": "stream",
          "text": [
            "Iter:0, 0% Loss:2.9427411556243896 Acc:0.0000\n",
            "Iter:5000, 1% Loss:2.3128743171691895 Acc:24.2152\n",
            "Iter:10000, 2% Loss:1.2175066471099854 Acc:30.6869\n",
            "Iter:15000, 3% Loss:1.2911567687988281 Acc:34.3710\n",
            "Iter:20000, 4% Loss:0.23660802841186523 Acc:37.3981\n",
            "Iter:25000, 5% Loss:0.9703645706176758 Acc:39.7024\n",
            "Iter:30000, 6% Loss:4.170624732971191 Acc:41.5586\n",
            "Iter:35000, 7% Loss:0.4237217903137207 Acc:42.9759\n",
            "Iter:40000, 8% Loss:1.190903663635254 Acc:44.2089\n",
            "Iter:45000, 9% Loss:1.0935382843017578 Acc:45.1634\n",
            "Iter:50000, 10% Loss:0.4257168769836426 Acc:46.1051\n",
            "Iter:55000, 11% Loss:1.2311837673187256 Acc:46.8282\n",
            "Iter:60000, 12% Loss:0.18911409378051758 Acc:47.5942\n",
            "Iter:65000, 13% Loss:1.8426885604858398 Acc:48.2239\n",
            "Iter:70000, 14% Loss:0.4546017646789551 Acc:48.7764\n",
            "Iter:75000, 15% Loss:0.310884952545166 Acc:49.3460\n",
            "Iter:80000, 16% Loss:2.852484703063965 Acc:49.7881\n",
            "Iter:85000, 17% Loss:3.890684127807617 Acc:50.1088\n",
            "Iter:90000, 18% Loss:0.9194715023040771 Acc:50.4217\n",
            "Iter:95000, 19% Loss:0.22025537490844727 Acc:50.7742\n",
            "Iter:100000, 20% Loss:0.037560462951660156 Acc:51.0375\n",
            "Iter:105000, 21% Loss:nan Acc:48.8929\n",
            "Iter:110000, 22% Loss:nan Acc:46.7159\n",
            "Iter:115000, 23% Loss:nan Acc:44.7214\n",
            "Iter:120000, 24% Loss:nan Acc:42.8838\n",
            "Iter:125000, 25% Loss:nan Acc:41.2061\n",
            "Iter:130000, 26% Loss:nan Acc:39.6566\n",
            "Iter:135000, 27% Loss:nan Acc:38.2108\n"
          ],
          "name": "stdout"
        },
        {
          "output_type": "error",
          "ename": "KeyboardInterrupt",
          "evalue": "ignored",
          "traceback": [
            "\u001b[0;31m---------------------------------------------------------------------------\u001b[0m",
            "\u001b[0;31mKeyboardInterrupt\u001b[0m                         Traceback (most recent call last)",
            "\u001b[0;32m<ipython-input-54-aa390ec577e1>\u001b[0m in \u001b[0;36m<module>\u001b[0;34m()\u001b[0m\n\u001b[1;32m      9\u001b[0m \u001b[0;32mfor\u001b[0m \u001b[0miter_\u001b[0m \u001b[0;32min\u001b[0m \u001b[0mrange\u001b[0m\u001b[0;34m(\u001b[0m\u001b[0mn_iterations\u001b[0m\u001b[0;34m)\u001b[0m\u001b[0;34m:\u001b[0m\u001b[0;34m\u001b[0m\u001b[0;34m\u001b[0m\u001b[0m\n\u001b[1;32m     10\u001b[0m   \u001b[0mcategory\u001b[0m\u001b[0;34m,\u001b[0m \u001b[0mname\u001b[0m\u001b[0;34m,\u001b[0m \u001b[0mcategory_tensor\u001b[0m\u001b[0;34m,\u001b[0m \u001b[0mname_tensor\u001b[0m \u001b[0;34m=\u001b[0m \u001b[0mrandom_training_sample\u001b[0m\u001b[0;34m(\u001b[0m\u001b[0;34m)\u001b[0m\u001b[0;34m\u001b[0m\u001b[0;34m\u001b[0m\u001b[0m\n\u001b[0;32m---> 11\u001b[0;31m   \u001b[0moutput\u001b[0m\u001b[0;34m,\u001b[0m \u001b[0mloss\u001b[0m \u001b[0;34m=\u001b[0m \u001b[0mtrain\u001b[0m\u001b[0;34m(\u001b[0m\u001b[0mname_tensor\u001b[0m\u001b[0;34m,\u001b[0m \u001b[0mcategory_tensor\u001b[0m\u001b[0;34m)\u001b[0m\u001b[0;34m\u001b[0m\u001b[0;34m\u001b[0m\u001b[0m\n\u001b[0m\u001b[1;32m     12\u001b[0m \u001b[0;34m\u001b[0m\u001b[0m\n\u001b[1;32m     13\u001b[0m   \u001b[0mpredicted_category\u001b[0m \u001b[0;34m=\u001b[0m \u001b[0moutput_to_category\u001b[0m\u001b[0;34m(\u001b[0m\u001b[0moutput\u001b[0m\u001b[0;34m)\u001b[0m\u001b[0;34m\u001b[0m\u001b[0;34m\u001b[0m\u001b[0m\n",
            "\u001b[0;32m<ipython-input-37-4334b5da48c3>\u001b[0m in \u001b[0;36mtrain\u001b[0;34m(name_tensor, category_tensor)\u001b[0m\n\u001b[1;32m      9\u001b[0m \u001b[0;34m\u001b[0m\u001b[0m\n\u001b[1;32m     10\u001b[0m   \u001b[0mloss\u001b[0m \u001b[0;34m=\u001b[0m \u001b[0mcriterion\u001b[0m\u001b[0;34m(\u001b[0m\u001b[0moutput\u001b[0m\u001b[0;34m,\u001b[0m \u001b[0mcategory_tensor\u001b[0m\u001b[0;34m.\u001b[0m\u001b[0mto\u001b[0m\u001b[0;34m(\u001b[0m\u001b[0mdevice\u001b[0m\u001b[0;34m)\u001b[0m\u001b[0;34m)\u001b[0m\u001b[0;34m\u001b[0m\u001b[0;34m\u001b[0m\u001b[0m\n\u001b[0;32m---> 11\u001b[0;31m   \u001b[0mloss\u001b[0m\u001b[0;34m.\u001b[0m\u001b[0mbackward\u001b[0m\u001b[0;34m(\u001b[0m\u001b[0;34m)\u001b[0m\u001b[0;34m\u001b[0m\u001b[0;34m\u001b[0m\u001b[0m\n\u001b[0m\u001b[1;32m     12\u001b[0m   \u001b[0moptimizer\u001b[0m\u001b[0;34m.\u001b[0m\u001b[0mstep\u001b[0m\u001b[0;34m(\u001b[0m\u001b[0;34m)\u001b[0m\u001b[0;34m\u001b[0m\u001b[0;34m\u001b[0m\u001b[0m\n\u001b[1;32m     13\u001b[0m \u001b[0;34m\u001b[0m\u001b[0m\n",
            "\u001b[0;32m/usr/local/lib/python3.6/dist-packages/torch/tensor.py\u001b[0m in \u001b[0;36mbackward\u001b[0;34m(self, gradient, retain_graph, create_graph)\u001b[0m\n\u001b[1;32m    193\u001b[0m                 \u001b[0mproducts\u001b[0m\u001b[0;34m.\u001b[0m \u001b[0mDefaults\u001b[0m \u001b[0mto\u001b[0m\u001b[0;31m \u001b[0m\u001b[0;31m`\u001b[0m\u001b[0;31m`\u001b[0m\u001b[0;32mFalse\u001b[0m\u001b[0;31m`\u001b[0m\u001b[0;31m`\u001b[0m\u001b[0;34m.\u001b[0m\u001b[0;34m\u001b[0m\u001b[0;34m\u001b[0m\u001b[0m\n\u001b[1;32m    194\u001b[0m         \"\"\"\n\u001b[0;32m--> 195\u001b[0;31m         \u001b[0mtorch\u001b[0m\u001b[0;34m.\u001b[0m\u001b[0mautograd\u001b[0m\u001b[0;34m.\u001b[0m\u001b[0mbackward\u001b[0m\u001b[0;34m(\u001b[0m\u001b[0mself\u001b[0m\u001b[0;34m,\u001b[0m \u001b[0mgradient\u001b[0m\u001b[0;34m,\u001b[0m \u001b[0mretain_graph\u001b[0m\u001b[0;34m,\u001b[0m \u001b[0mcreate_graph\u001b[0m\u001b[0;34m)\u001b[0m\u001b[0;34m\u001b[0m\u001b[0;34m\u001b[0m\u001b[0m\n\u001b[0m\u001b[1;32m    196\u001b[0m \u001b[0;34m\u001b[0m\u001b[0m\n\u001b[1;32m    197\u001b[0m     \u001b[0;32mdef\u001b[0m \u001b[0mregister_hook\u001b[0m\u001b[0;34m(\u001b[0m\u001b[0mself\u001b[0m\u001b[0;34m,\u001b[0m \u001b[0mhook\u001b[0m\u001b[0;34m)\u001b[0m\u001b[0;34m:\u001b[0m\u001b[0;34m\u001b[0m\u001b[0;34m\u001b[0m\u001b[0m\n",
            "\u001b[0;32m/usr/local/lib/python3.6/dist-packages/torch/autograd/__init__.py\u001b[0m in \u001b[0;36mbackward\u001b[0;34m(tensors, grad_tensors, retain_graph, create_graph, grad_variables)\u001b[0m\n\u001b[1;32m     97\u001b[0m     Variable._execution_engine.run_backward(\n\u001b[1;32m     98\u001b[0m         \u001b[0mtensors\u001b[0m\u001b[0;34m,\u001b[0m \u001b[0mgrad_tensors\u001b[0m\u001b[0;34m,\u001b[0m \u001b[0mretain_graph\u001b[0m\u001b[0;34m,\u001b[0m \u001b[0mcreate_graph\u001b[0m\u001b[0;34m,\u001b[0m\u001b[0;34m\u001b[0m\u001b[0;34m\u001b[0m\u001b[0m\n\u001b[0;32m---> 99\u001b[0;31m         allow_unreachable=True)  # allow_unreachable flag\n\u001b[0m\u001b[1;32m    100\u001b[0m \u001b[0;34m\u001b[0m\u001b[0m\n\u001b[1;32m    101\u001b[0m \u001b[0;34m\u001b[0m\u001b[0m\n",
            "\u001b[0;31mKeyboardInterrupt\u001b[0m: "
          ]
        }
      ]
    },
    {
      "cell_type": "markdown",
      "metadata": {
        "id": "GGQg5OE2_shE",
        "colab_type": "text"
      },
      "source": [
        "After 20%, we're getting loss as `nan` and accuracy starts dipping after that. This explains that our RNN model might be experiencing issue with Vanishing Gradients. "
      ]
    },
    {
      "cell_type": "code",
      "metadata": {
        "id": "edJotDdd0_1A",
        "colab_type": "code",
        "colab": {
          "base_uri": "https://localhost:8080/",
          "height": 297
        },
        "outputId": "617bc393-b94f-4e79-f3d3-73980ed6e929"
      },
      "source": [
        "fig, ax1 = plt.subplots()\n",
        "\n",
        "color = 'tab:red'\n",
        "ax1.set_xlabel('Iterations')\n",
        "ax1.set_ylabel('Training loss')\n",
        "ax1.plot(losses, color=color)\n",
        "\n",
        "ax2 = ax1.twinx()  # instantiate a second axes that shares the same x-axis\n",
        "\n",
        "color = 'tab:blue'\n",
        "ax2.set_ylabel('Accuracy')  # we already handled the x-label with ax1\n",
        "ax2.plot(accuracies, color=color)\n",
        "\n",
        "fig.tight_layout()  # otherwise the right y-label is slightly clipped\n",
        "plt.show()\n",
        "\n",
        "# plt.plot(losses, 'r-')\n",
        "# plt.axes()\n",
        "# plt.xlabel('Iterations')\n",
        "# plt.ylabel('Training loss')\n",
        "# plt.show()"
      ],
      "execution_count": 55,
      "outputs": [
        {
          "output_type": "display_data",
          "data": {
            "image/png": "[encoded data removed]",
            "text/plain": [
              "<Figure size 432x288 with 2 Axes>"
            ]
          },
          "metadata": {
            "tags": [],
            "needs_background": "dark"
          }
        }
      ]
    },
    {
      "cell_type": "code",
      "metadata": {
        "id": "deMCi3mi13Wx",
        "colab_type": "code",
        "colab": {}
      },
      "source": [
        ""
      ],
      "execution_count": 0,
      "outputs": []
    }
  ]
}